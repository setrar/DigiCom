{
 "cells": [
  {
   "cell_type": "code",
   "execution_count": 1,
   "id": "cca01231-5df7-46aa-aae9-eeed548ee192",
   "metadata": {},
   "outputs": [],
   "source": [
    "using UHDBindings"
   ]
  },
  {
   "cell_type": "code",
   "execution_count": 2,
   "id": "c8ea8160-efc4-483f-833c-e6a294b641ae",
   "metadata": {},
   "outputs": [
    {
     "data": {
      "text/plain": [
       "main (generic function with 1 method)"
      ]
     },
     "execution_count": 2,
     "metadata": {},
     "output_type": "execute_result"
    }
   ],
   "source": [
    "function main()\n",
    "\t# ---------------------------------------------------- \n",
    "\t# --- Physical layer and RF parameters \n",
    "\t# ---------------------------------------------------- \n",
    "\tcarrierFreq\t= 868e6; \t# --- The carrier frequency (Hz)\t\n",
    "\tsamplingRate\t= 16e6;         # --- Targeted bandwidth (Hz)\n",
    "\trxGain\t\t= 30.0;         # --- Rx gain (dB)\n",
    "\tnbSamples\t= 4096;         # --- Desired number of samples\n",
    "\n",
    "\t# ---------------------------------------------------- \n",
    "\t# --- Getting all system with function calls  \n",
    "\t# ---------------------------------------------------- \n",
    "\t# --- Creating the radio resource \n",
    "\t# The first parameter is for specific parameter (FPGA bitstream, IP address)\n",
    "\tradio\t= openUHD(carrierFreq,samplingRate,rxGain);\n",
    "\t# --- Display the current radio configuration\n",
    "\tprint(radio);\n",
    "\t# --- Getting a buffer from the radio \n",
    "\tsigAll\t= recv(radio,nbSamples);\n",
    "\t# --- Release the radio resources\n",
    "\tclose(radio); \n",
    "end"
   ]
  },
  {
   "cell_type": "code",
   "execution_count": 3,
   "id": "c368a514-d960-4b60-a5cd-b19fd96ab925",
   "metadata": {},
   "outputs": [
    {
     "name": "stdout",
     "output_type": "stream",
     "text": [
      "\u001b[93m\u001b[1m┌Rx Warning: \u001b[22m\u001b[39mEffective carrier frequency is 867.9999999999992 MHz and not 868.0 MHz\n",
      "\u001b[93m\u001b[1m┌Tx Warning: \u001b[22m\u001b[39mEffective carrier frequency is 867.9999999999992 MHz and not 868.0 MHz\n",
      "\u001b[92m\u001b[1m┌Rx: \u001b[22m\u001b[39mCurrent UHD Configuration in Rx mode\n",
      "\u001b[92m\u001b[1m|\u001b[22m\u001b[39m Carrier Frequency: 868.000 MHz\n",
      "\u001b[92m\u001b[1m|\u001b[22m\u001b[39m Sampling Frequency: 16.000 MHz\n",
      "\u001b[92m\u001b[1m└ \u001b[22m\u001b[39m Rx Gain: 30.00 dB\n",
      "\u001b[94m\u001b[1m┌Tx: \u001b[22m\u001b[39mCurrent UHD Configuration in Tx mode\n",
      "\u001b[94m\u001b[1m|\u001b[22m\u001b[39m Carrier Frequency: 868.000 MHz\n",
      "\u001b[94m\u001b[1m|\u001b[22m\u001b[39m Sampling Frequency: 16.000 MHz\n",
      "\u001b[94m\u001b[1m└ \u001b[22m\u001b[39m Tx Gain: 30.00 dB\n"
     ]
    },
    {
     "name": "stderr",
     "output_type": "stream",
     "text": [
      "[INFO] [UHD] Mac OS; Clang version 12.0.0 (/home/mose/.julia/dev/BinaryBuilderBase/deps/downloads/llvm-project.git d28af7c654d8db0b68c175db5ce212d74fb5e9bc); Boost_107600; UHD_4.1.0.HEAD-0-g6bd0be9c\n",
      "[INFO] [B200] Detected Device: B200mini\n",
      "[INFO] [B200] Operating over USB 3.\n",
      "[INFO] [B200] Initialize CODEC control...\n",
      "[INFO] [B200] Initialize Radio control...\n",
      "[INFO] [B200] Performing register loopback test... \n",
      "[INFO] [B200] Register loopback test passed\n",
      "[INFO] [B200] Setting master clock rate selection to 'automatic'.\n",
      "[INFO] [B200] Asking for clock rate 16.000000 MHz... \n",
      "[INFO] [B200] Actually got clock rate 16.000000 MHz.\n"
     ]
    },
    {
     "name": "stdout",
     "output_type": "stream",
     "text": [
      "\n"
     ]
    },
    {
     "name": "stderr",
     "output_type": "stream",
     "text": [
      "\u001b[36m\u001b[1m[ \u001b[22m\u001b[39m\u001b[36m\u001b[1mInfo: \u001b[22m\u001b[39mUSRP device is now closed.\n"
     ]
    }
   ],
   "source": [
    "main()"
   ]
  },
  {
   "cell_type": "code",
   "execution_count": null,
   "id": "c4e3e6e0-8dc9-45c6-9f49-800a736b43d5",
   "metadata": {},
   "outputs": [],
   "source": []
  }
 ],
 "metadata": {
  "kernelspec": {
   "display_name": "Julia 1.9.3",
   "language": "julia",
   "name": "julia-1.9"
  },
  "language_info": {
   "file_extension": ".jl",
   "mimetype": "application/julia",
   "name": "julia",
   "version": "1.9.4"
  }
 },
 "nbformat": 4,
 "nbformat_minor": 5
}
