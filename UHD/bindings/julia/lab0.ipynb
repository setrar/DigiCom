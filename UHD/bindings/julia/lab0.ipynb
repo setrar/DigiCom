{
 "cells": [
  {
   "cell_type": "markdown",
   "id": "d403b518-3439-41c6-8184-425411218853",
   "metadata": {},
   "source": [
    "# Lab 0 \n",
    "\n",
    "Outdoor Cell: \n",
    "\n",
    "- band n41 (2.6Ghz), 20 Mhz\n",
    "- sampling rate fs: 30.72 MS/s\n",
    "- rxgain -> max value\n",
    "- DL frequency ( center 2585.1 Mhz)\n",
    "- samples 20ms@3072 ms/s -> 614400\n",
    "  \n",
    "for (ever) {\n",
    "\n",
    "   get 20 ms of signal; ( get-samples-and-stop)\n",
    "\n",
    "   run la session:\n",
    "\n",
    "   - spectrum + plot in dB (20log10(abs(fft( x * s )\n",
    "   - pss correlation -> plot\n",
    "   - frq offset estimation -> offset output\n",
    "\n",
    "}\n"
   ]
  },
  {
   "cell_type": "code",
   "execution_count": 1,
   "id": "34327f40-7806-4010-9236-4e4add0a6eba",
   "metadata": {},
   "outputs": [],
   "source": [
    "using UHDBindings\n",
    "using Plots"
   ]
  },
  {
   "cell_type": "code",
   "execution_count": 2,
   "id": "e59cd97c-bf20-44bf-90a2-f4c444f7d919",
   "metadata": {},
   "outputs": [],
   "source": [
    "# ---------------------------------------------------- \n",
    "# --- Physical layer and RF parameters \n",
    "# ---------------------------------------------------- \n",
    "carrierFreq\t  = 2585e6; \t# --- The carrier frequency (Hz)\t\n",
    "samplingRate  =  30.72e6;  # --- Targeted bandwidth (Hz)\n",
    "rxGain\t\t  =  70.0;  # --- Rx gain (dB)\n",
    "nbSamples\t  =  614400;  # --- Desired number of samples"
   ]
  },
  {
   "cell_type": "code",
   "execution_count": 3,
   "id": "d64e26f0-a429-46fa-992e-5a6a0cd51363",
   "metadata": {},
   "outputs": [
    {
     "name": "stdout",
     "output_type": "stream",
     "text": [
      "\u001b[93m\u001b[1m┌Rx Warning: \u001b[22m\u001b[39mEffective carrier frequency is 2584.999999999999 MHz and not 2585.0 MHz\n",
      "\u001b[93m\u001b[1m┌Rx Warning: \u001b[22m\u001b[39m"
     ]
    },
    {
     "name": "stderr",
     "output_type": "stream",
     "text": [
      "[INFO] [UHD] Mac OS; Clang version 12.0.0 (/home/mose/.julia/dev/BinaryBuilderBase/deps/downloads/llvm-project.git d28af7c654d8db0b68c175db5ce212d74fb5e9bc); Boost_107600; UHD_4.1.0.HEAD-0-g6bd0be9c\n",
      "[INFO] [B200] Detected Device: B200mini\n",
      "[INFO] [B200] Operating over USB 3.\n",
      "[INFO] [B200] Initialize CODEC control...\n",
      "[INFO] [B200] Initialize Radio control...\n",
      "[INFO] [B200] Performing register loopback test... \n",
      "[INFO] [B200] Register loopback test passed\n",
      "[INFO] [B200] Setting master clock rate selection to 'automatic'.\n",
      "[INFO] [B200] Asking for clock rate 16.000000 MHz... \n",
      "[INFO] [B200] Actually got clock rate 16.000000 MHz.\n"
     ]
    },
    {
     "name": "stdout",
     "output_type": "stream",
     "text": [
      "Effective Rate is 30.720000023935356 MHz and not 30.72 MHz\n",
      "\u001b[93m\u001b[1m┌Tx Warning: \u001b[22m\u001b[39mEffective carrier frequency is 2584.999999997615 MHz and not 2585.0 MHz\n",
      "\u001b[93m\u001b[1m┌Tx Warning: \u001b[22m\u001b[39mEffective Rate is 30.720000023935356 MHz and not 30.72 MHz\n"
     ]
    },
    {
     "name": "stderr",
     "output_type": "stream",
     "text": [
      "[INFO] [B200] Asking for clock rate 30.720000 MHz... \n",
      "[INFO] [B200] Actually got clock rate 30.720000 MHz.\n"
     ]
    },
    {
     "name": "stdout",
     "output_type": "stream",
     "text": [
      "\u001b[92m\u001b[1m┌Rx: \u001b[22m\u001b[39mCurrent UHD Configuration in Rx mode\n",
      "\u001b[92m\u001b[1m|\u001b[22m\u001b[39m Carrier Frequency: 2585.000 MHz\n",
      "\u001b[92m\u001b[1m|\u001b[22m\u001b[39m Sampling Frequency: 30.720 MHz\n",
      "\u001b[92m\u001b[1m└ \u001b[22m\u001b[39m Rx Gain: 70.00 dB\n",
      "\u001b[94m\u001b[1m┌Tx: \u001b[22m\u001b[39mCurrent UHD Configuration in Tx mode\n",
      "\u001b[94m\u001b[1m|\u001b[22m\u001b[39m Carrier Frequency: 2585.000 MHz\n",
      "\u001b[94m\u001b[1m|\u001b[22m\u001b[39m Sampling Frequency: 30.720 MHz\n",
      "\u001b[94m\u001b[1m└ \u001b[22m\u001b[39m Tx Gain: 70.00 dB\n"
     ]
    }
   ],
   "source": [
    "# ---------------------------------------------------- \n",
    "# --- Getting all system with function calls  \n",
    "# ---------------------------------------------------- \n",
    "# --- Creating the radio ressource \n",
    "radio\t= openUHD(carrierFreq,samplingRate,rxGain);\n",
    "# --- Display the current radio configuration\n",
    "# Both Tx and Rx sides.\n",
    "print(radio);"
   ]
  },
  {
   "cell_type": "code",
   "execution_count": 4,
   "id": "daccd531-b3cb-49b0-b82b-345011bfbfae",
   "metadata": {},
   "outputs": [
    {
     "name": "stderr",
     "output_type": "stream",
     "text": [
      "OD"
     ]
    }
   ],
   "source": [
    "# --- Getting a buffer from the radio \n",
    "sig\t= recv(radio,nbSamples);"
   ]
  },
  {
   "cell_type": "code",
   "execution_count": 5,
   "id": "413cb663-9571-4a41-8f43-253fe7af8ab5",
   "metadata": {},
   "outputs": [
    {
     "data": {
      "text/plain": [
       "614400-element Vector{ComplexF32}:\n",
       "            0.0f0 + 0.0f0im\n",
       "            0.0f0 + 0.0f0im\n",
       "            0.0f0 + 0.0f0im\n",
       "            0.0f0 + 0.0f0im\n",
       "            0.0f0 + 0.0f0im\n",
       "            0.0f0 + 0.0f0im\n",
       "            0.0f0 + 0.0f0im\n",
       "            0.0f0 + 0.0f0im\n",
       "            0.0f0 + 0.0f0im\n",
       "            0.0f0 + 0.0f0im\n",
       "  -0.0058595524f0 - 0.014648881f0im\n",
       "    0.008789329f0 - 0.0029297762f0im\n",
       "   0.0068056257f0 + 0.0068361443f0im\n",
       "                  ⋮\n",
       "  -0.0016174807f0 - 0.016541028f0im\n",
       "   0.0029297762f0 + 0.0071413293f0im\n",
       "    -0.03421124f0 + 0.014526807f0im\n",
       "  -0.0053712563f0 + 0.00036622203f0im\n",
       "   0.0031434058f0 + 0.010528883f0im\n",
       "   0.0014648881f0 - 0.007415996f0im\n",
       "   -0.009033477f0 - 0.010650957f0im\n",
       "    0.011841179f0 + 0.0016479992f0im\n",
       "   -0.017181916f0 - 0.015472881f0im\n",
       "   -0.008392588f0 + 0.0064088856f0im\n",
       "   -0.006561478f0 + 0.01120029f0im\n",
       " -0.00012207401f0 - 0.008789329f0im"
      ]
     },
     "execution_count": 5,
     "metadata": {},
     "output_type": "execute_result"
    }
   ],
   "source": [
    "sig"
   ]
  },
  {
   "cell_type": "code",
   "execution_count": 6,
   "id": "8d91b1af-f8b6-440d-a3f3-fe382bb32e22",
   "metadata": {},
   "outputs": [
    {
     "name": "stderr",
     "output_type": "stream",
     "text": [
      "OD"
     ]
    }
   ],
   "source": [
    "# This also can be done with pre-allocation \n",
    "buffer = zeros(Complex{Cfloat},nbSamples);\n",
    "recv!(buffer,radio);"
   ]
  },
  {
   "cell_type": "code",
   "execution_count": 7,
   "id": "f1af8c2e-da5e-4d15-b291-a4959754130e",
   "metadata": {},
   "outputs": [
    {
     "data": {
      "text/plain": [
       "614400-element Vector{ComplexF32}:\n",
       "  -0.0018616286f0 - 0.013092438f0im\n",
       "    0.008331551f0 + 0.00039674054f0im\n",
       " -0.00070192554f0 + 0.018646805f0im\n",
       "  -0.0050355527f0 - 0.0021057767f0im\n",
       "   0.0035401462f0 - 0.0051576267f0im\n",
       "      0.0224311f0 + 0.00631733f0im\n",
       "    0.011841179f0 - 0.00570696f0im\n",
       "   0.0021973322f0 + 0.01794488f0im\n",
       "   0.0034180721f0 - 0.0070802923f0im\n",
       "  -0.0027771837f0 - 0.0046998495f0im\n",
       "    -0.00448622f0 - 0.0011597031f0im\n",
       "   0.0054933303f0 + 0.0015869621f0im\n",
       "    0.012543105f0 + 0.011841179f0im\n",
       "                  ⋮\n",
       "   0.0056154043f0 - 0.0033265168f0im\n",
       "  -0.0029908132f0 - 0.00076296256f0im\n",
       "   -0.007049774f0 + 0.01855525f0im\n",
       "   0.0032044428f0 + 0.004181035f0im\n",
       "   0.0018921471f0 + 0.0062257745f0im\n",
       "   -0.011535994f0 - 0.004119998f0im\n",
       "   -0.005767997f0 + 0.0013428141f0im\n",
       "  -0.0043946644f0 + 0.0076296255f0im\n",
       "  -0.0071413293f0 - 0.0043946644f0im\n",
       "  -0.0122989565f0 - 0.0011291846f0im\n",
       "  -0.0007934811f0 + 0.0029602947f0im\n",
       "    0.010315253f0 - 0.006561478f0im"
      ]
     },
     "execution_count": 7,
     "metadata": {},
     "output_type": "execute_result"
    }
   ],
   "source": [
    "buffer"
   ]
  },
  {
   "cell_type": "code",
   "execution_count": 8,
   "id": "a225028d-fdd9-413d-9763-e5c061d5ff3a",
   "metadata": {},
   "outputs": [
    {
     "name": "stdout",
     "output_type": "stream",
     "text": [
      "\n"
     ]
    },
    {
     "name": "stderr",
     "output_type": "stream",
     "text": [
      "\u001b[36m\u001b[1m[ \u001b[22m\u001b[39m\u001b[36m\u001b[1mInfo: \u001b[22m\u001b[39mUSRP device is now closed.\n"
     ]
    }
   ],
   "source": [
    "# --- Release the radio ressources\n",
    "close(radio); "
   ]
  },
  {
   "cell_type": "code",
   "execution_count": null,
   "id": "20820f53-3328-46ae-ac62-59ec64d042f2",
   "metadata": {},
   "outputs": [],
   "source": [
    "# --- Output to signal \n",
    "sig;"
   ]
  },
  {
   "cell_type": "code",
   "execution_count": null,
   "id": "6c5e8dc7-864a-4101-bcc7-a781cb9418c3",
   "metadata": {},
   "outputs": [],
   "source": [
    "plot(buffer, st=:scatter)"
   ]
  },
  {
   "cell_type": "code",
   "execution_count": null,
   "id": "5221c033-1450-43f8-8b47-3e29a4fc86fb",
   "metadata": {},
   "outputs": [],
   "source": [
    "plot(buffer; labels=[\"signal\", \"amplitude\", \"phase\"])"
   ]
  },
  {
   "cell_type": "code",
   "execution_count": null,
   "id": "35c602e0-af8e-4d23-81c8-862c37286f4a",
   "metadata": {},
   "outputs": [],
   "source": []
  }
 ],
 "metadata": {
  "kernelspec": {
   "display_name": "Julia 1.9.3",
   "language": "julia",
   "name": "julia-1.9"
  },
  "language_info": {
   "file_extension": ".jl",
   "mimetype": "application/julia",
   "name": "julia",
   "version": "1.9.4"
  }
 },
 "nbformat": 4,
 "nbformat_minor": 5
}
