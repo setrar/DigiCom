{
 "cells": [
  {
   "cell_type": "markdown",
   "id": "d403b518-3439-41c6-8184-425411218853",
   "metadata": {},
   "source": [
    "# Lab 0 \n",
    "\n",
    "Outdoor Cell: \n",
    "\n",
    "- band n41 (2.6Ghz), 20 Mhz\n",
    "- sampling rate fs: 30.72 MS/s\n",
    "- rxgain -> max value\n",
    "- DL frequency ( center 2585.1 Mhz)\n",
    "- samples 20ms@3072 ms/s -> 614400\n",
    "  \n",
    "for (ever) {\n",
    "\n",
    "   get 20 ms of signal; ( get-samples-and-stop)\n",
    "\n",
    "   run la session:\n",
    "\n",
    "   - spectrum + plot in dB (20log10(abs(fft( x * s )\n",
    "   - pss correlation -> plot\n",
    "   - frq offset estimation -> offset output\n",
    "\n",
    "}\n"
   ]
  },
  {
   "cell_type": "code",
   "execution_count": 1,
   "id": "34327f40-7806-4010-9236-4e4add0a6eba",
   "metadata": {},
   "outputs": [],
   "source": [
    "using UHDBindings\n",
    "using Plots"
   ]
  },
  {
   "cell_type": "code",
   "execution_count": 2,
   "id": "e59cd97c-bf20-44bf-90a2-f4c444f7d919",
   "metadata": {},
   "outputs": [],
   "source": [
    "# ---------------------------------------------------- \n",
    "# --- Physical layer and RF parameters \n",
    "# ---------------------------------------------------- \n",
    "carrierFreq\t  = 2585e6; \t# --- The carrier frequency (Hz)\t\n",
    "samplingRate  =  30.72e6;  # --- Targeted bandwidth (Hz)\n",
    "rxGain\t\t  =  70.0;  # --- Rx gain (dB)\n",
    "nbSamples\t  =  614400;  # --- Desired number of samples"
   ]
  },
  {
   "cell_type": "code",
   "execution_count": 3,
   "id": "d64e26f0-a429-46fa-992e-5a6a0cd51363",
   "metadata": {},
   "outputs": [
    {
     "name": "stdout",
     "output_type": "stream",
     "text": [
      "\u001b[93m\u001b[1m┌Rx Warning: \u001b[22m\u001b[39mEffective carrier frequency is 2584.999999999999 MHz and not 2585.0 MHz\n",
      "\u001b[93m\u001b[1m┌Rx Warning: \u001b[22m\u001b[39m"
     ]
    },
    {
     "name": "stderr",
     "output_type": "stream",
     "text": [
      "[INFO] [UHD] Mac OS; Clang version 12.0.0 (/home/mose/.julia/dev/BinaryBuilderBase/deps/downloads/llvm-project.git d28af7c654d8db0b68c175db5ce212d74fb5e9bc); Boost_107600; UHD_4.1.0.HEAD-0-g6bd0be9c\n",
      "[INFO] [B200] Detected Device: B205mini\n",
      "[INFO] [B200] Operating over USB 3.\n",
      "[INFO] [B200] Initialize CODEC control...\n",
      "[INFO] [B200] Initialize Radio control...\n",
      "[INFO] [B200] Performing register loopback test... \n",
      "[INFO] [B200] Register loopback test passed\n",
      "[INFO] [B200] Setting master clock rate selection to 'automatic'.\n",
      "[INFO] [B200] Asking for clock rate 16.000000 MHz... \n",
      "[INFO] [B200] Actually got clock rate 16.000000 MHz.\n"
     ]
    },
    {
     "name": "stdout",
     "output_type": "stream",
     "text": [
      "Effective Rate is 30.720000023935356 MHz and not 30.72 MHz\n",
      "\u001b[93m\u001b[1m┌Tx Warning: \u001b[22m\u001b[39mEffective carrier frequency is 2584.999999997615 MHz and not 2585.0 MHz\n",
      "\u001b[93m\u001b[1m┌Tx Warning: \u001b[22m\u001b[39mEffective Rate is 30.720000023935356 MHz and not 30.72 MHz\n"
     ]
    },
    {
     "name": "stderr",
     "output_type": "stream",
     "text": [
      "[INFO] [B200] Asking for clock rate 30.720000 MHz... \n",
      "[INFO] [B200] Actually got clock rate 30.720000 MHz.\n"
     ]
    },
    {
     "name": "stdout",
     "output_type": "stream",
     "text": [
      "\u001b[92m\u001b[1m┌Rx: \u001b[22m\u001b[39mCurrent UHD Configuration in Rx mode\n",
      "\u001b[92m\u001b[1m|\u001b[22m\u001b[39m Carrier Frequency: 2585.000 MHz\n",
      "\u001b[92m\u001b[1m|\u001b[22m\u001b[39m Sampling Frequency: 30.720 MHz\n",
      "\u001b[92m\u001b[1m└ \u001b[22m\u001b[39m Rx Gain: 70.00 dB\n",
      "\u001b[94m\u001b[1m┌Tx: \u001b[22m\u001b[39mCurrent UHD Configuration in Tx mode\n",
      "\u001b[94m\u001b[1m|\u001b[22m\u001b[39m Carrier Frequency: 2585.000 MHz\n",
      "\u001b[94m\u001b[1m|\u001b[22m\u001b[39m Sampling Frequency: 30.720 MHz\n",
      "\u001b[94m\u001b[1m└ \u001b[22m\u001b[39m Tx Gain: 70.00 dB\n"
     ]
    }
   ],
   "source": [
    "# ---------------------------------------------------- \n",
    "# --- Getting all system with function calls  \n",
    "# ---------------------------------------------------- \n",
    "# --- Creating the radio ressource \n",
    "radio\t= openUHD(carrierFreq,samplingRate,rxGain);\n",
    "# --- Display the current radio configuration\n",
    "# Both Tx and Rx sides.\n",
    "print(radio);"
   ]
  },
  {
   "cell_type": "code",
   "execution_count": 4,
   "id": "daccd531-b3cb-49b0-b82b-345011bfbfae",
   "metadata": {},
   "outputs": [
    {
     "name": "stdout",
     "output_type": "stream",
     "text": [
      "sig[1:20] = ComplexF32[0.0f0 + 0.0f0im, 0.0f0 + 0.0f0im, 0.0f0 + 0.0f0im, 0.0f0 + 0.0f0im, 0.0f0 + 0.0f0im, 0.0f0 + 0.0f0im, 0.0f0 + 0.0f0im, 0.0f0 + 0.0f0im, 0.0f0 + 0.0f0im, 0.0f0 + 0.0f0im, -0.037568275f0 - 0.1297952f0im, 0.11270483f0 + 0.0014648881f0im, 0.0f0 + 0.111728236f0im, -0.012695697f0 + 0.06585893f0im, 0.019989619f0 - 0.06976529f0im, 0.016602065f0 - 0.03219702f0im, 0.033173613f0 + 0.038544867f0im, 0.0068056257f0 - 0.017090362f0im, -0.09710988f0 - 0.034638498f0im, -0.029267244f0 - 0.023926506f0im]\n"
     ]
    },
    {
     "name": "stderr",
     "output_type": "stream",
     "text": [
      "OD"
     ]
    }
   ],
   "source": [
    "# --- Getting a buffer from the radio \n",
    "sig\t= recv(radio,nbSamples); @show sig[1:20];"
   ]
  },
  {
   "cell_type": "code",
   "execution_count": 5,
   "id": "8d91b1af-f8b6-440d-a3f3-fe382bb32e22",
   "metadata": {},
   "outputs": [
    {
     "name": "stdout",
     "output_type": "stream",
     "text": [
      "buffer[1:20] = ComplexF32[0.11310157f0 + 0.016785176f0im, -0.061433744f0 - 0.040833756f0im, -0.033936575f0 - 0.038789015f0im, -0.011902216f0 + 0.0046998495f0im, 0.19486064f0 + 0.068514034f0im, 0.088442616f0 + 0.013580733f0im, -0.0037537757f0 - 0.16406746f0im, -0.11157564f0 + 0.10730305f0im, -0.035523538f0 + 0.27088222f0im, 0.043061607f0 + 0.03668324f0im, 0.10882898f0 + 0.11246068f0im, 0.18915367f0 + 0.19409767f0im, 0.030487984f0 + 0.08938869f0im, -0.15863517f0 + 0.06988737f0im, -0.07568589f0 + 0.030518502f0im, -0.08047729f0 - 0.040040273f0im, 0.009430218f0 + 0.27713853f0im, 0.21793263f0 + 0.16425058f0im, -0.115634605f0 - 0.17020169f0im, 0.017548138f0 - 0.014893029f0im]\n"
     ]
    },
    {
     "name": "stderr",
     "output_type": "stream",
     "text": [
      "OD"
     ]
    }
   ],
   "source": [
    "# This also can be done with pre-allocation \n",
    "buffer = zeros(Complex{Cfloat},nbSamples);\n",
    "recv!(buffer,radio); @show buffer[1:20];"
   ]
  },
  {
   "cell_type": "code",
   "execution_count": 6,
   "id": "a225028d-fdd9-413d-9763-e5c061d5ff3a",
   "metadata": {},
   "outputs": [
    {
     "name": "stdout",
     "output_type": "stream",
     "text": [
      "\n"
     ]
    },
    {
     "name": "stderr",
     "output_type": "stream",
     "text": [
      "\u001b[36m\u001b[1m[ \u001b[22m\u001b[39m\u001b[36m\u001b[1mInfo: \u001b[22m\u001b[39mUSRP device is now closed.\n"
     ]
    }
   ],
   "source": [
    "# --- Release the radio ressources\n",
    "close(radio); "
   ]
  },
  {
   "cell_type": "code",
   "execution_count": 7,
   "id": "20820f53-3328-46ae-ac62-59ec64d042f2",
   "metadata": {},
   "outputs": [
    {
     "data": {
      "text/plain": [
       "1.0:0.001:614400.0"
      ]
     },
     "execution_count": 7,
     "metadata": {},
     "output_type": "execute_result"
    }
   ],
   "source": [
    "# --- Output to signal \n",
    "N = length(buffer);\n",
    "t = 1:0.001:N"
   ]
  },
  {
   "cell_type": "code",
   "execution_count": 8,
   "id": "6c5e8dc7-864a-4101-bcc7-a781cb9418c3",
   "metadata": {},
   "outputs": [],
   "source": [
    "pl1 = plot(abs.(buffer))\n",
    "savefig(pl1, \"images/pl1_plot.png\");"
   ]
  },
  {
   "cell_type": "markdown",
   "id": "65038714-d64c-4ac4-b942-fdba7c104d8d",
   "metadata": {},
   "source": [
    "<img src=images/pl1_plot.png width='' height='' > </img>"
   ]
  },
  {
   "cell_type": "code",
   "execution_count": 9,
   "id": "9f9276ed-ef77-4ec5-a3af-7233feed8de6",
   "metadata": {},
   "outputs": [],
   "source": [
    "pl2 = plot(buffer, st=:scatter)\n",
    "savefig(pl2, \"images/pl2_plot.png\");"
   ]
  },
  {
   "cell_type": "markdown",
   "id": "f7106acd-e42b-45bc-a10e-c290bd37d0ed",
   "metadata": {},
   "source": [
    "<img src=images/pl2_plot.png width='' height='' > </img>"
   ]
  },
  {
   "cell_type": "code",
   "execution_count": null,
   "id": "a58d9440-c475-4218-89bb-f99cf2462c17",
   "metadata": {},
   "outputs": [],
   "source": []
  }
 ],
 "metadata": {
  "kernelspec": {
   "display_name": "Julia 1.9.3",
   "language": "julia",
   "name": "julia-1.9"
  },
  "language_info": {
   "file_extension": ".jl",
   "mimetype": "application/julia",
   "name": "julia",
   "version": "1.10.0"
  }
 },
 "nbformat": 4,
 "nbformat_minor": 5
}
