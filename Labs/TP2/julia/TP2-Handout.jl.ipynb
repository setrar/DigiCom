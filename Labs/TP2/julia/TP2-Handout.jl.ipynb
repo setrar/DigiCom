{
 "cells": [
  {
   "cell_type": "markdown",
   "id": "5d7a332b-8eb9-4343-8ddf-6d97a9e10ccb",
   "metadata": {},
   "source": []
  },
  {
   "cell_type": "code",
   "execution_count": 6,
   "id": "797e2c35-72f5-4ffe-b69d-911739ff2a0e",
   "metadata": {},
   "outputs": [],
   "source": [
    "## Receive the signal\n",
    "include(\"rxsignal_withchannelandfreqoff.jl\");"
   ]
  },
  {
   "cell_type": "code",
   "execution_count": 7,
   "id": "8fa29d5f-128c-4e96-973a-c6a047846c4d",
   "metadata": {},
   "outputs": [],
   "source": [
    "## Load the template signal\n",
    "include(\"pss2.jl\");"
   ]
  },
  {
   "cell_type": "code",
   "execution_count": 8,
   "id": "50bc0269-0c89-475e-82af-58707a72d997",
   "metadata": {},
   "outputs": [],
   "source": [
    "using FFTW"
   ]
  },
  {
   "cell_type": "code",
   "execution_count": 9,
   "id": "4d933994-79f2-44dc-a833-c6321544d2a3",
   "metadata": {},
   "outputs": [],
   "source": [
    "## Load the useful math operations\n",
    "include(\"operations.jl\");"
   ]
  },
  {
   "cell_type": "code",
   "execution_count": 10,
   "id": "5d4eb3a2-d824-4288-a3bc-b2f0626bf231",
   "metadata": {},
   "outputs": [
    {
     "name": "stdout",
     "output_type": "stream",
     "text": [
      "size(𝑅ₚₛₛ³) = (616447, 1)\n"
     ]
    }
   ],
   "source": [
    "## Assign the received signal a variable Ŝᵣₓ³\n",
    "𝑅ₚₛₛ³ = rxs3; # RX Received Signal 3 File Handle\n",
    "@show size(𝑅ₚₛₛ³); "
   ]
  },
  {
   "cell_type": "code",
   "execution_count": 11,
   "id": "5138fb58-ed24-4186-8d44-264a359286bb",
   "metadata": {},
   "outputs": [],
   "source": [
    "using LinearAlgebra"
   ]
  },
  {
   "cell_type": "code",
   "execution_count": 12,
   "id": "80a7acec-52b5-4a7d-87a5-a20ae449f222",
   "metadata": {},
   "outputs": [
    {
     "name": "stdout",
     "output_type": "stream",
     "text": [
      "size(𝐻ₚₛₛ²) = (2192,)\n"
     ]
    }
   ],
   "source": [
    "## Assign the template signal a variable 𝐻ₚₛₛ²\n",
    "## convert the signal in time domain\n",
    "Pₚₛₛ² = pss_2; # File Handle\n",
    "Hₚₛₛ²ᵀ = transpose.(Pₚₛₛ²); # Hessian Transpose ?\n",
    "𝐻ₚₛₛ² = Fᴵ(Hₚₛₛ²ᵀ); # S Slanted (fourier transform) in time domain\n",
    "𝐻ₚₛₛ² ./= norm(𝐻ₚₛₛ²);\n",
    "𝐻ₚₛₛ² = 𝐻ₚₛₛ²[(end-143):end] ⧺ 𝐻ₚₛₛ² ; @show size(𝐻ₚₛₛ²); # end is 2048 in this case, concat math "
   ]
  },
  {
   "cell_type": "code",
   "execution_count": 13,
   "id": "21f5a024-9e19-47b7-8572-06028ad78b7c",
   "metadata": {},
   "outputs": [],
   "source": [
    "## Prepare the template signal for convolution\n",
    "𝐻̅ₚₛₛ² = ⦰(𝐻ₚₛₛ²); # reverse #typed H\\overbar\n",
    "𝐻̅ₚₛₛ²ᴴ = conj(𝐻̅ₚₛₛ²); # conjugate "
   ]
  },
  {
   "cell_type": "code",
   "execution_count": 14,
   "id": "90e9fbe3-a72c-449f-a231-8aaadf7267af",
   "metadata": {},
   "outputs": [],
   "source": [
    "using DSP"
   ]
  },
  {
   "cell_type": "code",
   "execution_count": 15,
   "id": "10271271-aab9-4219-85dc-862586ee0b25",
   "metadata": {},
   "outputs": [
    {
     "name": "stdout",
     "output_type": "stream",
     "text": [
      "size(𝐻̂ₚₛₛ²) = (618638, 1)\n"
     ]
    }
   ],
   "source": [
    "## Perform the convolution between the 2 signals\n",
    "𝐻̂ₚₛₛ² = 10 * log10.(abs.( 𝑅ₚₛₛ³ ⊗ 𝐻̅ₚₛₛ²ᴴ )); @show size( 𝐻̂ₚₛₛ² );  #typed \\itH\\hat"
   ]
  },
  {
   "cell_type": "code",
   "execution_count": 16,
   "id": "60d94412-e84a-4790-a995-de8ca1f3e041",
   "metadata": {},
   "outputs": [
    {
     "name": "stdout",
     "output_type": "stream",
     "text": [
      "(Ĉᵩ², 𝑁̂𝑓²) = (50.649042476081405, CartesianIndex(6628, 1))\n"
     ]
    }
   ],
   "source": [
    "# Find maximum value and its index\n",
    "Ĉᵩ², 𝑁̂𝑓² = argmax(𝐻̂ₚₛₛ²); @show Ĉᵩ², 𝑁̂𝑓²;"
   ]
  },
  {
   "cell_type": "code",
   "execution_count": 17,
   "id": "de58f8ca-37a0-459a-8b36-6b3f6aaeaf5f",
   "metadata": {},
   "outputs": [
    {
     "data": {
      "text/plain": [
       "4436"
      ]
     },
     "execution_count": 17,
     "metadata": {},
     "output_type": "execute_result"
    }
   ],
   "source": [
    "θ₁ = 144\n",
    "θ₂ = 2048\n",
    "getindex(𝑁̂𝑓², 1) - ( θ₂ + θ₁ )"
   ]
  },
  {
   "cell_type": "code",
   "execution_count": 18,
   "id": "b04a0af2-8a12-4a4f-bde8-568df746b7b5",
   "metadata": {},
   "outputs": [],
   "source": [
    "using Plots"
   ]
  },
  {
   "cell_type": "code",
   "execution_count": 19,
   "id": "999aac1f-2c78-4155-b9b7-597cb14cd256",
   "metadata": {},
   "outputs": [],
   "source": [
    "# Plot the result\n",
    "m2_chan_plot = plot(𝐻̂ₚₛₛ², xlabel=\"Sample\", ylabel=\"Power (dB)\", title=\"Convolution Result\", ylim=(-20, 60))\n",
    "savefig(m2_chan_plot,\"images/m2_chan_plot.png\");"
   ]
  },
  {
   "cell_type": "markdown",
   "id": "309345d1-3697-406f-9e9f-553044004cd6",
   "metadata": {},
   "source": [
    "<img src=images/m2_chan_plot.png width='' heigth='' > </img>"
   ]
  },
  {
   "cell_type": "code",
   "execution_count": 20,
   "id": "46c284c7-8c7f-4fc8-95f5-7b55acb999bd",
   "metadata": {},
   "outputs": [
    {
     "data": {
      "text/plain": [
       "freq_offset_est (generic function with 1 method)"
      ]
     },
     "execution_count": 20,
     "metadata": {},
     "output_type": "execute_result"
    }
   ],
   "source": [
    "########################################################\n",
    "# Frequency Offset Estimator Function\n",
    "########################################################\n",
    "function freq_offset_est(𝑅ₚₛₛ, 𝐻ₚₛₛ, Nf, m, 𝑓ₛ)\n",
    "\n",
    "    # Frequency offset estimator\n",
    "    Y = zeros(ComplexF64, length(m));\n",
    "    L = length(𝐻ₚₛₛ)\n",
    "    t = 0:(1/𝑓ₛ):((L-1)/𝑓ₛ)\n",
    "\n",
    "    signal_part = 𝑅ₚₛₛ[Nf:(Nf + L -1)]; @show size( signal_part )\n",
    "    for j = 1:length(m)\n",
    "        Y[j] = Y[j] + abs.(∑(exp.(-2*pi*im*m[j].*t) .* conj(𝐻ₚₛₛ) .* ⦰(signal_part)))^2;\n",
    "    end\n",
    "\n",
    "    return Y\n",
    "end"
   ]
  },
  {
   "cell_type": "code",
   "execution_count": 21,
   "id": "a0092c3a-9186-4369-ac2a-551a6492efec",
   "metadata": {},
   "outputs": [
    {
     "name": "stdout",
     "output_type": "stream",
     "text": [
      "N𝑓 = 4437\n"
     ]
    }
   ],
   "source": [
    "𝑓ₛ = 61.44e6 # Msamples/s.\n",
    "\n",
    "Δ𝑓 = 10.0\n",
    "m = -7500.:Δ𝑓:7500.\n",
    "\n",
    "N𝑓 = getindex(𝑁̂𝑓², 1) - length(𝐻ₚₛₛ²) + 1; @show N𝑓;"
   ]
  },
  {
   "cell_type": "code",
   "execution_count": 22,
   "id": "83a8b7f6-426f-40bb-8ce8-92d37277f0c5",
   "metadata": {},
   "outputs": [
    {
     "name": "stdout",
     "output_type": "stream",
     "text": [
      "size(signal_part) = (2192,)\n"
     ]
    }
   ],
   "source": [
    "# Grab the function Profs Frequency Offset with his values\n",
    "Y = freq_offset_est(𝑅ₚₛₛ³, 𝐻ₚₛₛ², N𝑓, m, 𝑓ₛ); # @show Y"
   ]
  },
  {
   "cell_type": "code",
   "execution_count": 23,
   "id": "84f339a3-f660-4b76-b896-5ed1342f14f3",
   "metadata": {},
   "outputs": [
    {
     "name": "stdout",
     "output_type": "stream",
     "text": [
      "10 * log10(N̂𝑓) = 88.46888484427753\n",
      "m̂ = 587\n"
     ]
    }
   ],
   "source": [
    "N̂𝑓, m̂ = argmax(abs.(Y)); \n",
    "@show (10 * log10(N̂𝑓));\n",
    "@show (m̂);"
   ]
  },
  {
   "cell_type": "code",
   "execution_count": 24,
   "id": "309e0097-40a1-479e-8fb5-488e7404b9e6",
   "metadata": {},
   "outputs": [],
   "source": [
    "cfo_estim_plot = \n",
    "plot(10 * log10.(abs.(Y)), xlabel=\"Sample\", ylabel=\"Power (dB)\", title=\"Estimation Result\")\n",
    "scatter!((m̂, (10 * log10(N̂𝑓))), color=\"red\", label=\"m̂\")\n",
    "savefig(cfo_estim_plot,\"images/cfo_estim_plot.png\");"
   ]
  },
  {
   "cell_type": "markdown",
   "id": "5301791e-2677-498b-b257-0d214df42660",
   "metadata": {},
   "source": [
    "<img src=images/cfo_estim_plot.png width='' height='' > </img>"
   ]
  },
  {
   "cell_type": "code",
   "execution_count": 42,
   "id": "1acbfe45-5d64-4fff-a087-29814b4b3916",
   "metadata": {},
   "outputs": [
    {
     "data": {
      "text/plain": [
       "compensate_cfo (generic function with 2 methods)"
      ]
     },
     "execution_count": 42,
     "metadata": {},
     "output_type": "execute_result"
    }
   ],
   "source": [
    "# Compensate CFO by multiplying the received signal with a complex exponential\n",
    "function compensate_cfo(𝑅ₚₛₛ, N̂𝑓, 𝑓ₛ, Npss)\n",
    "    # Generate a complex exponential with the specified frequency offset\n",
    "    𝑅̂ₚₛₛ = 𝑅ₚₛₛ .* exp.(-2π * im * collect(1:4*Npss) * (N̂𝑓/𝑓ₛ))\n",
    "    return 𝑅̂ₚₛₛ\n",
    "end"
   ]
  },
  {
   "cell_type": "code",
   "execution_count": 64,
   "id": "4191b3e2-8425-47ff-82cb-df68d85840f4",
   "metadata": {},
   "outputs": [
    {
     "data": {
      "text/plain": [
       "2192"
      ]
     },
     "execution_count": 64,
     "metadata": {},
     "output_type": "execute_result"
    }
   ],
   "source": [
    "(m̂+512)-m̂\n",
    "Npss = θ₂ + θ₁"
   ]
  },
  {
   "cell_type": "code",
   "execution_count": 65,
   "id": "8aa3e327-2fe1-4f3a-847a-11165dc4b80d",
   "metadata": {},
   "outputs": [
    {
     "name": "stdout",
     "output_type": "stream",
     "text": [
      "(m̂, size(𝑅̅ₚₛₛ)) = (587, (2192,))\n"
     ]
    },
    {
     "data": {
      "text/plain": [
       "(587, (2192,))"
      ]
     },
     "execution_count": 65,
     "metadata": {},
     "output_type": "execute_result"
    }
   ],
   "source": [
    "𝑅̅ₚₛₛ = 𝑅ₚₛₛ³[N𝑓:(N𝑓+Npss)-1]; @show m̂, size(𝑅̅ₚₛₛ)"
   ]
  },
  {
   "cell_type": "code",
   "execution_count": 66,
   "id": "058b6546-836c-4eb9-b4f9-e860f2b56cc8",
   "metadata": {},
   "outputs": [
    {
     "ename": "LoadError",
     "evalue": "DimensionMismatch: arrays could not be broadcast to a common size; got a dimension with lengths 2192 and 8768",
     "output_type": "error",
     "traceback": [
      "DimensionMismatch: arrays could not be broadcast to a common size; got a dimension with lengths 2192 and 8768",
      "",
      "Stacktrace:",
      " [1] _bcs1",
      "   @ ./broadcast.jl:529 [inlined]",
      " [2] _bcs",
      "   @ ./broadcast.jl:523 [inlined]",
      " [3] broadcast_shape",
      "   @ ./broadcast.jl:517 [inlined]",
      " [4] combine_axes",
      "   @ ./broadcast.jl:512 [inlined]",
      " [5] instantiate",
      "   @ ./broadcast.jl:294 [inlined]",
      " [6] materialize",
      "   @ ./broadcast.jl:873 [inlined]",
      " [7] compensate_cfo(𝑅ₚₛₛ::Vector{ComplexF64}, N̂𝑓::Float64, 𝑓ₛ::Float64, Npss::Int64)",
      "   @ Main ./In[42]:4",
      " [8] top-level scope",
      "   @ In[66]:1"
     ]
    }
   ],
   "source": [
    "Y = compensate_cfo(𝑅̅ₚₛₛ, N̂𝑓, 𝑓ₛ, Npss)"
   ]
  },
  {
   "cell_type": "markdown",
   "id": "2d554652-6dc1-4d6a-9200-a1f3fd4de475",
   "metadata": {},
   "source": [
    "```julia\n",
    "using Plots\n",
    "\n",
    "# Example usage\n",
    "y = d # Your complex signal here\n",
    "\n",
    "# Extract real and imaginary components\n",
    "I_values = real(y)\n",
    "Q_values = imag(y)\n",
    "\n",
    "# Plot I/Q constellation\n",
    "scatter(I_values, Q_values, xlabel=\"In-phase (I)\", ylabel=\"Quadrature (Q)\", label=\"Constellation Points\", ratio=1, legend=:bottomright)\n",
    "```"
   ]
  },
  {
   "cell_type": "code",
   "execution_count": null,
   "id": "a2470163-06c6-4be5-8713-997944b7dec0",
   "metadata": {},
   "outputs": [],
   "source": []
  }
 ],
 "metadata": {
  "kernelspec": {
   "display_name": "Julia 1.9.3",
   "language": "julia",
   "name": "julia-1.9"
  },
  "language_info": {
   "file_extension": ".jl",
   "mimetype": "application/julia",
   "name": "julia",
   "version": "1.9.4"
  }
 },
 "nbformat": 4,
 "nbformat_minor": 5
}
