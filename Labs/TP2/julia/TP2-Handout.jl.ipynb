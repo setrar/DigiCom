{
 "cells": [
  {
   "cell_type": "markdown",
   "id": "5d7a332b-8eb9-4343-8ddf-6d97a9e10ccb",
   "metadata": {},
   "source": []
  },
  {
   "cell_type": "code",
   "execution_count": 1,
   "id": "797e2c35-72f5-4ffe-b69d-911739ff2a0e",
   "metadata": {},
   "outputs": [],
   "source": [
    "## Receive the signal\n",
    "include(\"rxsignal_withchannelandfreqoff.jl\");"
   ]
  },
  {
   "cell_type": "code",
   "execution_count": 2,
   "id": "8fa29d5f-128c-4e96-973a-c6a047846c4d",
   "metadata": {},
   "outputs": [],
   "source": [
    "## Load the template signal\n",
    "include(\"pss2.jl\");"
   ]
  },
  {
   "cell_type": "code",
   "execution_count": 3,
   "id": "50bc0269-0c89-475e-82af-58707a72d997",
   "metadata": {},
   "outputs": [],
   "source": [
    "using FFTW"
   ]
  },
  {
   "cell_type": "code",
   "execution_count": 4,
   "id": "4d933994-79f2-44dc-a833-c6321544d2a3",
   "metadata": {},
   "outputs": [],
   "source": [
    "## Load the useful math operations\n",
    "include(\"operations.jl\");"
   ]
  },
  {
   "cell_type": "code",
   "execution_count": 5,
   "id": "5d4eb3a2-d824-4288-a3bc-b2f0626bf231",
   "metadata": {},
   "outputs": [
    {
     "name": "stdout",
     "output_type": "stream",
     "text": [
      "size(𝑅ₚₛₛ³) = (616447, 1)\n"
     ]
    }
   ],
   "source": [
    "## Assign the received signal a variable Ŝᵣₓ³\n",
    "𝑅ₚₛₛ³ = rxs3; # RX Received Signal 3 File Handle\n",
    "@show size(𝑅ₚₛₛ³); "
   ]
  },
  {
   "cell_type": "code",
   "execution_count": 6,
   "id": "5138fb58-ed24-4186-8d44-264a359286bb",
   "metadata": {},
   "outputs": [],
   "source": [
    "using LinearAlgebra"
   ]
  },
  {
   "cell_type": "code",
   "execution_count": 7,
   "id": "80a7acec-52b5-4a7d-87a5-a20ae449f222",
   "metadata": {},
   "outputs": [
    {
     "name": "stdout",
     "output_type": "stream",
     "text": [
      "size(𝐻ₚₛₛ²) = (2192,)\n"
     ]
    }
   ],
   "source": [
    "## Assign the template signal a variable 𝐻ₚₛₛ²\n",
    "## convert the signal in time domain\n",
    "Pₚₛₛ² = pss_2; # File Handle\n",
    "Hₚₛₛ²ᵀ = transpose.(Pₚₛₛ²); # Hessian Transpose ?\n",
    "𝐻ₚₛₛ² = Fᴵ(Hₚₛₛ²ᵀ); # S Slanted (fourier transform) in time domain\n",
    "𝐻ₚₛₛ² ./= norm(𝐻ₚₛₛ²);\n",
    "𝐻ₚₛₛ² = 𝐻ₚₛₛ²[(end-143):end] ⧺ 𝐻ₚₛₛ² ; @show size(𝐻ₚₛₛ²); # end is 2048 in this case, concat math "
   ]
  },
  {
   "cell_type": "code",
   "execution_count": 8,
   "id": "21f5a024-9e19-47b7-8572-06028ad78b7c",
   "metadata": {},
   "outputs": [],
   "source": [
    "## Prepare the template signal for convolution\n",
    "𝐻̅ₚₛₛ² = ⦰(𝐻ₚₛₛ²); # reverse #typed H\\overbar\n",
    "𝐻̅ₚₛₛ²ᴴ = conj(𝐻̅ₚₛₛ²); # conjugate "
   ]
  },
  {
   "cell_type": "code",
   "execution_count": 9,
   "id": "90e9fbe3-a72c-449f-a231-8aaadf7267af",
   "metadata": {},
   "outputs": [],
   "source": [
    "using DSP"
   ]
  },
  {
   "cell_type": "code",
   "execution_count": 10,
   "id": "10271271-aab9-4219-85dc-862586ee0b25",
   "metadata": {},
   "outputs": [
    {
     "name": "stdout",
     "output_type": "stream",
     "text": [
      "size(𝐻̂ₚₛₛ²) = (618638, 1)\n"
     ]
    }
   ],
   "source": [
    "## Perform the convolution between the 2 signals\n",
    "𝐻̂ₚₛₛ² = 10 * log10.(abs.( 𝑅ₚₛₛ³ ⊗ 𝐻̅ₚₛₛ²ᴴ )); @show size( 𝐻̂ₚₛₛ² );  #typed \\itH\\hat"
   ]
  },
  {
   "cell_type": "code",
   "execution_count": 11,
   "id": "60d94412-e84a-4790-a995-de8ca1f3e041",
   "metadata": {},
   "outputs": [
    {
     "name": "stdout",
     "output_type": "stream",
     "text": [
      "(Ĉᵩ², 𝑁̂𝑓²) = (50.649042476081405, CartesianIndex(6628, 1))\n"
     ]
    }
   ],
   "source": [
    "# Find maximum value and its index\n",
    "Ĉᵩ², 𝑁̂𝑓² = argmax(𝐻̂ₚₛₛ²); @show Ĉᵩ², 𝑁̂𝑓²;"
   ]
  },
  {
   "cell_type": "code",
   "execution_count": 12,
   "id": "de58f8ca-37a0-459a-8b36-6b3f6aaeaf5f",
   "metadata": {},
   "outputs": [
    {
     "data": {
      "text/plain": [
       "4436"
      ]
     },
     "execution_count": 12,
     "metadata": {},
     "output_type": "execute_result"
    }
   ],
   "source": [
    "θ₁ = 144\n",
    "θ₂ = 2048\n",
    "getindex(𝑁̂𝑓², 1) - ( θ₂ + θ₁ )"
   ]
  },
  {
   "cell_type": "code",
   "execution_count": 13,
   "id": "b04a0af2-8a12-4a4f-bde8-568df746b7b5",
   "metadata": {},
   "outputs": [],
   "source": [
    "using Plots"
   ]
  },
  {
   "cell_type": "code",
   "execution_count": 14,
   "id": "999aac1f-2c78-4155-b9b7-597cb14cd256",
   "metadata": {},
   "outputs": [],
   "source": [
    "# Plot the result\n",
    "m2_chan_plot = plot(𝐻̂ₚₛₛ², xlabel=\"Sample\", ylabel=\"Power (dB)\", title=\"Convolution Result\", ylim=(-20, 60))\n",
    "savefig(m2_chan_plot,\"images/m2_chan_plot.png\");"
   ]
  },
  {
   "cell_type": "markdown",
   "id": "309345d1-3697-406f-9e9f-553044004cd6",
   "metadata": {},
   "source": [
    "<img src=images/m2_chan_plot.png width='' heigth='' > </img>"
   ]
  },
  {
   "cell_type": "code",
   "execution_count": 19,
   "id": "46c284c7-8c7f-4fc8-95f5-7b55acb999bd",
   "metadata": {},
   "outputs": [
    {
     "data": {
      "text/plain": [
       "freq_offset_est (generic function with 1 method)"
      ]
     },
     "execution_count": 19,
     "metadata": {},
     "output_type": "execute_result"
    }
   ],
   "source": [
    "########################################################\n",
    "# Frequency Offset Estimator Function\n",
    "########################################################\n",
    "function freq_offset_est(𝑅ₚₛₛ, 𝐻ₚₛₛ, Nf, m, 𝑓ₛ)\n",
    "\n",
    "    # Frequency offset estimator\n",
    "    Y = zeros(ComplexF64, length(m));\n",
    "    L = length(𝐻ₚₛₛ)\n",
    "    t = 0:(1/𝑓ₛ):((L-1)/𝑓ₛ)\n",
    "\n",
    "    signal_part = 𝑅ₚₛₛ[Nf:(Nf + L -1)]; @show size( signal_part )\n",
    "    for j = 1:length(m)\n",
    "        Y[j] = Y[j] + abs.(∑(exp.(-2*pi*im*m[j].*t) .* conj(𝐻ₚₛₛ) .* ⦰(signal_part)))^2;\n",
    "    end\n",
    "\n",
    "    return Y\n",
    "end"
   ]
  },
  {
   "cell_type": "code",
   "execution_count": 20,
   "id": "a0092c3a-9186-4369-ac2a-551a6492efec",
   "metadata": {},
   "outputs": [
    {
     "name": "stdout",
     "output_type": "stream",
     "text": [
      "Nf = 4437\n"
     ]
    }
   ],
   "source": [
    "𝑓ₛ = 61.44e6\n",
    "\n",
    "Δ𝑓 = 10.0\n",
    "m = -7500.:Δ𝑓:7500.\n",
    "\n",
    "Nf = getindex(𝑁̂𝑓², 1) - length(𝐻ₚₛₛ²) + 1; @show Nf;"
   ]
  },
  {
   "cell_type": "code",
   "execution_count": 21,
   "id": "83a8b7f6-426f-40bb-8ce8-92d37277f0c5",
   "metadata": {},
   "outputs": [
    {
     "name": "stdout",
     "output_type": "stream",
     "text": [
      "size(signal_part) = (2192,)\n"
     ]
    }
   ],
   "source": [
    "# Grab the function Profs Frequency Offset with his values\n",
    "Y = freq_offset_est(𝑅ₚₛₛ³, 𝐻ₚₛₛ², Nf, m, 𝑓ₛ); # @show Y"
   ]
  },
  {
   "cell_type": "code",
   "execution_count": 22,
   "id": "84f339a3-f660-4b76-b896-5ed1342f14f3",
   "metadata": {},
   "outputs": [
    {
     "name": "stdout",
     "output_type": "stream",
     "text": [
      "10 * log10(A_fo) = 88.46888484427753\n",
      "fo = 587\n"
     ]
    }
   ],
   "source": [
    "A_fo, fo = argmax(abs.(Y)); \n",
    "@show (10 * log10(A_fo));\n",
    "@show (fo);"
   ]
  },
  {
   "cell_type": "code",
   "execution_count": 23,
   "id": "309e0097-40a1-479e-8fb5-488e7404b9e6",
   "metadata": {},
   "outputs": [],
   "source": [
    "cfo_estim_plot = \n",
    "plot(10 * log10.(abs.(Y)), xlabel=\"Sample\", ylabel=\"Power (dB)\", title=\"Estimation Result\")\n",
    "savefig(cfo_estim_plot,\"images/cfo_estim_plot.png\");"
   ]
  },
  {
   "cell_type": "markdown",
   "id": "ecac400a-171c-4862-a90d-5c851167b308",
   "metadata": {},
   "source": [
    "<img src=images/cfo_estim_plot.png width='' height='' > </img>"
   ]
  },
  {
   "cell_type": "code",
   "execution_count": null,
   "id": "c5dd6dd1-b55d-49ed-999a-c96ceadb7287",
   "metadata": {},
   "outputs": [],
   "source": []
  }
 ],
 "metadata": {
  "kernelspec": {
   "display_name": "Julia 1.9.3",
   "language": "julia",
   "name": "julia-1.9"
  },
  "language_info": {
   "file_extension": ".jl",
   "mimetype": "application/julia",
   "name": "julia",
   "version": "1.9.4"
  }
 },
 "nbformat": 4,
 "nbformat_minor": 5
}
