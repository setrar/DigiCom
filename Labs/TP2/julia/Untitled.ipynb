{
 "cells": [
  {
   "cell_type": "code",
   "execution_count": 1,
   "id": "50e036c5-e66c-428d-b44f-10720becf746",
   "metadata": {},
   "outputs": [
    {
     "ename": "LoadError",
     "evalue": "TODO: TAR",
     "output_type": "error",
     "traceback": [
      "TODO: TAR",
      "",
      "Stacktrace:",
      " [1] error(s::String)",
      "   @ Base ./error.jl:35",
      " [2] load(f::String; mmap::Bool, integrity_check::Bool)",
      "   @ SigMF ~/.julia/packages/SigMF/vdwWl/src/io.jl:23",
      " [3] load(f::String)",
      "   @ SigMF ~/.julia/packages/SigMF/vdwWl/src/io.jl:12",
      " [4] top-level scope",
      "   @ In[1]:3"
     ]
    }
   ],
   "source": [
    "using SigMF\n",
    "\n",
    "SigMF.load(\"catkira/1876954_7680KSPS_srsRAN_Project_gnb_short.sigmf-data\")"
   ]
  },
  {
   "cell_type": "code",
   "execution_count": null,
   "id": "ada52d10-7dfe-4772-bcb6-be45086f52a0",
   "metadata": {},
   "outputs": [],
   "source": []
  }
 ],
 "metadata": {
  "kernelspec": {
   "display_name": "Julia 1.9.3",
   "language": "julia",
   "name": "julia-1.9"
  },
  "language_info": {
   "file_extension": ".jl",
   "mimetype": "application/julia",
   "name": "julia",
   "version": "1.9.4"
  }
 },
 "nbformat": 4,
 "nbformat_minor": 5
}
