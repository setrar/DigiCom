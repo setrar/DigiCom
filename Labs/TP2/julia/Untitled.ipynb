{
 "cells": [
  {
   "cell_type": "code",
   "execution_count": 9,
   "id": "2f38c895-7e16-46b5-9e12-c873a9ddcf84",
   "metadata": {},
   "outputs": [],
   "source": [
    "using FFTW\n",
    "using Plots\n",
    "using DSP"
   ]
  },
  {
   "cell_type": "code",
   "execution_count": 10,
   "id": "6dac92c0-6cfc-4f46-aa92-9ca5512a8eac",
   "metadata": {},
   "outputs": [
    {
     "data": {
      "text/plain": [
       "extract_sss_symbol (generic function with 1 method)"
      ]
     },
     "execution_count": 10,
     "metadata": {},
     "output_type": "execute_result"
    }
   ],
   "source": [
    "function extract_sss_symbol(y, pss_index, cp_length, fft_size)\n",
    "    # Extract the SSS symbol based on PSS timing information\n",
    "    sss_symbol_start = pss_index + cp_length\n",
    "    sss_symbol_end = sss_symbol_start + fft_size - 1\n",
    "    sss_symbol = y[sss_symbol_start:sss_symbol_end]\n",
    "    return sss_symbol\n",
    "end\n"
   ]
  },
  {
   "cell_type": "code",
   "execution_count": 11,
   "id": "ad60985e-a2a5-4142-b4ee-15b50c8e9112",
   "metadata": {},
   "outputs": [],
   "source": [
    "## Receive the signal\n",
    "include(\"rxsignal_withchannelandfreqoff.jl\");"
   ]
  },
  {
   "cell_type": "code",
   "execution_count": 12,
   "id": "6c4b4596-5380-4e6a-98c5-2e0fbcf902d5",
   "metadata": {},
   "outputs": [
    {
     "data": {
      "text/plain": [
       "2048"
      ]
     },
     "execution_count": 12,
     "metadata": {},
     "output_type": "execute_result"
    }
   ],
   "source": [
    "# Example usage\n",
    "y = rxs3 # Your received signal here (complex vector)\n",
    "pss_index = 4436 # PSS timing information obtained previously\n",
    "cp_length = 144 # Cyclic Prefix length\n",
    "fft_size = 2048"
   ]
  },
  {
   "cell_type": "code",
   "execution_count": 20,
   "id": "ede24649-72db-47c6-a02c-2d3a8edb2ab0",
   "metadata": {},
   "outputs": [],
   "source": [
    "# Extract SSS symbol\n",
    "# sss_symbol = extract_sss_symbol(y, pss_index, cp_length, fft_size); @show size(sss_symbol);"
   ]
  },
  {
   "cell_type": "code",
   "execution_count": 21,
   "id": "34647ef4-38d1-4b1e-a74a-b8e68eab3d56",
   "metadata": {},
   "outputs": [
    {
     "data": {
      "text/plain": [
       "4436"
      ]
     },
     "execution_count": 21,
     "metadata": {},
     "output_type": "execute_result"
    }
   ],
   "source": [
    "Tu = fft_size\n",
    "a₀ = pss_index"
   ]
  },
  {
   "cell_type": "code",
   "execution_count": 22,
   "id": "ed739c8b-86b7-453d-acbb-9ece1ad28ce2",
   "metadata": {},
   "outputs": [
    {
     "name": "stdout",
     "output_type": "stream",
     "text": [
      "𝐹ₓ[1] = 1151.3941643000546 - 620.4532829634018im\n"
     ]
    }
   ],
   "source": [
    "𝐹ₓ = DSP.fftshift(DSP.fft(y[a₀:a₀+Tu])); @show 𝐹ₓ[1];"
   ]
  },
  {
   "cell_type": "code",
   "execution_count": 23,
   "id": "1dea4946-2541-49fe-8af9-c14176a35926",
   "metadata": {},
   "outputs": [
    {
     "data": {
      "text/plain": [
       "-2550.7358161135508 - 923.0082990198529im"
      ]
     },
     "execution_count": 23,
     "metadata": {},
     "output_type": "execute_result"
    }
   ],
   "source": [
    "# Perform FFT\n",
    "# sss_symbol_freq = fft(sss_symbol, fft_size)\n",
    "# 𝐹ₓ = DSP.fftshift(DSP.fft(sss_symbol,fft_size));\n",
    "# 𝐹ₓ = DSP.fft(sss_symbol,fft_size);\n",
    "sss_symbol[2028]"
   ]
  },
  {
   "cell_type": "code",
   "execution_count": null,
   "id": "14d6afd4-6f3e-49f5-b5d6-e8955f36b5b8",
   "metadata": {},
   "outputs": [],
   "source": []
  },
  {
   "cell_type": "code",
   "execution_count": null,
   "id": "0cc6ede2-68bc-4539-8aa3-e07c2c4061cd",
   "metadata": {},
   "outputs": [],
   "source": [
    "# Plot the frequency domain representation\n",
    "frequencies = [i * sampling_rate / fft_size for i in 0:fft_size-1]\n",
    "plot(frequencies, abs.(sss_symbol_freq), xlabel=\"Frequency (Hz)\", ylabel=\"Magnitude\", label=\"SSS Symbol Spectrum\")"
   ]
  }
 ],
 "metadata": {
  "kernelspec": {
   "display_name": "Julia 1.9.3",
   "language": "julia",
   "name": "julia-1.9"
  },
  "language_info": {
   "file_extension": ".jl",
   "mimetype": "application/julia",
   "name": "julia",
   "version": "1.9.4"
  }
 },
 "nbformat": 4,
 "nbformat_minor": 5
}
