{
 "cells": [
  {
   "cell_type": "code",
   "execution_count": 2,
   "id": "3166e867-4a4c-4390-acb1-deb8b83bcd95",
   "metadata": {},
   "outputs": [
    {
     "ename": "LoadError",
     "evalue": "UndefVarError: `rxsig3_noiseandchannel` not defined",
     "output_type": "error",
     "traceback": [
      "UndefVarError: `rxsig3_noiseandchannel` not defined",
      "",
      "Stacktrace:",
      " [1] top-level scope",
      "   @ In[2]:25"
     ]
    }
   ],
   "source": [
    "# Function to generate Zadoff-Chu sequence\n",
    "function zadoff_chu_sequence(u, N)\n",
    "    return exp.(-1.0im * π * u * (0:N-1) .* (1:N) / N)\n",
    "end\n",
    "\n",
    "# Function to perform frequency-domain correlation\n",
    "function freq_domain_correlation(rx_signal, u, Ncs, nuind)\n",
    "    xuv = zadoff_chu_sequence(u, L)\n",
    "    xuv_shifted = [xuv[1 + rem(n + (Ncs * nuind), L)] for n in 0:L-1]\n",
    "    yuv = fft(xuv_shifted)\n",
    "    \n",
    "    rxsig_freq = fft(rx_signal)\n",
    "    correlation = ifft(rxsig_freq .* conj.(yuv))\n",
    "    \n",
    "    return correlation\n",
    "end\n",
    "\n",
    "# Function to estimate time-delay\n",
    "function estimate_time_delay(correlation)\n",
    "    max_value, max_index = findmax(abs.(correlation))\n",
    "    return max_index - 1\n",
    "end\n",
    "\n",
    "# Receiver for the first transmitter (UE)\n",
    "correlation1 = freq_domain_correlation(rxsig3_noiseandchannel, utab[1 + uind1], Ncs, nuind1)\n",
    "delay_estimate1 = estimate_time_delay(correlation1)\n",
    "\n",
    "println(\"Time Delay Estimate for UE1: \", delay_estimate1)\n",
    "\n",
    "# Receiver for the second transmitter (UE)\n",
    "correlation2 = freq_domain_correlation(rxsig4_noiseandchannel, utab[1 + uind2], Ncs, nuind2)\n",
    "delay_estimate2 = estimate_time_delay(correlation2)\n",
    "\n",
    "println(\"Time Delay Estimate for UE2: \", delay_estimate2)\n"
   ]
  },
  {
   "cell_type": "code",
   "execution_count": null,
   "id": "648e88df-29cb-4e97-8fe5-bcf53f747aa8",
   "metadata": {},
   "outputs": [],
   "source": []
  }
 ],
 "metadata": {
  "kernelspec": {
   "display_name": "Julia 1.9.3",
   "language": "julia",
   "name": "julia-1.9"
  },
  "language_info": {
   "file_extension": ".jl",
   "mimetype": "application/julia",
   "name": "julia",
   "version": "1.10.0"
  }
 },
 "nbformat": 4,
 "nbformat_minor": 5
}
