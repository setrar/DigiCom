{
 "cells": [
  {
   "cell_type": "code",
   "execution_count": 29,
   "id": "1abc3db5-6a83-4841-af7a-6d1d260ea3de",
   "metadata": {},
   "outputs": [
    {
     "data": {
      "text/plain": [
       "zadoff_chu_sequence (generic function with 1 method)"
      ]
     },
     "execution_count": 29,
     "metadata": {},
     "output_type": "execute_result"
    }
   ],
   "source": [
    "# Function to generate Zadoff-Chu sequence\n",
    "function zadoff_chu_sequence(u, N)\n",
    "    return exp.(-1.0im * π * u * (0:N-1) .* (1:N) / N)\n",
    "end"
   ]
  },
  {
   "cell_type": "code",
   "execution_count": 30,
   "id": "570b850f-bc37-4320-ab9d-17ba6e4d9f3a",
   "metadata": {},
   "outputs": [
    {
     "data": {
      "text/plain": [
       "freq_domain_correlation (generic function with 1 method)"
      ]
     },
     "execution_count": 30,
     "metadata": {},
     "output_type": "execute_result"
    }
   ],
   "source": [
    "# Function to perform frequency-domain correlation\n",
    "function freq_domain_correlation(rx_signal, u, Ncs, nuind)\n",
    "    xuv = zadoff_chu_sequence(u, L)\n",
    "    xuv_shifted = [xuv[1 + rem(n + (Ncs * nuind), L)] for n in 0:L-1]\n",
    "    yuv = fft(xuv_shifted)\n",
    "    \n",
    "    rxsig_freq = fft(rx_signal)\n",
    "    correlation = ifft(rxsig_freq .* conj.(yuv))\n",
    "    \n",
    "    return correlation\n",
    "end"
   ]
  },
  {
   "cell_type": "code",
   "execution_count": 31,
   "id": "c14a9e17-78d4-4b37-974d-f47d1a153773",
   "metadata": {},
   "outputs": [
    {
     "data": {
      "text/plain": [
       "estimate_time_delay (generic function with 1 method)"
      ]
     },
     "execution_count": 31,
     "metadata": {},
     "output_type": "execute_result"
    }
   ],
   "source": [
    "# Function to estimate time-delay\n",
    "function estimate_time_delay(correlation)\n",
    "    max_value, max_index = findmax(abs.(correlation))\n",
    "    return max_index - 1\n",
    "end"
   ]
  },
  {
   "cell_type": "code",
   "execution_count": 32,
   "id": "4965608b-9266-4562-b22d-5afc43ab2382",
   "metadata": {},
   "outputs": [],
   "source": [
    "using FFTW\n",
    "using DSP"
   ]
  },
  {
   "cell_type": "code",
   "execution_count": 33,
   "id": "92f1baa4-025b-435d-b67d-06cb39a32019",
   "metadata": {},
   "outputs": [],
   "source": [
    "## Load the useful math operations\n",
    "include(\"../modules/operations.jl\");"
   ]
  },
  {
   "cell_type": "code",
   "execution_count": 34,
   "id": "6f73b913-789e-442a-90d9-b7b824cc3a5b",
   "metadata": {},
   "outputs": [
    {
     "data": {
      "text/plain": [
       "6336"
      ]
     },
     "execution_count": 34,
     "metadata": {},
     "output_type": "execute_result"
    }
   ],
   "source": [
    "# this is a 5G PRACH format 0 transmission\n",
    "L=839\n",
    "\n",
    "# this is number of samples per bin, floor(L/Ncs) gives the number of cyclic shifts, see below\n",
    "Ncs=26\n",
    "# this is the FFT size for the generation/reception of PRACH\n",
    "N=49152\n",
    "# this is the length of the cyclic prefix for PRACH\n",
    "Ncp=6336"
   ]
  },
  {
   "cell_type": "code",
   "execution_count": 35,
   "id": "fe59bea6-4925-4310-9f3d-c46cd2c9148f",
   "metadata": {},
   "outputs": [
    {
     "data": {
      "text/plain": [
       "1×6 Matrix{Int64}:\n",
       " 129  710  140  699  120  719"
      ]
     },
     "execution_count": 35,
     "metadata": {},
     "output_type": "execute_result"
    }
   ],
   "source": [
    "# 6-bit data messages for 3 transmitters / UEs\n",
    "preamble_index1=63;\n",
    "preamble_index2=31;\n",
    "preamble_index3=11;\n",
    "\n",
    "# up to 6 Zadoff-Chu root sequences for this format\n",
    "utab=[129 710 140 699 120 719]"
   ]
  },
  {
   "cell_type": "code",
   "execution_count": 36,
   "id": "5d9ff2ad-f1c8-4061-a5c8-2d7ecce20351",
   "metadata": {},
   "outputs": [
    {
     "data": {
      "text/plain": [
       "2"
      ]
     },
     "execution_count": 36,
     "metadata": {},
     "output_type": "execute_result"
    }
   ],
   "source": [
    "# number of cyclic shifts\n",
    "nshifts = floor(Int, L / Ncs)\n",
    "# number of Zadoff-Chu sequences required\n",
    "nseq = ceil(Int, 64 / nshifts)\n"
   ]
  },
  {
   "cell_type": "code",
   "execution_count": 37,
   "id": "bf603895-5c12-4d28-bdae-b845e64f50a8",
   "metadata": {},
   "outputs": [],
   "source": [
    "# index of the preamble sequence to use\n",
    "uind1 = div(preamble_index1, nshifts)\n",
    "uind2 = div(preamble_index2, nshifts)\n",
    "uind3 = div(preamble_index3, nshifts)\n",
    "\n",
    "# index of cyclic shift to use\n",
    "nuind1 = rem(preamble_index1, nshifts)\n",
    "nuind2 = rem(preamble_index2, nshifts)\n",
    "nuind3 = rem(preamble_index3, nshifts)\n",
    "\n",
    "# Check if indices are within the range of utab\n",
    "if (uind1 >= length(utab) || uind2 >= length(utab) || uind3 >= length(utab))\n",
    "    println(\"ERROR tab length \", length(utab), \" : \", uind1, \" \", uind2, \" \", uind3)\n",
    "end"
   ]
  },
  {
   "cell_type": "code",
   "execution_count": 38,
   "id": "01dbd208-6875-42c7-8b6a-1b782cdcb6a4",
   "metadata": {},
   "outputs": [
    {
     "name": "stdout",
     "output_type": "stream",
     "text": [
      "(size(xu1), size(xu2), size(xu3)) = ((839,), (839,), (839,))\n"
     ]
    },
    {
     "data": {
      "text/plain": [
       "((839,), (839,), (839,))"
      ]
     },
     "execution_count": 38,
     "metadata": {},
     "output_type": "execute_result"
    }
   ],
   "source": [
    "# These are the Zadoff-Chu Sequence generators (time-domain) \n",
    "# for the 3 transmitters\n",
    "xu1 = exp.(-im * π * utab[1 + uind1] * collect(0:838) .* collect(1:839) / 839)\n",
    "xu2 = exp.(-im * π * utab[1 + uind2] * collect(0:838) .* collect(1:839) / 839)\n",
    "xu3 = exp.(-im * π * utab[1 + uind3] * collect(0:838) .* collect(1:839) / 839)\n",
    "@show size(xu1), size(xu2), size(xu3)"
   ]
  },
  {
   "cell_type": "code",
   "execution_count": 39,
   "id": "f8001d3d-4287-44c1-b66e-dddab6c8fc15",
   "metadata": {},
   "outputs": [],
   "source": [
    "# implement cyclic-shifts\n",
    "# Note: In practice, it's not common to do cyclic shifts in the time-domain and then perform FFT.\n",
    "# There is a way to compute the Fourier transform directly and then perform the cyclic shift by a multiplication of a phasor in the frequency-domain.\n",
    "\n",
    "xuv1 = copy(xu1)\n",
    "xuv2 = copy(xu2)\n",
    "xuv3 = copy(xu3)\n",
    "\n",
    "for n in 0:838\n",
    "    xuv1[n + 1] = xu1[1 + rem(n + (Ncs * nuind1), 839)]\n",
    "    yuv1 = fft(xuv1)\n",
    "    xuv2[n + 1] = xu2[1 + rem(n + (Ncs * nuind2), 839)]\n",
    "    yuv2 = fft(xuv2)\n",
    "    xuv3[n + 1] = xu3[1 + rem(n + (Ncs * nuind3), 839)]\n",
    "    yuv3 = fft(xuv3)\n",
    "end"
   ]
  },
  {
   "cell_type": "code",
   "execution_count": 40,
   "id": "66769615-89a5-4bc5-a626-1d758d4e61af",
   "metadata": {},
   "outputs": [],
   "source": [
    "# put the PRACH in the lowest frequency (positive) subcarriers starting at carrier 7\n",
    "Xuv1 = zeros(Complex{Float64}, 1, 49152)\n",
    "Xuv1[8:846] .= yuv1\n",
    "Xuv2 = zeros(Complex{Float64}, 1, 49152)\n",
    "Xuv2[8:846] .= yuv2\n",
    "Xuv3 = zeros(Complex{Float64}, 1, 49152)\n",
    "Xuv3[8:846] .= yuv3;"
   ]
  },
  {
   "cell_type": "code",
   "execution_count": 41,
   "id": "903472d8-eefc-4603-b947-6b73e8b53b58",
   "metadata": {},
   "outputs": [
    {
     "name": "stdout",
     "output_type": "stream",
     "text": [
      "(size(xuv1_49152), size(xuv2_49152), size(xuv3_49152)) = ((1, 49152), (1, 49152), (1, 49152))\n"
     ]
    },
    {
     "data": {
      "text/plain": [
       "((1, 49152), (1, 49152), (1, 49152))"
      ]
     },
     "execution_count": 41,
     "metadata": {},
     "output_type": "execute_result"
    }
   ],
   "source": [
    "# bring to time-domain\n",
    "xuv1_49152 = ifft(Xuv1)\n",
    "xuv2_49152 = ifft(Xuv2)\n",
    "xuv3_49152 = ifft(Xuv3)\n",
    "@show size(xuv1_49152), size(xuv2_49152), size(xuv3_49152)"
   ]
  },
  {
   "cell_type": "code",
   "execution_count": 42,
   "id": "9ad8e390-690d-4f74-80af-d1ddc811ba0e",
   "metadata": {},
   "outputs": [],
   "source": [
    "using Plots\n",
    "using LinearAlgebra"
   ]
  },
  {
   "cell_type": "code",
   "execution_count": 43,
   "id": "db9b302a-49f2-4f52-8117-912950381e67",
   "metadata": {},
   "outputs": [
    {
     "ename": "LoadError",
     "evalue": "DimensionMismatch: number of columns of each array must match (got (1, 49152))",
     "output_type": "error",
     "traceback": [
      "DimensionMismatch: number of columns of each array must match (got (1, 49152))",
      "",
      "Stacktrace:",
      " [1] _typed_vcat(::Type{ComplexF64}, A::Tuple{Vector{ComplexF64}, Matrix{ComplexF64}})",
      "   @ Base ./abstractarray.jl:1699",
      " [2] typed_vcat",
      "   @ Base ./abstractarray.jl:1713 [inlined]",
      " [3] vcat",
      "   @ SparseArrays ~/.julia/juliaup/julia-1.10.0+0.aarch64.apple.darwin14/share/julia/stdlib/v1.10/SparseArrays/src/sparsevector.jl:1239 [inlined]",
      " [4] ⧺(a::Vector{ComplexF64}, b::Matrix{ComplexF64})",
      "   @ Main ~/Developer/DigiCom/Labs/modules/operations.jl:34",
      " [5] top-level scope",
      "   @ In[43]:2"
     ]
    }
   ],
   "source": [
    "# add cyclic prefix\n",
    "xuv1_49152 = xuv1_49152[(49152-6335):end] ⧺ xuv1_49152\n",
    "# xuv2_49152 = xuv2_49152[(end-6335):end] ⧺ xuv2_49152\n",
    "# xuv3_49152 = xuv3_49152[(end-6335):end] ⧺ xuv3_49152"
   ]
  },
  {
   "cell_type": "code",
   "execution_count": 57,
   "id": "3166e867-4a4c-4390-acb1-deb8b83bcd95",
   "metadata": {},
   "outputs": [
    {
     "ename": "LoadError",
     "evalue": "UndefVarError: `rxsig3_noiseandchannel` not defined",
     "output_type": "error",
     "traceback": [
      "UndefVarError: `rxsig3_noiseandchannel` not defined",
      "",
      "Stacktrace:",
      " [1] top-level scope",
      "   @ In[57]:2"
     ]
    }
   ],
   "source": [
    "# Receiver for the first transmitter (UE)\n",
    "correlation1 = freq_domain_correlation(rxsig3_noiseandchannel, utab[1 + uind1], Ncs, nuind1)\n",
    "delay_estimate1 = estimate_time_delay(correlation1)\n",
    "\n",
    "println(\"Time Delay Estimate for UE1: \", delay_estimate1)\n",
    "\n"
   ]
  },
  {
   "cell_type": "code",
   "execution_count": null,
   "id": "648e88df-29cb-4e97-8fe5-bcf53f747aa8",
   "metadata": {},
   "outputs": [],
   "source": [
    "# Receiver for the second transmitter (UE)\n",
    "correlation2 = freq_domain_correlation(rxsig4_noiseandchannel, utab[1 + uind2], Ncs, nuind2)\n",
    "delay_estimate2 = estimate_time_delay(correlation2)\n",
    "\n",
    "println(\"Time Delay Estimate for UE2: \", delay_estimate2)\n"
   ]
  }
 ],
 "metadata": {
  "kernelspec": {
   "display_name": "Julia 1.9.3",
   "language": "julia",
   "name": "julia-1.9"
  },
  "language_info": {
   "file_extension": ".jl",
   "mimetype": "application/julia",
   "name": "julia",
   "version": "1.10.0"
  }
 },
 "nbformat": 4,
 "nbformat_minor": 5
}
