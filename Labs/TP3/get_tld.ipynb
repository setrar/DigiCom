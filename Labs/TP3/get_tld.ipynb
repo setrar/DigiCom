{
 "cells": [
  {
   "cell_type": "code",
   "execution_count": 19,
   "id": "f2b99656-cbf8-45a0-ba71-3e901a8395e9",
   "metadata": {},
   "outputs": [
    {
     "data": {
      "text/plain": [
       "get_tdl (generic function with 1 method)"
      ]
     },
     "execution_count": 19,
     "metadata": {},
     "output_type": "execute_result"
    }
   ],
   "source": [
    "function get_tdl(fs, SCS, PRBS, DS, chan)\n",
    "    # Check the type of channel\n",
    "    if chan == \"tdlc\"\n",
    "        coef_start = 1\n",
    "        # TDL-C channel coefficients\n",
    "        tdl = [1 0 -4.4;\n",
    "               2 0.2099 -1.2;\n",
    "               # ... (additional coefficients)\n",
    "               24 8.6523 -22.8]\n",
    "    elseif chan == \"tdld\"\n",
    "        coef_start = 2\n",
    "        # TDL-D channel coefficients\n",
    "        tdl = [1 0 -.00147;\n",
    "               2 0.035 -18.8;\n",
    "               # ... (additional coefficients)\n",
    "               13 12.525 -27.7]\n",
    "    else\n",
    "        error(\"unknown channel $chan\")\n",
    "    end\n",
    "\n",
    "    # Compute the normalization factor for channel coefficients\n",
    "    tdl_norm = sum(10 .^(0.1 * tdl[coef_start:end, 3]))\n",
    "\n",
    "    # Generate frequency grid for the channel\n",
    "    PRB = 1:12\n",
    "    fgrid = []\n",
    "    for PRBs in PRBS\n",
    "        append!(fgrid, SCS * ((PRBs * 12) .+ PRB))\n",
    "    end\n",
    "\n",
    "    # compute channel impulse response\n",
    "    Htdl = [\n",
    "        exp.(-im * 2 * π * f * tdl[coef_start:end, 2] * DS) .* sqrt.(10 .^(0.1 * tdl[coef_start:end, 3]))\n",
    "        for f in fgrid\n",
    "    ]\n",
    "\n",
    "    # Generate random complex gains for each channel tap\n",
    "    gv = (√(0.5) * randn(length(tdl[coef_start:end, 2])) + im * √(0.5) * randn(length(tdl[coef_start:end, 2])))'\n",
    "\n",
    "    # Combine channel response and gains\n",
    "    H = Htdl * gv / sqrt(tdl_norm)\n",
    "\n",
    "    # Add mean for Ricean channel\n",
    "    if coef_start == 2\n",
    "        H += exp(-im * 2 * π * f * tdl[1, 2] * DS) .* √(10 .^(0.1 * tdl[1, 3]))' / √(tdl_norm)\n",
    "    end\n",
    "\n",
    "    return H\n",
    "end"
   ]
  },
  {
   "cell_type": "code",
   "execution_count": 23,
   "id": "16123874-915b-4a10-a90c-d1210a98ed73",
   "metadata": {},
   "outputs": [
    {
     "data": {
      "text/plain": [
       "1272×3 Matrix{Vector{ComplexF64}}:\n",
       " [-0.343549+0.0622789im, -0.495475+0.0959082im, -0.0329385+0.0260212im]  …  [0.155567+1.16295im, 0.244799+1.67818im, 0.082221+0.114622im]\n",
       " [-0.343549+0.0622789im, -0.494302+0.101782im, -0.0168443+0.0384489im]      [0.155567+1.16295im, 0.264701+1.67516im, 0.126445+0.0625312im]\n",
       " [-0.343549+0.0622789im, -0.493059+0.107642im, 0.00320247+0.0418545im]      [0.155567+1.16295im, 0.284565+1.6719im, 0.140999-0.00423296im]\n",
       " [-0.343549+0.0622789im, -0.491747+0.113487im, 0.0224978+0.0354387im]       [0.155567+1.16295im, 0.304389+1.6684im, 0.122466-0.0700039im]\n",
       " [-0.343549+0.0622789im, -0.490365+0.119316im, 0.0365139+0.0207071im]       [0.155567+1.16295im, 0.32417+1.66467im, 0.0751969-0.119348im]\n",
       " [-0.343549+0.0622789im, -0.488914+0.125127im, 0.041962+0.00111656im]    …  [0.155567+1.16295im, 0.343906+1.66071im, 0.0102822-0.140687im]\n",
       " [-0.343549+0.0622789im, -0.487395+0.130922im, 0.0375635-0.018736im]        [0.155567+1.16295im, 0.363593+1.65651im, -0.0570452-0.129013im]\n",
       " [-0.343549+0.0622789im, -0.485806+0.136697im, 0.0243506-0.0341921im]       [0.155567+1.16295im, 0.383229+1.65207im, -0.110987-0.0870659im]\n",
       " [-0.343549+0.0622789im, -0.48415+0.142454im, 0.00542376-0.0416249im]       [0.155567+1.16295im, 0.402811+1.64741im, -0.138885-0.0246884im]\n",
       " [-0.343549+0.0622789im, -0.482425+0.148191im, -0.0147758-0.0392903im]      [0.155567+1.16295im, 0.422336+1.64251im, -0.134193+0.0434823im]\n",
       " [-0.343549+0.0622789im, -0.480632+0.153906im, -0.0315081-0.0277361im]   …  [0.155567+1.16295im, 0.441802+1.63738im, -0.0980127+0.10145im]\n",
       " [-0.343549+0.0622789im, -0.478771+0.1596im, -0.040847-0.00967351im]        [0.155567+1.16295im, 0.461205+1.63202im, -0.0388332+0.135612im]\n",
       " [-0.343549+0.0622789im, -0.476843+0.165271im, -0.040601+0.010659im]        [0.155567+1.16295im, 0.480544+1.62644im, 0.0294587+0.137952im]\n",
       " ⋮                                                                       ⋱  \n",
       " [-0.343549+0.0622789im, 0.427289+0.268548im, -0.00695849+0.041396im]    …  [0.155567+1.16295im, 0.968017-1.39254im, 0.137878+0.0298047im]\n",
       " [-0.343549+0.0622789im, 0.430446+0.263458im, 0.0133135+0.0398096im]        [0.155567+1.16295im, 0.95142-1.40393im, 0.135709-0.0384929im]\n",
       " [-0.343549+0.0622789im, 0.433543+0.25833im, 0.0304615+0.0288817im]         [0.155567+1.16295im, 0.934689-1.41512im, 0.101695-0.097758im]\n",
       " [-0.343549+0.0622789im, 0.436579+0.253166im, 0.0404615+0.0111766im]        [0.155567+1.16295im, 0.917827-1.42612im, 0.0438187-0.134084im]\n",
       " [-0.343549+0.0622789im, 0.439553+0.247966im, 0.0409672-0.00915113im]       [0.155567+1.16295im, 0.900835-1.43691im, -0.02434-0.138946im]\n",
       " [-0.343549+0.0622789im, 0.442465+0.242732im, 0.0318597-0.0273315im]     …  [0.155567+1.16295im, 0.883717-1.4475im, -0.0867873-0.111205im]\n",
       " [-0.343549+0.0622789im, 0.445315+0.237463im, 0.0152763-0.0390984im]        [0.155567+1.16295im, 0.866474-1.45789im, -0.12887-0.0573686im]\n",
       " [-0.343549+0.0622789im, 0.448102+0.232161im, -0.0048918-0.0416908im]       [0.155567+1.16295im, 0.849109-1.46807im, -0.140712+0.00992929im]\n",
       " [-0.343549+0.0622789im, 0.450826+0.226826im, -0.023912-0.0345003im]        [0.155567+1.16295im, 0.831624-1.47804im, -0.119536+0.0748973im]\n",
       " [-0.343549+0.0622789im, 0.453487+0.221459im, -0.0373212-0.0192142im]       [0.155567+1.16295im, 0.814022-1.48781im, -0.0703108+0.12229im]\n",
       " [-0.343549+0.0622789im, 0.456083+0.21606im, -0.0419728+0.00058064im]    …  [0.155567+1.16295im, 0.796305-1.49737im, -0.0045866+0.140988im]\n",
       " [-0.343549+0.0622789im, 0.458616+0.210632im, -0.0367754+0.0202392im]       [0.155567+1.16295im, 0.778476-1.50671im, 0.0622139+0.126602im]"
      ]
     },
     "execution_count": 23,
     "metadata": {},
     "output_type": "execute_result"
    }
   ],
   "source": [
    "# Example 1: TDL-C Channel\n",
    "fs = 122.88e6\n",
    "SCS = 30e3\n",
    "PRBS = 0:105\n",
    "DS = 300e-9\n",
    "chan = \"tdlc\"\n",
    "\n",
    "H_tdlc = get_tdl(fs, SCS, PRBS, DS, chan)\n",
    "# println(\"TDL-C Channel Impulse Response: \", H_tdlc)\n",
    "\n"
   ]
  },
  {
   "cell_type": "code",
   "execution_count": 24,
   "id": "1ca033ed-901a-4685-a642-1423b38f37d3",
   "metadata": {},
   "outputs": [
    {
     "ename": "LoadError",
     "evalue": "UndefVarError: `f` not defined",
     "output_type": "error",
     "traceback": [
      "UndefVarError: `f` not defined",
      "",
      "Stacktrace:",
      " [1] get_tdl(fs::Float64, SCS::Float64, PRBS::UnitRange{Int64}, DS::Float64, chan::String)",
      "   @ Main ./In[19]:45",
      " [2] top-level scope",
      "   @ In[24]:4"
     ]
    }
   ],
   "source": [
    "# Example 2: TDL-D Channel\n",
    "chan = \"tdld\"\n",
    "\n",
    "H_tdld = get_tdl(fs, SCS, PRBS, DS, chan)\n",
    "println(\"TDL-D Channel Impulse Response: \", H_tdld)\n"
   ]
  },
  {
   "cell_type": "code",
   "execution_count": null,
   "id": "c9c529ea-6c8c-42a6-95dd-60662a9a63fa",
   "metadata": {},
   "outputs": [],
   "source": []
  }
 ],
 "metadata": {
  "kernelspec": {
   "display_name": "Julia 1.9.3",
   "language": "julia",
   "name": "julia-1.9"
  },
  "language_info": {
   "file_extension": ".jl",
   "mimetype": "application/julia",
   "name": "julia",
   "version": "1.10.0"
  }
 },
 "nbformat": 4,
 "nbformat_minor": 5
}
