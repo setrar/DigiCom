{
 "cells": [
  {
   "cell_type": "markdown",
   "id": "a438d165-d434-47a6-ab20-6ab015846249",
   "metadata": {},
   "source": [
    "## 1.1 PSS \n",
    "$$ \n",
    "\\hat{S}_{PSS,i}(N) = \\sum_k x_i(n - kN), i = 0, 1, 2\n",
    "$$"
   ]
  },
  {
   "cell_type": "markdown",
   "id": "b9a87755-c01b-437d-8650-a1532346a507",
   "metadata": {},
   "source": [
    "```mathlab\n",
    "\n",
    "plot(real(pss0_t))\n",
    "subplot(212)\n",
    "plot(real(pss0_t))\n",
    "\n",
    "plot(abs(pss0_t))\n",
    "plot(20*log10(abs(pss0_t))\n",
    "\n",
    "plot(20*log10(abs(pss0_t))\n",
    "plot(20*log10(abs(fftshift(fft(pss0_t)))\n",
    "\n",
    "thres = max(abs(pss0F))/10;\n",
    "length(find(abs(pss0F)>thres))\n",
    "130*61.44e6/2192\n",
    "# 127 samples in frequency domain\n",
    "# 30e3 (30Khz) \n",
    "127*30e3\n",
    "\n",
    "```"
   ]
  },
  {
   "cell_type": "code",
   "execution_count": 35,
   "id": "c7b8a8de-ec96-4010-89f5-963cfbcee06d",
   "metadata": {},
   "outputs": [
    {
     "data": {
      "text/plain": [
       "2048-element Vector{Complex{Int64}}:\n",
       " -363 + 0im\n",
       " -363 + 0im\n",
       "  362 + 0im\n",
       "  362 + 0im\n",
       "  362 + 0im\n",
       "  362 + 0im\n",
       "  362 + 0im\n",
       " -363 + 0im\n",
       " -363 + 0im\n",
       "  362 + 0im\n",
       " -363 + 0im\n",
       " -363 + 0im\n",
       "  362 + 0im\n",
       "      ⋮\n",
       " -363 + 0im\n",
       " -363 + 0im\n",
       "  362 + 0im\n",
       "  362 + 0im\n",
       " -363 + 0im\n",
       "  362 + 0im\n",
       " -363 + 0im\n",
       "  362 + 0im\n",
       " -363 + 0im\n",
       " -363 + 0im\n",
       "  362 + 0im\n",
       "  362 + 0im"
      ]
     },
     "execution_count": 35,
     "metadata": {},
     "output_type": "execute_result"
    }
   ],
   "source": [
    "include(\"pss0.jl\")\n",
    "include(\"pss1.jl\")\n",
    "include(\"pss2.jl\")"
   ]
  },
  {
   "cell_type": "code",
   "execution_count": 36,
   "id": "67cd0200-2800-4127-983c-3c3049c6b2c1",
   "metadata": {},
   "outputs": [],
   "source": [
    "Nfft=2048;"
   ]
  },
  {
   "cell_type": "code",
   "execution_count": 39,
   "id": "b7263fb4-6913-484c-8f84-155f21e76e91",
   "metadata": {},
   "outputs": [
    {
     "data": {
      "text/plain": [
       "1×2048 Matrix{ComplexF64}:\n",
       " -0.00230425+0.0im  -0.00219674+1.19745e-5im  …  -0.00219674-1.19745e-5im"
      ]
     },
     "execution_count": 39,
     "metadata": {},
     "output_type": "execute_result"
    }
   ],
   "source": [
    "pss0_t"
   ]
  },
  {
   "cell_type": "code",
   "execution_count": 48,
   "id": "75a7264b-9019-4681-a080-c9c3b079b049",
   "metadata": {},
   "outputs": [
    {
     "data": {
      "text/plain": [
       "1×2048 Matrix{ComplexF64}:\n",
       " -0.00230425+0.0im  -0.00216386+0.0035789im  …  -0.00216386-0.0035789im"
      ]
     },
     "execution_count": 48,
     "metadata": {},
     "output_type": "execute_result"
    }
   ],
   "source": [
    "using LinearAlgebra\n",
    "using FFTW  # Import the FFTW library for fast Fourier transform\n",
    "\n",
    "# Assuming pss_0, pss_1, and pss_2 are your input arrays\n",
    "\n",
    "# Perform IFFT\n",
    "pss0_t = ifft(pss_0') \n",
    "pss1_t = ifft(pss_1')\n",
    "pss2_t = ifft(pss_2')\n",
    "\n",
    "# Normalize the arrays\n",
    "pss0_t /= norm(pss0_t)\n",
    "pss1_t /= norm(pss1_t)\n",
    "pss2_t /= norm(pss2_t)\n",
    "\n",
    "# Concatenate a portion of the arrays to themselves\n",
    "# pss0_t = [pss0_t[end-143:end]; pss0_t]\n",
    "# pss1_t = [pss1_t[end-143:end]; pss1_t]\n",
    "# pss2_t = [pss2_t[end-143:end]; pss2_t]\n"
   ]
  },
  {
   "cell_type": "code",
   "execution_count": 47,
   "id": "5c18eb55-d1fc-4929-9013-cafa225ab348",
   "metadata": {},
   "outputs": [
    {
     "ename": "LoadError",
     "evalue": "MethodError: no method matching crosscor(::Matrix{ComplexF64}, ::Matrix{ComplexF64})",
     "output_type": "error",
     "traceback": [
      "MethodError: no method matching crosscor(::Matrix{ComplexF64}, ::Matrix{ComplexF64})",
      "",
      "Stacktrace:",
      " [1] top-level scope",
      "   @ In[47]:3"
     ]
    }
   ],
   "source": [
    "using DSP\n",
    "\n",
    "pss00 = crosscor(pss0_t, pss0_t)\n"
   ]
  },
  {
   "cell_type": "markdown",
   "id": "4b5fec40-0a6a-422e-b34e-b4f158d2bcfa",
   "metadata": {},
   "source": [
    "# References\n",
    "\n",
    "- [ ] [JULIA matrix norm is different MATLAB](https://discourse.julialang.org/t/julia-matrix-norm-is-different-matlab/72500)"
   ]
  }
 ],
 "metadata": {
  "kernelspec": {
   "display_name": "Julia 1.9.3",
   "language": "julia",
   "name": "julia-1.9"
  },
  "language_info": {
   "file_extension": ".jl",
   "mimetype": "application/julia",
   "name": "julia",
   "version": "1.9.3"
  }
 },
 "nbformat": 4,
 "nbformat_minor": 5
}
