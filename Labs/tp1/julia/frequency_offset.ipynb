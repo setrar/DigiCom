{
 "cells": [
  {
   "cell_type": "code",
   "execution_count": 5,
   "id": "6a4869fc-1165-407a-bbcd-34672049b9c7",
   "metadata": {},
   "outputs": [
    {
     "data": {
      "text/plain": [
       "616447×1 Matrix{ComplexF64}:\n",
       "   -7.30420513781688 + 19.17827614654979im\n",
       "  -6.235568689840052 - 16.03725969281452im\n",
       "  -2.258558106684027 + 2.8956188355413506im\n",
       "  -7.150135124542732 - 4.681072058250714im\n",
       "  -5.998664170483877 - 2.1136061862911966im\n",
       "  1.9124045963724996 + 11.70258681986483im\n",
       " -27.349476703132172 + 2.8440109421277078im\n",
       "   21.33727198684838 - 14.893436673102654im\n",
       "  -27.12756746352768 - 0.23518242108467657im\n",
       "  -7.305977542152497 + 9.734681303892664im\n",
       "  -3.887131829447269 + 9.808359802074913im\n",
       "  -3.943258980037903 + 1.2724535839268776im\n",
       "  -4.371416110451952 - 9.179026684931815im\n",
       "                     ⋮\n",
       "   7.472893599436767 + 2.9326513734340383im\n",
       " -3.9892953536195654 + 3.23454877921165im\n",
       "  1.0872390663116576 + 4.362068028518762im\n",
       "  -3.447514490899046 + 11.324099065517167im\n",
       "  3.3832785922608473 - 0.1300197132194282im\n",
       "  -5.850861407983038 - 8.865639460308959im\n",
       "  3.1931168325471235 + 2.1947855305468567im\n",
       "  -6.394118585808092 - 1.3345446157155723im\n",
       "    9.18309247587125 - 5.847162393478896im\n",
       "  1.9831575563579156 + 11.299379465149828im\n",
       " -13.366416325917235 - 2.1861851890026665im\n",
       "   4.048834258444045 + 10.654215978435726im"
      ]
     },
     "execution_count": 5,
     "metadata": {},
     "output_type": "execute_result"
    }
   ],
   "source": [
    "include(\"rxsignal_withchannelandfreqoff.jl\")"
   ]
  },
  {
   "cell_type": "code",
   "execution_count": 6,
   "id": "0b641e34-f2e2-4370-9cad-fd3eef96cf8e",
   "metadata": {},
   "outputs": [
    {
     "data": {
      "text/plain": [
       "2048-element Vector{Complex{Int64}}:\n",
       " -363 + 0im\n",
       " -363 + 0im\n",
       "  362 + 0im\n",
       "  362 + 0im\n",
       "  362 + 0im\n",
       "  362 + 0im\n",
       "  362 + 0im\n",
       " -363 + 0im\n",
       " -363 + 0im\n",
       "  362 + 0im\n",
       " -363 + 0im\n",
       " -363 + 0im\n",
       "  362 + 0im\n",
       "      ⋮\n",
       " -363 + 0im\n",
       " -363 + 0im\n",
       "  362 + 0im\n",
       "  362 + 0im\n",
       " -363 + 0im\n",
       "  362 + 0im\n",
       " -363 + 0im\n",
       "  362 + 0im\n",
       " -363 + 0im\n",
       " -363 + 0im\n",
       "  362 + 0im\n",
       "  362 + 0im"
      ]
     },
     "execution_count": 6,
     "metadata": {},
     "output_type": "execute_result"
    }
   ],
   "source": [
    "include(\"pss2.jl\")"
   ]
  },
  {
   "cell_type": "code",
   "execution_count": 7,
   "id": "d1232d5f-95d9-4515-b878-626e14379af5",
   "metadata": {},
   "outputs": [
    {
     "data": {
      "text/plain": [
       "1×2048 Matrix{ComplexF64}:\n",
       " -0.208008+0.0im  -0.195335+0.323072im  …  -0.195335-0.323072im"
      ]
     },
     "execution_count": 7,
     "metadata": {},
     "output_type": "execute_result"
    }
   ],
   "source": [
    "using FFTW  # Import the FFTW library for fast Fourier transform\n",
    "pss2_t = ifft(pss_2')"
   ]
  },
  {
   "cell_type": "code",
   "execution_count": 8,
   "id": "37c98c25-2735-49d6-bcb1-dead66961771",
   "metadata": {},
   "outputs": [],
   "source": [
    "using Plots\n",
    "using DSP"
   ]
  },
  {
   "cell_type": "code",
   "execution_count": 9,
   "id": "18892fcd-3317-40c5-aebc-69d7319bd974",
   "metadata": {},
   "outputs": [
    {
     "ename": "LoadError",
     "evalue": "MethodError: no method matching isless(::Float64, ::ComplexF64)\n\n\u001b[0mClosest candidates are:\n\u001b[0m  isless(::T, \u001b[91m::T\u001b[39m) where T<:Union{Float16, Float32, Float64}\n\u001b[0m\u001b[90m   @\u001b[39m \u001b[90mBase\u001b[39m \u001b[90m\u001b[4mfloat.jl:547\u001b[24m\u001b[39m\n\u001b[0m  isless(\u001b[91m::Intervals.Endpoint{T, Intervals.Direction{:Right}()} where T\u001b[39m, ::Any)\n\u001b[0m\u001b[90m   @\u001b[39m \u001b[32mIntervals\u001b[39m \u001b[90m~/.julia/packages/Intervals/V53WF/src/\u001b[39m\u001b[90m\u001b[4mendpoint.jl:161\u001b[24m\u001b[39m\n\u001b[0m  isless(\u001b[91m::Intervals.Endpoint{T, Intervals.Direction{:Left}()} where T\u001b[39m, ::Any)\n\u001b[0m\u001b[90m   @\u001b[39m \u001b[32mIntervals\u001b[39m \u001b[90m~/.julia/packages/Intervals/V53WF/src/\u001b[39m\u001b[90m\u001b[4mendpoint.jl:172\u001b[24m\u001b[39m\n\u001b[0m  ...\n",
     "output_type": "error",
     "traceback": [
      "MethodError: no method matching isless(::Float64, ::ComplexF64)\n\n\u001b[0mClosest candidates are:\n\u001b[0m  isless(::T, \u001b[91m::T\u001b[39m) where T<:Union{Float16, Float32, Float64}\n\u001b[0m\u001b[90m   @\u001b[39m \u001b[90mBase\u001b[39m \u001b[90m\u001b[4mfloat.jl:547\u001b[24m\u001b[39m\n\u001b[0m  isless(\u001b[91m::Intervals.Endpoint{T, Intervals.Direction{:Right}()} where T\u001b[39m, ::Any)\n\u001b[0m\u001b[90m   @\u001b[39m \u001b[32mIntervals\u001b[39m \u001b[90m~/.julia/packages/Intervals/V53WF/src/\u001b[39m\u001b[90m\u001b[4mendpoint.jl:161\u001b[24m\u001b[39m\n\u001b[0m  isless(\u001b[91m::Intervals.Endpoint{T, Intervals.Direction{:Left}()} where T\u001b[39m, ::Any)\n\u001b[0m\u001b[90m   @\u001b[39m \u001b[32mIntervals\u001b[39m \u001b[90m~/.julia/packages/Intervals/V53WF/src/\u001b[39m\u001b[90m\u001b[4mendpoint.jl:172\u001b[24m\u001b[39m\n\u001b[0m  ...\n",
      "",
      "Stacktrace:",
      "  [1] min(x::ComplexF64, y::Float64)",
      "    @ Base ./operators.jl:481",
      "  [2] expand_extrema!",
      "    @ ~/.julia/packages/Plots/sxUvK/src/axes.jl:425 [inlined]",
      "  [3] #113",
      "    @ ~/.julia/packages/Plots/sxUvK/src/axes.jl:444 [inlined]",
      "  [4] foreach",
      "    @ ./abstractarray.jl:3075 [inlined]",
      "  [5] expand_extrema!(axis::Plots.Axis, v::Vector{ComplexF64})",
      "    @ Plots ~/.julia/packages/Plots/sxUvK/src/axes.jl:444",
      "  [6] expand_extrema!(sp::Plots.Subplot{Plots.GRBackend}, plotattributes::RecipesPipeline.DefaultsDict)",
      "    @ Plots ~/.julia/packages/Plots/sxUvK/src/axes.jl:0",
      "  [7] _expand_subplot_extrema(sp::Plots.Subplot{Plots.GRBackend}, plotattributes::RecipesPipeline.DefaultsDict, st::Symbol)",
      "    @ Plots ~/.julia/packages/Plots/sxUvK/src/pipeline.jl:433",
      "  [8] add_series!(plt::Plots.Plot{Plots.GRBackend}, plotattributes::RecipesPipeline.DefaultsDict)",
      "    @ Plots ~/.julia/packages/Plots/sxUvK/src/pipeline.jl:376",
      "  [9] _process_seriesrecipe(plt::Any, plotattributes::Any)",
      "    @ RecipesPipeline ~/.julia/packages/RecipesPipeline/BGM3l/src/series_recipe.jl:46",
      " [10] _process_seriesrecipes!(plt::Any, kw_list::Any)",
      "    @ RecipesPipeline ~/.julia/packages/RecipesPipeline/BGM3l/src/series_recipe.jl:27",
      " [11] recipe_pipeline!(plt::Any, plotattributes::Any, args::Any)",
      "    @ RecipesPipeline ~/.julia/packages/RecipesPipeline/BGM3l/src/RecipesPipeline.jl:99",
      " [12] _plot!(plt::Plots.Plot, plotattributes::Any, args::Any)",
      "    @ Plots ~/.julia/packages/Plots/sxUvK/src/plot.jl:223",
      " [13] #plot#188",
      "    @ ~/.julia/packages/Plots/sxUvK/src/plot.jl:102 [inlined]",
      " [14] plot(args::Any)",
      "    @ Plots ~/.julia/packages/Plots/sxUvK/src/plot.jl:93",
      " [15] top-level scope",
      "    @ In[9]:1"
     ]
    }
   ],
   "source": [
    "plot(pss2_t)"
   ]
  },
  {
   "cell_type": "code",
   "execution_count": null,
   "id": "7056215a-7d09-4cb1-877f-abc6d1b5435e",
   "metadata": {},
   "outputs": [],
   "source": [
    "# Assuming rxs3 and pss2_t are arrays in Julia\n",
    "\n",
    "# Perform convolution\n",
    "m2_chan = 10 * log10.(abs(conv(rxs3, conj(reverse(pss2_t)))))\n",
    "# Find maximum value and its index\n",
    "c2_chan, NF2_chan = findmax(m2_chan)\n",
    "\n",
    "\n"
   ]
  },
  {
   "cell_type": "code",
   "execution_count": null,
   "id": "22665f28-73ad-4ccb-a249-cc7dd7186132",
   "metadata": {},
   "outputs": [],
   "source": [
    "# Plot the result\n",
    "plot(m2_chan, xlabel=\"Sample\", ylabel=\"Power (dB)\", title=\"Convolution Result\", ylim=(10, 60))\n"
   ]
  }
 ],
 "metadata": {
  "kernelspec": {
   "display_name": "Julia 1.9.3",
   "language": "julia",
   "name": "julia-1.9"
  },
  "language_info": {
   "file_extension": ".jl",
   "mimetype": "application/julia",
   "name": "julia",
   "version": "1.9.4"
  }
 },
 "nbformat": 4,
 "nbformat_minor": 5
}
