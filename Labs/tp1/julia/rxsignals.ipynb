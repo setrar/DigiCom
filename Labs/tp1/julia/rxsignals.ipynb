{
 "cells": [
  {
   "cell_type": "markdown",
   "id": "28da51c3-c424-4d47-936b-a5edad2aaa34",
   "metadata": {},
   "source": [
    "\n",
    "\n",
    "\n",
    "# Just Noise\n",
    "load('rxsignal_justnoise.mat')\n",
    "figure(1); subplot(411) ; plot (10*log10(abs(fftshift(fft(rxs0)))))\n",
    "figure(1); subplot(412) ; plot (10*log10(abs(fftshift(fft(rxs1)))))\n",
    "\n",
    "\n",
    "figure(1); subplot(323) ; plot (10*log10(abs(fftshift(fft(rxs0)))))\n",
    "figure(1); subplot(326) ; plot (10*log10(abs(fftshift(fft(rxs1)))))\n",
    "\n",
    "\n",
    "subplot(423) ; plot (10*log10(abs(fftshift(fft(rxs1)))))\n",
    "subplot(423) ; plot (10*log10(abs(fftshift(fft(rxs1)))))\n",
    "## rxs3\n",
    "subplot(426) ; plot (10*log10(abs(fftshift(fft(rxs3)))))\n",
    "\n",
    "\n",
    "figure(1) ; plot (10*log10(abs(fftshift(fft(rxs0))))) # Flat Signal\n",
    "\n",
    "## H(f) 1.2.1 - response 4\n",
    "figure(3) ; plot (10*log10(abs(fftshift(fft(rxs3))))) "
   ]
  },
  {
   "cell_type": "markdown",
   "id": "82de124e-0280-410a-b39c-aaad5380435f",
   "metadata": {},
   "source": [
    "# 1.3.1 Questions 3"
   ]
  },
  {
   "cell_type": "markdown",
   "id": "802d1f5e-3075-4260-863d-2253f4be742c",
   "metadata": {},
   "source": [
    "run('pss')\n",
    "run('pss0')\n",
    "subplot(311) ; m0 = 10*log10(abs(conv(rxs0,conj(fliplr(pss0_t))))); [c0,Nf0] = max(m0); plot(m0);\n",
    "subplot(312) ; m1 = 10*log10(abs(conv(rxs0,conj(fliplr(pss1_t))))); [c1,Nf1] = max(m1); plot(m1);\n",
    "subplot(313) ; m2 = 10*log10(abs(conv(rxs0,conj(fliplr(pss2_t))))); [c2,Nf2] = max(m2); plot(m2);\n",
    "\n",
    "plot(m0,'r',m1,'g',m2,'b')\n",
    "axis([1 1000 10 40])"
   ]
  },
  {
   "cell_type": "code",
   "execution_count": null,
   "id": "358387c6-70f7-4716-bdaf-11a1a3b0e3f0",
   "metadata": {},
   "outputs": [],
   "source": [
    "run('pss')\n",
    "run('pss0')\n",
    "m0 = 10*log10(abs(conv(rxs0,conj(fliplr(pss0_t))))); [c0,Nf0] = max(m0);\n",
    "m1 = 10*log10(abs(conv(rxs0,conj(fliplr(pss1_t))))); [c1,Nf1] = max(m1);\n",
    "m2 = 10*log10(abs(conv(rxs0,conj(fliplr(pss2_t))))); [c2,Nf2] = max(m2);\n",
    "\n",
    "figure(1)\n",
    "plot(m0,'r',m1,'g',m2,'b')\n",
    "axis([1 1000 10 40])\n",
    "\n",
    "plot(m0,'r')\n",
    "plot(m1,'g')\n",
    "plot(m2,'b')"
   ]
  },
  {
   "cell_type": "markdown",
   "id": "6ef58704-be1e-4448-8804-3d5d3c7c95fe",
   "metadata": {},
   "source": [
    "\n",
    "```\n",
    "load('rxsignal_withchannel.mat')\n",
    "m2_chan = 10*log10(abs(conv(rxs2,conj(fliplr(pss2_t))))); [c2_chan,Nf2_chan] = max(m2_chan);\n",
    "```"
   ]
  },
  {
   "cell_type": "markdown",
   "id": "a781e18f-7ae5-4227-b577-1c171ce3a29f",
   "metadata": {},
   "source": [
    "- [ ] [USRP ](https://files.ettus.com/manual/)"
   ]
  },
  {
   "cell_type": "code",
   "execution_count": null,
   "id": "53498fda-32e0-4b2b-a4bb-de01969e9517",
   "metadata": {},
   "outputs": [],
   "source": []
  }
 ],
 "metadata": {
  "kernelspec": {
   "display_name": "Julia 1.9.3",
   "language": "julia",
   "name": "julia-1.9"
  },
  "language_info": {
   "file_extension": ".jl",
   "mimetype": "application/julia",
   "name": "julia",
   "version": "1.9.3"
  }
 },
 "nbformat": 4,
 "nbformat_minor": 5
}
