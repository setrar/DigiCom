{
 "cells": [
  {
   "cell_type": "code",
   "execution_count": 6,
   "id": "07cc0e5c-0d9e-4ae5-ade2-9a936a8f1bc5",
   "metadata": {},
   "outputs": [
    {
     "data": {
      "text/plain": [
       "7.68e6"
      ]
     },
     "execution_count": 6,
     "metadata": {},
     "output_type": "execute_result"
    }
   ],
   "source": [
    "𝑓ₛ = 7.68e6"
   ]
  },
  {
   "cell_type": "code",
   "execution_count": 16,
   "id": "ff6c5595-e2d7-4507-8a97-282d14dbc183",
   "metadata": {},
   "outputs": [
    {
     "data": {
      "text/plain": [
       "512"
      ]
     },
     "execution_count": 16,
     "metadata": {},
     "output_type": "execute_result"
    }
   ],
   "source": [
    "Nsymbols = 1877\n",
    "Tu = 512"
   ]
  },
  {
   "cell_type": "code",
   "execution_count": 17,
   "id": "02abdbd6-7542-40b3-820b-afa61ae64381",
   "metadata": {},
   "outputs": [
    {
     "data": {
      "text/plain": [
       "0.0 + 1.0im"
      ]
     },
     "execution_count": 17,
     "metadata": {},
     "output_type": "execute_result"
    }
   ],
   "source": [
    "j = sqrt(Complex(-1))"
   ]
  },
  {
   "cell_type": "code",
   "execution_count": 18,
   "id": "302bdfa9-cbaf-4b79-836d-845218e61886",
   "metadata": {},
   "outputs": [
    {
     "data": {
      "text/plain": [
       "13"
      ]
     },
     "execution_count": 18,
     "metadata": {},
     "output_type": "execute_result"
    }
   ],
   "source": [
    "Nssblocks = Nsymbols ÷ 140  # Integer division"
   ]
  },
  {
   "cell_type": "code",
   "execution_count": 24,
   "id": "cc070470-8146-4ce3-9259-55e9b10ef7fe",
   "metadata": {},
   "outputs": [
    {
     "name": "stdout",
     "output_type": "stream",
     "text": [
      "(pbch[1], length(pbch)) = (0.0 + 0.0im, 576)\n",
      "(pbch[1], length(pbch)) = (0.0 + 0.0im, 576)\n",
      "(pbch[1], length(pbch)) = (0.0 + 0.0im, 576)\n",
      "(pbch[1], length(pbch)) = (0.0 + 0.0im, 576)\n",
      "(pbch[1], length(pbch)) = (0.0 + 0.0im, 576)\n",
      "(pbch[1], length(pbch)) = (0.0 + 0.0im, 576)\n",
      "(pbch[1], length(pbch)) = (0.0 + 0.0im, 576)\n",
      "(pbch[1], length(pbch)) = (0.0 + 0.0im, 576)\n",
      "(pbch[1], length(pbch)) = (0.0 + 0.0im, 576)\n",
      "(pbch[1], length(pbch)) = (0.0 + 0.0im, 576)\n",
      "(pbch[1], length(pbch)) = (0.0 + 0.0im, 576)\n",
      "(pbch[1], length(pbch)) = (0.0 + 0.0im, 576)\n",
      "(pbch[1], length(pbch)) = (0.0 + 0.0im, 576)\n"
     ]
    }
   ],
   "source": [
    "for j in 1:Nssblocks\n",
    "    s0 = (j-1) * 140 + 1  # Adjusted for 1-based indexing\n",
    "    pbch = vcat(\n",
    "        symbols[s0 + 1, Tu ÷ 2 - 120:Tu ÷ 2 + 120 - 1],\n",
    "        symbols[s0 + 2, Tu ÷ 2 - 120:Tu ÷ 2 - 120 + 48 - 1],\n",
    "        symbols[s0 + 2, Tu ÷ 2 - 120 + 192:Tu ÷ 2 + 120 - 1],\n",
    "        symbols[s0 + 3, Tu ÷ 2 - 120:Tu ÷ 2 + 120 - 1]\n",
    "    ); @show pbch[1], length(pbch);\n",
    "end"
   ]
  },
  {
   "cell_type": "code",
   "execution_count": 20,
   "id": "bcb2dfeb-a0f9-4f40-84e1-8ddf9f111c6e",
   "metadata": {},
   "outputs": [
    {
     "data": {
      "text/plain": [
       "1681"
      ]
     },
     "execution_count": 20,
     "metadata": {},
     "output_type": "execute_result"
    }
   ],
   "source": [
    "s0"
   ]
  },
  {
   "cell_type": "code",
   "execution_count": 22,
   "id": "cfad83c1-3c3c-48ff-a483-6acea8a4a00d",
   "metadata": {},
   "outputs": [],
   "source": [
    "symbols = Array{ComplexF64}(undef, Nsymbols, Tu);"
   ]
  },
  {
   "cell_type": "code",
   "execution_count": 23,
   "id": "9ceb1d8c-5d7b-4977-af71-d355727a05d5",
   "metadata": {},
   "outputs": [
    {
     "name": "stdout",
     "output_type": "stream",
     "text": [
      "(pbch[1], length(pbch)) = (0.0 + 0.0im, 576)\n"
     ]
    }
   ],
   "source": []
  },
  {
   "cell_type": "code",
   "execution_count": null,
   "id": "2584f731-0d94-45af-a407-e1dbf1602607",
   "metadata": {},
   "outputs": [],
   "source": []
  }
 ],
 "metadata": {
  "kernelspec": {
   "display_name": "Julia 1.9.3",
   "language": "julia",
   "name": "julia-1.9"
  },
  "language_info": {
   "file_extension": ".jl",
   "mimetype": "application/julia",
   "name": "julia",
   "version": "1.10.3"
  }
 },
 "nbformat": 4,
 "nbformat_minor": 5
}
