{
 "cells": [
  {
   "cell_type": "code",
   "execution_count": 3,
   "id": "1eac9d97-217c-431a-b1fe-20eb251a40c9",
   "metadata": {},
   "outputs": [
    {
     "data": {
      "text/plain": [
       "example (generic function with 2 methods)"
      ]
     },
     "execution_count": 3,
     "metadata": {},
     "output_type": "execute_result"
    }
   ],
   "source": [
    "function example end"
   ]
  },
  {
   "cell_type": "code",
   "execution_count": 4,
   "id": "0f8e9be1-c715-4c62-abb3-09c29045bc48",
   "metadata": {},
   "outputs": [
    {
     "data": {
      "text/plain": [
       "example (generic function with 2 methods)"
      ]
     },
     "execution_count": 4,
     "metadata": {},
     "output_type": "execute_result"
    }
   ],
   "source": [
    "function example(x::Int64)\n",
    "    println(\"example: $x\")\n",
    "end"
   ]
  },
  {
   "cell_type": "code",
   "execution_count": 5,
   "id": "38e97430-6968-4ba5-ac14-f640f9f36a52",
   "metadata": {},
   "outputs": [
    {
     "data": {
      "text/plain": [
       "example (generic function with 2 methods)"
      ]
     },
     "execution_count": 5,
     "metadata": {},
     "output_type": "execute_result"
    }
   ],
   "source": [
    "function example(str::String)\n",
    "    println(\"string example: $str\")\n",
    "end"
   ]
  },
  {
   "cell_type": "code",
   "execution_count": 6,
   "id": "6c6287e4-4e7a-4c29-9ac8-a2ddfe6caa7d",
   "metadata": {},
   "outputs": [
    {
     "data": {
      "text/plain": [
       "example (generic function with 3 methods)"
      ]
     },
     "execution_count": 6,
     "metadata": {},
     "output_type": "execute_result"
    }
   ],
   "source": [
    "function example(str::String ...)\n",
    "    print(join([\"string example: $s\" for s in str], \"\\n\"))\n",
    "end"
   ]
  },
  {
   "cell_type": "code",
   "execution_count": 7,
   "id": "97f4ea84-9a40-4407-b88f-1e7a1b5c9914",
   "metadata": {},
   "outputs": [
    {
     "name": "stdout",
     "output_type": "stream",
     "text": [
      "string example: the fox is not a dog\n"
     ]
    }
   ],
   "source": [
    "example(\"the fox is not a dog\")"
   ]
  },
  {
   "cell_type": "code",
   "execution_count": 8,
   "id": "7471fb1f-8c83-4da8-bdfa-fae82844b321",
   "metadata": {},
   "outputs": [
    {
     "name": "stdout",
     "output_type": "stream",
     "text": [
      "string example: domestic\n"
     ]
    }
   ],
   "source": [
    "example(\"domestic\")"
   ]
  },
  {
   "cell_type": "code",
   "execution_count": 11,
   "id": "bb7fb0db-cfbd-45d5-ae60-02581a9135b6",
   "metadata": {},
   "outputs": [
    {
     "name": "stdout",
     "output_type": "stream",
     "text": [
      "example: 4\n"
     ]
    }
   ],
   "source": [
    "example(4)"
   ]
  },
  {
   "cell_type": "code",
   "execution_count": 12,
   "id": "1cf35a82-54bf-4cc3-8c72-ff2d844d9d70",
   "metadata": {},
   "outputs": [
    {
     "data": {
      "text/html": [
       "# 3 methods for generic function <b>example</b> from \u001b[35mMain\u001b[39m:<ul><li> example(str::<b>String</b>) in Main at In[5]:1</li> <li> example(x::<b>Int64</b>) in Main at In[4]:1</li> <li> example(str::<b>String...</b>) in Main at In[6]:1</li> </ul>"
      ],
      "text/plain": [
       "# 3 methods for generic function \"example\" from \u001b[35mMain\u001b[39m:\n",
       " [1] example(\u001b[90mstr\u001b[39m::\u001b[1mString\u001b[22m)\n",
       "\u001b[90m     @\u001b[39m \u001b[90m\u001b[4mIn[5]:1\u001b[24m\u001b[39m\n",
       " [2] example(\u001b[90mx\u001b[39m::\u001b[1mInt64\u001b[22m)\n",
       "\u001b[90m     @\u001b[39m \u001b[90m\u001b[4mIn[4]:1\u001b[24m\u001b[39m\n",
       " [3] example(\u001b[90mstr\u001b[39m::\u001b[1mString...\u001b[22m)\n",
       "\u001b[90m     @\u001b[39m \u001b[90m\u001b[4mIn[6]:1\u001b[24m\u001b[39m"
      ]
     },
     "execution_count": 12,
     "metadata": {},
     "output_type": "execute_result"
    }
   ],
   "source": [
    "methods(example)"
   ]
  },
  {
   "cell_type": "code",
   "execution_count": null,
   "id": "36548c85-9320-4c54-8a48-6fc1b0dd37c7",
   "metadata": {},
   "outputs": [],
   "source": []
  }
 ],
 "metadata": {
  "kernelspec": {
   "display_name": "Julia 1.9.3",
   "language": "julia",
   "name": "julia-1.9"
  },
  "language_info": {
   "file_extension": ".jl",
   "mimetype": "application/julia",
   "name": "julia",
   "version": "1.10.0"
  }
 },
 "nbformat": 4,
 "nbformat_minor": 5
}
