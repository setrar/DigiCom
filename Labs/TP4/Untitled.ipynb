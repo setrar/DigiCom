{
 "cells": [
  {
   "cell_type": "code",
   "execution_count": null,
   "id": "c92cfde2-4ae5-47d2-ab92-375dbff63537",
   "metadata": {},
   "outputs": [],
   "source": []
  },
  {
   "cell_type": "code",
   "execution_count": 3,
   "id": "0783c9c2-1f33-4753-9f6a-27df01359059",
   "metadata": {},
   "outputs": [],
   "source": [
    "# M=[0xFFFFFFFF, 0x4BA5A933, 0x7D910E5A, 0x6D26339C, 0x71C7C3E0, 0x7E0FFC00, 0x731D8E64, 0x6B44F5B0, 0x7DC218EC, 0x4DA1B746, 0x42F0FFFF]\n",
    "M = [4294967295, 1269147955, 2106658394, 1831220124, 1908917216, 2114976768, 1931316836, 1799681456, 2109872364, 1302443846, 1123090431]\n",
    "\n",
    "# K=11 bit, S=14 symbols\n",
    "C11_3gpp = zeros(Complex{Float64}, 2048, 14 * 12)\n",
    "cw_QPSK = zeros(Complex{Float64}, 16)\n",
    "cw = zeros(Complex{Float64}, 32);\n"
   ]
  },
  {
   "cell_type": "code",
   "execution_count": 17,
   "id": "563ae65c-724d-41b9-a7d4-82d6f4cf96fd",
   "metadata": {},
   "outputs": [
    {
     "name": "stdout",
     "output_type": "stream",
     "text": [
      "(C, Cₙ) = (0, 0.0)\n",
      "(C, Cₙ) = (0, 0.0)\n",
      "(C, Cₙ) = (0, 0.0)\n",
      "(C, Cₙ) = (0, 0.0)\n",
      "(C, Cₙ) = (0, 0.0)\n",
      "(C, Cₙ) = (0, 0.0)\n",
      "(C, Cₙ) = (0, 0.0)\n",
      "(C, Cₙ) = (0, 0.0)\n",
      "(C, Cₙ) = (0, 0.0)\n",
      "(C, Cₙ) = (0, 0.0)\n"
     ]
    },
    {
     "ename": "LoadError",
     "evalue": "MethodError: no method matching copyto!(::Int64, ::Base.Broadcast.Broadcasted{Base.Broadcast.DefaultArrayStyle{0}, Tuple{}, typeof(+), Tuple{Int64, Int64}})\n\n\u001b[0mClosest candidates are:\n\u001b[0m  copyto!(\u001b[91m::AbstractArray\u001b[39m, ::Base.Broadcast.Broadcasted{<:Base.Broadcast.AbstractArrayStyle{0}})\n\u001b[0m\u001b[90m   @\u001b[39m \u001b[90mBase\u001b[39m \u001b[90m\u001b[4mbroadcast.jl:959\u001b[24m\u001b[39m\n\u001b[0m  copyto!(\u001b[91m::AbstractArray\u001b[39m, ::Base.Broadcast.Broadcasted)\n\u001b[0m\u001b[90m   @\u001b[39m \u001b[90mBase\u001b[39m \u001b[90m\u001b[4mbroadcast.jl:956\u001b[24m\u001b[39m\n\u001b[0m  copyto!(\u001b[91m::AbstractArray\u001b[39m, ::Any)\n\u001b[0m\u001b[90m   @\u001b[39m \u001b[90mBase\u001b[39m \u001b[90m\u001b[4mabstractarray.jl:937\u001b[24m\u001b[39m\n",
     "output_type": "error",
     "traceback": [
      "MethodError: no method matching copyto!(::Int64, ::Base.Broadcast.Broadcasted{Base.Broadcast.DefaultArrayStyle{0}, Tuple{}, typeof(+), Tuple{Int64, Int64}})\n\n\u001b[0mClosest candidates are:\n\u001b[0m  copyto!(\u001b[91m::AbstractArray\u001b[39m, ::Base.Broadcast.Broadcasted{<:Base.Broadcast.AbstractArrayStyle{0}})\n\u001b[0m\u001b[90m   @\u001b[39m \u001b[90mBase\u001b[39m \u001b[90m\u001b[4mbroadcast.jl:959\u001b[24m\u001b[39m\n\u001b[0m  copyto!(\u001b[91m::AbstractArray\u001b[39m, ::Base.Broadcast.Broadcasted)\n\u001b[0m\u001b[90m   @\u001b[39m \u001b[90mBase\u001b[39m \u001b[90m\u001b[4mbroadcast.jl:956\u001b[24m\u001b[39m\n\u001b[0m  copyto!(\u001b[91m::AbstractArray\u001b[39m, ::Any)\n\u001b[0m\u001b[90m   @\u001b[39m \u001b[90mBase\u001b[39m \u001b[90m\u001b[4mabstractarray.jl:937\u001b[24m\u001b[39m\n",
      "",
      "Stacktrace:",
      " [1] materialize!",
      "   @ Base.Broadcast ./broadcast.jl:914 [inlined]",
      " [2] materialize!(dest::Int64, bc::Base.Broadcast.Broadcasted{Base.Broadcast.DefaultArrayStyle{0}, Nothing, typeof(+), Tuple{Int64, Int64}})",
      "   @ Base.Broadcast ./broadcast.jl:911",
      " [3] top-level scope",
      "   @ ./In[17]:25"
     ]
    }
   ],
   "source": [
    "for C in 0:2047 # C is in the input c-sequence, C=[c0 c1 c2 ... c(K-1)]\n",
    "    # a\n",
    "    D = mod(C, 2) * M[1] # D is the d-sequence, D=[d0 d1 d2 ... d31]\n",
    "    for n in 2:11\n",
    "        Cₙ = mod(floor(C * 2.0^(1 - n)), 2) * M[n]; @show C, Cₙ \n",
    "        D = xor(D, Int64(Cₙ) )\n",
    "    end\n",
    "\n",
    "    for n in 0:2:31 # This is pi/2-BPSK\n",
    "        bit0 = 1 - 2 * mod(floor(D / 2^n), 2)\n",
    "        bit1 = 1 - 2 * mod(floor(D / 2^(n + 1)), 2)\n",
    "        cw[1 + n] = bit0\n",
    "        cw[2 + n] = im * bit1  # to use normal BPSK, remove the pi/2 rotation\n",
    "        cw_QPSK[1 + div(n, 2)] = (bit0 + im * bit1) / sqrt(2)\n",
    "    end\n",
    "\n",
    "    idx = 0\n",
    "    for symb in 0:13\n",
    "        for re in 0:11\n",
    "            if symb == 3 || symb == 10\n",
    "                C11_3gpp[1 + C, 1 + (symb * 12) + (0:11)] .= ones(Complex{Float64}, 12)\n",
    "            end\n",
    "\n",
    "            C11_3gpp[1 + C, 1 .+ (symb * 12) + re] = cw[1 + rem(idx, 32)]  # rate-matching of the cw-sequence\n",
    "            idx .+= 1\n",
    "        end\n",
    "    end\n",
    "end\n"
   ]
  },
  {
   "cell_type": "code",
   "execution_count": 1,
   "id": "9356ff57-4989-410b-b5ac-ad3938254b26",
   "metadata": {},
   "outputs": [
    {
     "ename": "LoadError",
     "evalue": "DomainError with -1:\nCannot raise an integer x to a negative power -1.\nMake x or -1 a float by adding a zero decimal (e.g., 2.0^-1 or 2^-1.0 instead of 2^-1)or write 1/x^1, float(x)^-1, x^float(-1) or (x//1)^-1.",
     "output_type": "error",
     "traceback": [
      "DomainError with -1:\nCannot raise an integer x to a negative power -1.\nMake x or -1 a float by adding a zero decimal (e.g., 2.0^-1 or 2^-1.0 instead of 2^-1)or write 1/x^1, float(x)^-1, x^float(-1) or (x//1)^-1.",
      "",
      "Stacktrace:",
      " [1] throw_domerr_powbysq(::Int64, p::Int64)",
      "   @ Base ./intfuncs.jl:265",
      " [2] power_by_squaring(x_::Int64, p::Int64)",
      "   @ Base ./intfuncs.jl:286",
      " [3] ^(x::Int64, p::Int64)",
      "   @ Base ./intfuncs.jl:310",
      " [4] top-level scope",
      "   @ ./In[1]:13"
     ]
    }
   ],
   "source": [
    "\n",
    "\n",
    "# C is the code sequence to be generated\n",
    "C = 77\n",
    "c0_t = []\n",
    "c0_t_QPSK = []\n",
    "\n",
    "for symb in 0:13\n",
    "    # extract OFDM symbols \"symb\" from coded sequence and do the DFT-precoding (SC-FDMA in the lecture slides)\n",
    "    if symb == 3\n",
    "        symb = 4\n",
    "    end\n",
    "    if symb == 10\n",
    "        symb = 11\n",
    "    end\n",
    "\n",
    "    c0_f = fft(C11_3gpp[1 + C, 1 + (symb * 12) + (0:11)])\n",
    "    c0_f_QPSK = fft(C11_3gpp[1 + C, 1 + (symb * 12) + (0:11)])\n",
    "\n",
    "    c0_t = [c0_t ifft(c0_f, 2048)]\n",
    "    c0_t_QPSK = [c0_t_QPSK ifft(c0_f_QPSK, 2048)]\n",
    "end\n",
    "\n",
    "using Plots\n",
    "\n",
    "plot(real(c0_t), label=\"Real\", subplot=211)\n",
    "plot!(imag(c0_t), label=\"Imaginary\", subplot=212)\n",
    "plot!(size=(800, 600))\n",
    "\n",
    "plot(real(c0_t), imag(c0_t), seriestype=:scatter, label=\"QAM\", aspect_ratio=:equal, legend=false)\n",
    "plot!(size=(800, 800))\n",
    "\n",
    "plot(real(c0_t_QPSK), imag(c0_t_QPSK), seriestype=:scatter, label=\"QPSK\", aspect_ratio=:equal, legend=false)\n",
    "plot!(size=(800, 800))\n"
   ]
  },
  {
   "cell_type": "code",
   "execution_count": null,
   "id": "8e7884ef-5bf6-4f61-9577-c44bc6226c13",
   "metadata": {},
   "outputs": [],
   "source": []
  }
 ],
 "metadata": {
  "kernelspec": {
   "display_name": "Julia 1.9.3",
   "language": "julia",
   "name": "julia-1.9"
  },
  "language_info": {
   "file_extension": ".jl",
   "mimetype": "application/julia",
   "name": "julia",
   "version": "1.10.0"
  }
 },
 "nbformat": 4,
 "nbformat_minor": 5
}
