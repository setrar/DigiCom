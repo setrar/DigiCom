{
 "cells": [
  {
   "cell_type": "code",
   "execution_count": 14,
   "id": "2a124f23-676a-4f7e-bd02-56de04bee782",
   "metadata": {},
   "outputs": [
    {
     "data": {
      "text/plain": [
       "mean (generic function with 1 method)"
      ]
     },
     "execution_count": 14,
     "metadata": {},
     "output_type": "execute_result"
    }
   ],
   "source": [
    "function mean(vector::Vector{<:Number})\n",
    "    mu = sum(vector) / length(vector)\n",
    "end"
   ]
  },
  {
   "cell_type": "code",
   "execution_count": 15,
   "id": "2207509d-7505-483f-8ef0-9a101707ec27",
   "metadata": {},
   "outputs": [
    {
     "data": {
      "text/plain": [
       "2-element Vector{Float64}:\n",
       " 1.0\n",
       " 2.0"
      ]
     },
     "execution_count": 15,
     "metadata": {},
     "output_type": "execute_result"
    }
   ],
   "source": [
    "a = [ 1.0 , 2.0 ]"
   ]
  },
  {
   "cell_type": "code",
   "execution_count": 16,
   "id": "0511986b-999d-4200-b6eb-447029e198a0",
   "metadata": {},
   "outputs": [
    {
     "data": {
      "text/plain": [
       "1.5"
      ]
     },
     "execution_count": 16,
     "metadata": {},
     "output_type": "execute_result"
    }
   ],
   "source": [
    "m = mean(a)"
   ]
  },
  {
   "cell_type": "code",
   "execution_count": 17,
   "id": "caa5e2f4-bc4f-4c69-8480-79c188a94455",
   "metadata": {},
   "outputs": [
    {
     "data": {
      "text/plain": [
       "1.5"
      ]
     },
     "metadata": {},
     "output_type": "display_data"
    }
   ],
   "source": [
    "display(m)"
   ]
  },
  {
   "cell_type": "code",
   "execution_count": 18,
   "id": "ab968038-cdf8-4a1d-bcd0-263d87f6b99c",
   "metadata": {},
   "outputs": [
    {
     "data": {
      "text/plain": [
       "mean (generic function with 1 method)"
      ]
     },
     "execution_count": 18,
     "metadata": {},
     "output_type": "execute_result"
    }
   ],
   "source": [
    "mean(vector::Vector{<:Number}) = return(sum(vector) / length(vector))::Float64"
   ]
  },
  {
   "cell_type": "code",
   "execution_count": 19,
   "id": "78fe749d-da00-4b7c-add9-8c678d346433",
   "metadata": {},
   "outputs": [
    {
     "data": {
      "text/plain": [
       "1.5"
      ]
     },
     "execution_count": 19,
     "metadata": {},
     "output_type": "execute_result"
    }
   ],
   "source": [
    "m = mean(a)"
   ]
  },
  {
   "cell_type": "code",
   "execution_count": 20,
   "id": "39750dc4-2ba5-441e-8837-b8d92b17dc59",
   "metadata": {},
   "outputs": [
    {
     "data": {
      "text/plain": [
       "example (generic function with 0 methods)"
      ]
     },
     "execution_count": 20,
     "metadata": {},
     "output_type": "execute_result"
    }
   ],
   "source": [
    "function example end"
   ]
  },
  {
   "cell_type": "code",
   "execution_count": 21,
   "id": "025e7e49-4c8f-4995-b37c-c9a57239d9f5",
   "metadata": {},
   "outputs": [
    {
     "data": {
      "text/plain": [
       "example (generic function with 0 methods)"
      ]
     },
     "execution_count": 21,
     "metadata": {},
     "output_type": "execute_result"
    }
   ],
   "source": [
    "example"
   ]
  },
  {
   "cell_type": "code",
   "execution_count": null,
   "id": "3901f5d6-f372-4a67-b364-ff4811244c54",
   "metadata": {},
   "outputs": [],
   "source": []
  }
 ],
 "metadata": {
  "kernelspec": {
   "display_name": "Julia 1.9.3",
   "language": "julia",
   "name": "julia-1.9"
  },
  "language_info": {
   "file_extension": ".jl",
   "mimetype": "application/julia",
   "name": "julia",
   "version": "1.10.0"
  }
 },
 "nbformat": 4,
 "nbformat_minor": 5
}
