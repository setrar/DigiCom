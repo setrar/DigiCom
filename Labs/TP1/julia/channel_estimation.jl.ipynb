{
 "cells": [
  {
   "cell_type": "markdown",
   "id": "4f8f9f75-543c-4494-8a8e-1da6add53103",
   "metadata": {},
   "source": [
    "# Channel Estimation"
   ]
  },
  {
   "cell_type": "code",
   "execution_count": 1,
   "id": "196d1094-63d8-4f33-83f6-92dc5cf65984",
   "metadata": {},
   "outputs": [],
   "source": [
    "using DSP\n",
    "using FFTW"
   ]
  },
  {
   "cell_type": "code",
   "execution_count": 2,
   "id": "e2ec578d-f326-49e5-acdd-35ac282712ef",
   "metadata": {},
   "outputs": [
    {
     "data": {
      "text/plain": [
       "⊗ (generic function with 1 method)"
      ]
     },
     "execution_count": 2,
     "metadata": {},
     "output_type": "execute_result"
    }
   ],
   "source": [
    "# Some Math tools\n",
    "# Inverse Fourier Transform function\n",
    "Fᴵ = ifft \n",
    "\n",
    "# Convolution infix operation\n",
    "function ⊗(a, b) \n",
    "    return conv(a,b)\n",
    "end\n"
   ]
  },
  {
   "cell_type": "code",
   "execution_count": 3,
   "id": "35a52868-4ec2-4eec-a553-07de90e9502f",
   "metadata": {},
   "outputs": [],
   "source": [
    "include(\"rxsignal_withchannelandfreqoff.jl\");"
   ]
  },
  {
   "cell_type": "code",
   "execution_count": 4,
   "id": "cc49e777-70bc-425a-bd5b-32e439a56873",
   "metadata": {},
   "outputs": [],
   "source": [
    "# RX Received Signal 3\n",
    "Ŝᵣₓ³ = rxs3;"
   ]
  },
  {
   "cell_type": "code",
   "execution_count": 5,
   "id": "f47265a4-675c-45e6-94d4-090e2fe36905",
   "metadata": {},
   "outputs": [],
   "source": [
    "include(\"pss2.jl\");"
   ]
  },
  {
   "cell_type": "code",
   "execution_count": 16,
   "id": "d3e5e304-73d2-47e2-9af5-e6c61d96b7e9",
   "metadata": {},
   "outputs": [],
   "source": [
    "# pss_2 signals from the Matlab File\n",
    "PSS₂ᵀ = transpose.(pss_2); # Hessian Transpose ?"
   ]
  },
  {
   "cell_type": "code",
   "execution_count": 17,
   "id": "48e120fe-f8a3-44ea-922a-9405244373b7",
   "metadata": {},
   "outputs": [
    {
     "data": {
      "text/plain": [
       "sum (generic function with 13 methods)"
      ]
     },
     "execution_count": 17,
     "metadata": {},
     "output_type": "execute_result"
    }
   ],
   "source": [
    "# some math notations\n",
    "\n",
    "# PSS₂ᵀ just to make it nice\n",
    "# Transpose postfix operation\n",
    "struct Transposer end\n",
    "const ᵀ = Transposer() #typed \\^T<TAB>\n",
    "Base.:(*)(x, ::Transposer) = transpose(x)\n",
    "\n",
    "# Sum\n",
    "∑ = sum"
   ]
  },
  {
   "cell_type": "code",
   "execution_count": 18,
   "id": "2057af47-0a52-4fbf-a9dc-d47befdd3725",
   "metadata": {},
   "outputs": [],
   "source": [
    "using LinearAlgebra"
   ]
  },
  {
   "cell_type": "code",
   "execution_count": 20,
   "id": "24a82975-8c18-4fd6-9c41-515d6a8845d5",
   "metadata": {},
   "outputs": [
    {
     "data": {
      "text/plain": [
       "(2192,)"
      ]
     },
     "execution_count": 20,
     "metadata": {},
     "output_type": "execute_result"
    }
   ],
   "source": [
    "Ŝₚₛₛ₂ = Fᴵ(PSS₂ᵀ); # S Slanted (fourier transform) in time domain\n",
    "Ŝₚₛₛ₂ ./= norm(Ŝₚₛₛ₂); \n",
    "Ŝₚₛₛ₂ = vcat(Ŝₚₛₛ₂[(end-143):end], Ŝₚₛₛ₂); size( Ŝₚₛₛ₂ )  # end is 2048 in this case, concat math "
   ]
  },
  {
   "cell_type": "code",
   "execution_count": 21,
   "id": "bf6cc18a-7f80-41ca-b7ee-a5d21cf25537",
   "metadata": {},
   "outputs": [
    {
     "data": {
      "text/plain": [
       "findmax (generic function with 8 methods)"
      ]
     },
     "execution_count": 21,
     "metadata": {},
     "output_type": "execute_result"
    }
   ],
   "source": [
    "S̅ₚₛₛ² = reverse(Ŝₚₛₛ₂); # reverse\n",
    "S̅ₚₛₛ²ᴴ = conj(S̅ₚₛₛ²); # conjugate \n",
    "argmax = findmax"
   ]
  },
  {
   "cell_type": "code",
   "execution_count": 22,
   "id": "f702dd20-445f-4392-ab64-2cfa4206dab3",
   "metadata": {},
   "outputs": [
    {
     "data": {
      "text/plain": [
       "(618638, 1)"
      ]
     },
     "execution_count": 22,
     "metadata": {},
     "output_type": "execute_result"
    }
   ],
   "source": [
    "m̂₂ = 10 * log10.(abs.( Ŝᵣₓ³ ⊗ S̅ₚₛₛ²ᴴ )); size( m̂₂ )"
   ]
  },
  {
   "cell_type": "code",
   "execution_count": 23,
   "id": "49856ca6-75b6-445b-94b2-dac79ca1ad6c",
   "metadata": {},
   "outputs": [
    {
     "data": {
      "text/plain": [
       "(50.649042476081405, CartesianIndex(6628, 1))"
      ]
     },
     "execution_count": 23,
     "metadata": {},
     "output_type": "execute_result"
    }
   ],
   "source": [
    "# Find maximum value and its index\n",
    "Ĉᵩ², N̂ᵩ² = argmax(m̂₂) #; m2_chan[NF2_chan] or direct m2_chan[(6628)...] "
   ]
  },
  {
   "cell_type": "code",
   "execution_count": 24,
   "id": "b7c21d42-4507-4576-babe-55959f9f817e",
   "metadata": {},
   "outputs": [
    {
     "data": {
      "text/plain": [
       "6628"
      ]
     },
     "execution_count": 24,
     "metadata": {},
     "output_type": "execute_result"
    }
   ],
   "source": [
    "Nf = getindex(N̂ᵩ², 1)"
   ]
  },
  {
   "cell_type": "code",
   "execution_count": 25,
   "id": "a4eac961-79c8-49b3-9369-fcf8804b8cfc",
   "metadata": {},
   "outputs": [
    {
     "data": {
      "text/plain": [
       "freq_offset_est (generic function with 1 method)"
      ]
     },
     "execution_count": 25,
     "metadata": {},
     "output_type": "execute_result"
    }
   ],
   "source": [
    "########################################################\n",
    "# Frequency Offset Estimator Function\n",
    "########################################################\n",
    "function freq_offset_est(Ŝᵣₓ, Ŝₚₛₛ, Nf)\n",
    "\n",
    "    # Frequency offset estimator\n",
    "\n",
    "    DELTA_F = 10.0\n",
    "\n",
    "    Fs = 61.44e6\n",
    "    f_min = -7500\n",
    "    f_max = 7500\n",
    "\n",
    "    m = f_min:DELTA_F:f_max\n",
    "    Y = zeros(ComplexF64, length(m))\n",
    "    L = length(Ŝₚₛₛ)\n",
    "    t = 0:(1/Fs):((L-1)/Fs)\n",
    "\n",
    "    signal_part = Ŝᵣₓ[Nf:(Nf + L -1)]; size( signal_part )\n",
    "    transConj = conj(Ŝₚₛₛ) .* transpose(signal_part); size( transConj )\n",
    "\n",
    "    for j = 1:length(m)\n",
    "        exp_comp = exp.(-2*pi*1.0im*m[j]*t)\n",
    "        signal_offset = ∑(exp_comp .* transConj)\n",
    "        value = abs2.(signal_offset)\n",
    "        Y[j] += value\n",
    "    end\n",
    "\n",
    "    return Y\n",
    "end"
   ]
  },
  {
   "cell_type": "code",
   "execution_count": 26,
   "id": "5040990d-2790-4f8d-a2e8-34bdf30e484f",
   "metadata": {},
   "outputs": [],
   "source": [
    "# Grab the function Profs Frequency Offset with his values\n",
    "Y = freq_offset_est(Ŝᵣₓ³, Ŝₚₛₛ₂, getindex(N̂ᵩ², 1) - length(Ŝₚₛₛ₂) + 1);"
   ]
  },
  {
   "cell_type": "code",
   "execution_count": 28,
   "id": "919650d7-374b-4194-adf0-ac59d97dd6d7",
   "metadata": {},
   "outputs": [],
   "source": [
    "using Plots\n",
    "Y_1 = 10 * log10.(abs.(Y))\n",
    "cfo_estim_plot = plot(Y_1, xlabel=\"Sample\", ylabel=\"Power (dB)\", title=\"Estimation Result\"\n",
    "    , xlim=(0, 2000)\n",
    "    # , ylim=(1e10, 1.40e10)\n",
    ")\n",
    "savefig(cfo_estim_plot,\"images/cfo_estim_plot.png\");"
   ]
  },
  {
   "cell_type": "markdown",
   "id": "2c9e68ed-97a2-4673-ad0e-c138c3e1275a",
   "metadata": {},
   "source": [
    "<img src=\"images/cfo_estim_plot.png\" weight='' height='' > </img>"
   ]
  },
  {
   "cell_type": "code",
   "execution_count": 100,
   "id": "6b454756-7bb9-4b6f-af5a-5b5f89342b99",
   "metadata": {},
   "outputs": [],
   "source": [
    "# scatter(real(Y_1), imag(Y_1), label=\"roots\"\n",
    "    # ,xlims=(-1.2,1.2)\n",
    "    # , ylims=(-1.2,1.2)\n",
    "    # , aspect_ratio=1\n",
    "    # , xlabel=\"Real part\", ylabel=\"Imaginary part\"\n",
    "# )"
   ]
  },
  {
   "cell_type": "code",
   "execution_count": 101,
   "id": "a97b2d77-d77a-41dc-b72c-a43057c48d57",
   "metadata": {},
   "outputs": [],
   "source": [
    "# (A_fo, fo) = findmax(Y)\n",
    "# println(\"m \", length(m), \", A_fo \", A_fo, \", fo \", fo)"
   ]
  },
  {
   "cell_type": "code",
   "execution_count": null,
   "id": "3f743f29-ce9b-4fe5-957b-8cddc5976b04",
   "metadata": {},
   "outputs": [],
   "source": []
  }
 ],
 "metadata": {
  "kernelspec": {
   "display_name": "Julia 1.9.3",
   "language": "julia",
   "name": "julia-1.9"
  },
  "language_info": {
   "file_extension": ".jl",
   "mimetype": "application/julia",
   "name": "julia",
   "version": "1.9.4"
  }
 },
 "nbformat": 4,
 "nbformat_minor": 5
}
