{
 "cells": [
  {
   "cell_type": "markdown",
   "id": "4f8f9f75-543c-4494-8a8e-1da6add53103",
   "metadata": {},
   "source": [
    "# Channel Estimation"
   ]
  },
  {
   "cell_type": "code",
   "execution_count": 2,
   "id": "196d1094-63d8-4f33-83f6-92dc5cf65984",
   "metadata": {},
   "outputs": [],
   "source": [
    "using DSP\n",
    "using FFTW"
   ]
  },
  {
   "cell_type": "code",
   "execution_count": 3,
   "id": "e2ec578d-f326-49e5-acdd-35ac282712ef",
   "metadata": {},
   "outputs": [],
   "source": [
    "# Some Math tools\n",
    "# Inverse Fourier Transform function\n",
    "Fᴵ = ifft \n",
    "\n",
    "# Convolution infix operation\n",
    "function ⊗(a, b) \n",
    "    return conv(a,b)\n",
    "end\n",
    "# Transpose postfix operation\n",
    "struct Transposer end\n",
    "const ᵀ = Transposer() #typed \\^T<TAB>\n",
    "Base.:(*)(x, ::Transposer) = transpose(x)"
   ]
  },
  {
   "cell_type": "code",
   "execution_count": 4,
   "id": "35a52868-4ec2-4eec-a553-07de90e9502f",
   "metadata": {},
   "outputs": [],
   "source": [
    "include(\"rxsignal_withchannelandfreqoff.jl\");"
   ]
  },
  {
   "cell_type": "code",
   "execution_count": 5,
   "id": "cc49e777-70bc-425a-bd5b-32e439a56873",
   "metadata": {},
   "outputs": [],
   "source": [
    "# RX Received Signal 3\n",
    "Ŝᵣₓ³ = rxs3;"
   ]
  },
  {
   "cell_type": "code",
   "execution_count": 6,
   "id": "f47265a4-675c-45e6-94d4-090e2fe36905",
   "metadata": {},
   "outputs": [],
   "source": [
    "include(\"pss2.jl\");"
   ]
  },
  {
   "cell_type": "code",
   "execution_count": 9,
   "id": "d3e5e304-73d2-47e2-9af5-e6c61d96b7e9",
   "metadata": {},
   "outputs": [],
   "source": [
    "# PSS₂ signals and such\n",
    "PSS₂ = pss_2;\n",
    "PSS₂ᵀ = transpose.(PSS₂); # Hessian Transpose ?"
   ]
  },
  {
   "cell_type": "code",
   "execution_count": 10,
   "id": "24a82975-8c18-4fd6-9c41-515d6a8845d5",
   "metadata": {},
   "outputs": [],
   "source": [
    "𝑆ₚₛₛ² = Fᴵ(PSS₂ᵀ); # S Slanted (fourier transform) in time domain"
   ]
  },
  {
   "cell_type": "code",
   "execution_count": 11,
   "id": "95b2ff91-1124-4c59-862f-fc2fd72e9404",
   "metadata": {},
   "outputs": [
    {
     "data": {
      "text/plain": [
       "freq_offset_est (generic function with 1 method)"
      ]
     },
     "execution_count": 11,
     "metadata": {},
     "output_type": "execute_result"
    }
   ],
   "source": [
    "function freq_offset_est(signal, pss_1, Nf)\n",
    "    # Frequency offset estimator\n",
    "\n",
    "    DELTA_F = 10.0\n",
    "\n",
    "    Fs = 61.44e6\n",
    "    f_min = -7500\n",
    "    f_max = 7500\n",
    "\n",
    "    m = f_min:DELTA_F:f_max\n",
    "    Y = zeros(Float64, length(m))\n",
    "    L = length(pss_1)\n",
    "    t = 0:(1/Fs):((L-1)/Fs)\n",
    "\n",
    "    signal_part = signal[Nf:Nf+L-1]\n",
    "    convolve = conj.(pss_1) .* signal_part'\n",
    "\n",
    "    for j = 1:length(m)\n",
    "        signal_offset = sum(exp.(-2*pi*1.0im*m[j].*t) .* convolve)\n",
    "        value = abs(signal_offset)^2\n",
    "        Y[j] += value\n",
    "    end\n",
    "\n",
    "    (A_fo, fo) = argmax(Y)\n",
    "    # println(\"Detected offset = 150Mhz\", real(m2_chan))\n",
    "\n",
    "    println(\"m \", length(m), \", A_fo \", A_fo, \", fo \", fo)\n",
    "\n",
    "    plot(1:length(m), Y, \".\", label=\"Frequency offset\")\n",
    "end\n"
   ]
  },
  {
   "cell_type": "code",
   "execution_count": 13,
   "id": "bf6cc18a-7f80-41ca-b7ee-a5d21cf25537",
   "metadata": {},
   "outputs": [
    {
     "data": {
      "text/plain": [
       "findmax (generic function with 8 methods)"
      ]
     },
     "execution_count": 13,
     "metadata": {},
     "output_type": "execute_result"
    }
   ],
   "source": [
    "S̅ₚₛₛ² = reverse(𝑆ₚₛₛ²); # reverse\n",
    "S̅ₚₛₛ²ᴴ = conj(S̅ₚₛₛ²); # conjugate \n",
    "argmax = findmax"
   ]
  },
  {
   "cell_type": "code",
   "execution_count": 14,
   "id": "f702dd20-445f-4392-ab64-2cfa4206dab3",
   "metadata": {},
   "outputs": [
    {
     "data": {
      "text/plain": [
       "(618494, 1)"
      ]
     },
     "execution_count": 14,
     "metadata": {},
     "output_type": "execute_result"
    }
   ],
   "source": [
    "m̂₂ = 10 * log10.(abs.( Ŝᵣₓ³ ⊗ S̅ₚₛₛ²ᴴ )); ; size( m̂₂ )"
   ]
  },
  {
   "cell_type": "code",
   "execution_count": 15,
   "id": "49856ca6-75b6-445b-94b2-dac79ca1ad6c",
   "metadata": {},
   "outputs": [
    {
     "data": {
      "text/plain": [
       "(69.86256301907788, CartesianIndex(6628, 1))"
      ]
     },
     "execution_count": 15,
     "metadata": {},
     "output_type": "execute_result"
    }
   ],
   "source": [
    "# Find maximum value and its index\n",
    "Ĉᵩ², N̂ᵩ² = argmax(m̂₂) #; m2_chan[NF2_chan] or direct m2_chan[(6628)...] "
   ]
  },
  {
   "cell_type": "code",
   "execution_count": 17,
   "id": "5040990d-2790-4f8d-a2e8-34bdf30e484f",
   "metadata": {},
   "outputs": [
    {
     "ename": "LoadError",
     "evalue": "BoundsError: attempt to access 616447×1 Matrix{ComplexF64} at index [-1977.137436980922:1.0:69.86256301907792]",
     "output_type": "error",
     "traceback": [
      "BoundsError: attempt to access 616447×1 Matrix{ComplexF64} at index [-1977.137436980922:1.0:69.86256301907792]",
      "",
      "Stacktrace:",
      " [1] throw_boundserror(A::Matrix{ComplexF64}, I::Tuple{StepRangeLen{Float64, Base.TwicePrecision{Float64}, Base.TwicePrecision{Float64}, Int64}})",
      "   @ Base ./abstractarray.jl:744",
      " [2] checkbounds",
      "   @ ./abstractarray.jl:709 [inlined]",
      " [3] _getindex",
      "   @ ./multidimensional.jl:860 [inlined]",
      " [4] getindex",
      "   @ ./abstractarray.jl:1296 [inlined]",
      " [5] freq_offset_est(signal::Matrix{ComplexF64}, pss_1::Vector{ComplexF64}, Nf::Float64)",
      "   @ Main ./In[11]:15",
      " [6] top-level scope",
      "   @ In[17]:2"
     ]
    }
   ],
   "source": [
    "# Grab the function Profs Frequency Offset with his values\n",
    "freq_offset_est(Ŝᵣₓ³, 𝑆ₚₛₛ², Ĉᵩ² - length(𝑆ₚₛₛ²) + 1)\n",
    "# Detected offset: 150 Hz"
   ]
  },
  {
   "cell_type": "code",
   "execution_count": null,
   "id": "c2dea467-eb98-4c00-941b-801a689a8061",
   "metadata": {},
   "outputs": [],
   "source": []
  }
 ],
 "metadata": {
  "kernelspec": {
   "display_name": "Julia 1.9.3",
   "language": "julia",
   "name": "julia-1.9"
  },
  "language_info": {
   "file_extension": ".jl",
   "mimetype": "application/julia",
   "name": "julia",
   "version": "1.9.4"
  }
 },
 "nbformat": 4,
 "nbformat_minor": 5
}
