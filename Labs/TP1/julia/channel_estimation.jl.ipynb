{
 "cells": [
  {
   "cell_type": "markdown",
   "id": "4f8f9f75-543c-4494-8a8e-1da6add53103",
   "metadata": {},
   "source": [
    "# Channel Estimation"
   ]
  },
  {
   "cell_type": "code",
   "execution_count": 10,
   "id": "196d1094-63d8-4f33-83f6-92dc5cf65984",
   "metadata": {},
   "outputs": [],
   "source": [
    "using DSP\n",
    "using FFTW"
   ]
  },
  {
   "cell_type": "code",
   "execution_count": 28,
   "id": "e2ec578d-f326-49e5-acdd-35ac282712ef",
   "metadata": {},
   "outputs": [],
   "source": [
    "# Some Math tools\n",
    "# Inverse Fourier Transform function\n",
    "Fᴵ = ifft \n",
    "\n",
    "# Convolution infix operation\n",
    "function ⊗(a, b) \n",
    "    return conv(a,b)\n",
    "end\n",
    "# Transpose postfix operation\n",
    "struct Transposer end\n",
    "const ᵀ = Transposer() #typed \\^T<TAB>\n",
    "Base.:(*)(x, ::Transposer) = transpose(x)"
   ]
  },
  {
   "cell_type": "code",
   "execution_count": 29,
   "id": "35a52868-4ec2-4eec-a553-07de90e9502f",
   "metadata": {},
   "outputs": [],
   "source": [
    "include(\"rxsignal_withchannelandfreqoff.jl\");"
   ]
  },
  {
   "cell_type": "code",
   "execution_count": 30,
   "id": "cc49e777-70bc-425a-bd5b-32e439a56873",
   "metadata": {},
   "outputs": [],
   "source": [
    "# RX Received Signal 3\n",
    "Ŝᵣₓ³ = rxs3;"
   ]
  },
  {
   "cell_type": "code",
   "execution_count": 31,
   "id": "f47265a4-675c-45e6-94d4-090e2fe36905",
   "metadata": {},
   "outputs": [],
   "source": [
    "include(\"pss2.jl\");"
   ]
  },
  {
   "cell_type": "code",
   "execution_count": 32,
   "id": "d3e5e304-73d2-47e2-9af5-e6c61d96b7e9",
   "metadata": {},
   "outputs": [],
   "source": [
    "# PSS₂ signals and such\n",
    "PSS₂ = pss_2;\n",
    "# PSS₂ᵀ = transpose.(PSS₂); # Hessian Transpose ?"
   ]
  },
  {
   "cell_type": "code",
   "execution_count": 33,
   "id": "24a82975-8c18-4fd6-9c41-515d6a8845d5",
   "metadata": {},
   "outputs": [],
   "source": [
    "𝑆ₚₛₛ² = Fᴵ(PSS₂ᵀ); # S Slanted (fourier transform) in time domain"
   ]
  },
  {
   "cell_type": "code",
   "execution_count": null,
   "id": "95b2ff91-1124-4c59-862f-fc2fd72e9404",
   "metadata": {},
   "outputs": [],
   "source": []
  }
 ],
 "metadata": {
  "kernelspec": {
   "display_name": "Julia 1.9.3",
   "language": "julia",
   "name": "julia-1.9"
  },
  "language_info": {
   "file_extension": ".jl",
   "mimetype": "application/julia",
   "name": "julia",
   "version": "1.9.4"
  }
 },
 "nbformat": 4,
 "nbformat_minor": 5
}
