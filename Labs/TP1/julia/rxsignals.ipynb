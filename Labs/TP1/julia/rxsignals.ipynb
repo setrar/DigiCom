{
 "cells": [
  {
   "cell_type": "markdown",
   "id": "0cedcdb4-9ccc-4cc8-acd6-63e1175e0a2b",
   "metadata": {},
   "source": [
    "# Just Noise"
   ]
  },
  {
   "cell_type": "markdown",
   "id": "30dcda37-1d47-4110-8e7b-255840ddf7bd",
   "metadata": {},
   "source": [
    "```matlab\n",
    "load('rxsignal_justnoise.mat')\n",
    "figure(1); subplot(411) ; plot (10*log10(abs(fftshift(fft(rxs0)))))\n",
    "figure(1); subplot(412) ; plot (10*log10(abs(fftshift(fft(rxs1)))))\n",
    "\n",
    "figure(1); subplot(323) ; plot (10*log10(abs(fftshift(fft(rxs0)))))\n",
    "figure(1); subplot(326) ; plot (10*log10(abs(fftshift(fft(rxs1)))))\n",
    "\n",
    "\n",
    "subplot(423) ; plot (10*log10(abs(fftshift(fft(rxs1)))))\n",
    "subplot(423) ; plot (10*log10(abs(fftshift(fft(rxs1)))))\n",
    "## rxs3\n",
    "subplot(426) ; plot (10*log10(abs(fftshift(fft(rxs3)))))\n",
    "\n",
    "\n",
    "figure(1) ; plot (10*log10(abs(fftshift(fft(rxs0))))) # Flat Signal\n",
    "\n",
    "## H(f) 1.2.1 - response 4\n",
    "figure(3) ; plot (10*log10(abs(fftshift(fft(rxs3)))))\n",
    "```"
   ]
  },
  {
   "cell_type": "markdown",
   "id": "82de124e-0280-410a-b39c-aaad5380435f",
   "metadata": {},
   "source": [
    "# 1.3.1 Questions 3"
   ]
  },
  {
   "cell_type": "markdown",
   "id": "6f951779-9709-4b9d-bdbd-04930face16e",
   "metadata": {},
   "source": [
    "```matlab\n",
    "run('pss')\n",
    "run('pss0')\n",
    "subplot(311) ; m0 = 10*log10(abs(conv(rxs0,conj(fliplr(pss0_t))))); [c0,Nf0] = max(m0); plot(m0);\n",
    "subplot(312) ; m1 = 10*log10(abs(conv(rxs0,conj(fliplr(pss1_t))))); [c1,Nf1] = max(m1); plot(m1);\n",
    "subplot(313) ; m2 = 10*log10(abs(conv(rxs0,conj(fliplr(pss2_t))))); [c2,Nf2] = max(m2); plot(m2);\n",
    "\n",
    "plot(m0,'r',m1,'g',m2,'b')\n",
    "axis([1 1000 10 40])\n",
    "```"
   ]
  },
  {
   "cell_type": "markdown",
   "id": "03c158b7-c4f8-4e6c-8b46-8db8bbe07167",
   "metadata": {},
   "source": [
    "```matlab\n",
    "run('pss')\n",
    "run('pss0')\n",
    "m0 = 10*log10(abs(conv(rxs0,conj(fliplr(pss0_t))))); [c0,Nf0] = max(m0);\n",
    "m1 = 10*log10(abs(conv(rxs0,conj(fliplr(pss1_t))))); [c1,Nf1] = max(m1);\n",
    "m2 = 10*log10(abs(conv(rxs0,conj(fliplr(pss2_t))))); [c2,Nf2] = max(m2);\n",
    "\n",
    "figure(1)\n",
    "plot(m0,'r',m1,'g',m2,'b')\n",
    "axis([1 1000 10 40])\n",
    "\n",
    "plot(m0,'r')\n",
    "plot(m1,'g')\n",
    "plot(m2,'b')\n",
    "```"
   ]
  },
  {
   "cell_type": "markdown",
   "id": "df1fb181-ec38-4e43-851d-bff16268b863",
   "metadata": {},
   "source": [
    "```matlab\n",
    "load('rxsignal_withchannel.mat')\n",
    "m2_chan = 10*log10(abs(conv(rxs2,conj(fliplr(pss2_t))))); [c2_chan,Nf2_chan] = max(m2_chan);\n",
    "```"
   ]
  }
 ],
 "metadata": {
  "kernelspec": {
   "display_name": "Julia 1.9.3",
   "language": "julia",
   "name": "julia-1.9"
  },
  "language_info": {
   "file_extension": ".jl",
   "mimetype": "application/julia",
   "name": "julia",
   "version": "1.9.4"
  }
 },
 "nbformat": 4,
 "nbformat_minor": 5
}
