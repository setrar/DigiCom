{
 "cells": [
  {
   "cell_type": "markdown",
   "id": "cff7235a-23dd-4cb0-9553-a3762680f306",
   "metadata": {},
   "source": [
    "# Lab Session I"
   ]
  },
  {
   "cell_type": "markdown",
   "id": "5af1f780-f4dd-421c-b8ba-764eb93d7327",
   "metadata": {},
   "source": [
    "## 1. Receiver for NR Primary Synchronization Signals (PSS)"
   ]
  },
  {
   "cell_type": "markdown",
   "id": "47a3cbda-e974-4951-a157-7c5db2d939f0",
   "metadata": {},
   "source": [
    "The goal of this lab session is to investigate the receivers for the PSS signals used 3GPP-NR systems. These are the most basic signals that a terminal must detect prior to initiating a connection with the basestation. This detection is the first step in the so-called _cell search_ procedure.\n",
    "\n",
    "  You are to hand-in a report answering all the questions outlined here along with corresponding code and figure files. If you do not finish in the supervised period of the session, you can continue to work on your own time."
   ]
  },
  {
   "cell_type": "markdown",
   "id": "cec8723f-5fac-4a5b-95ba-621b4e931f0d",
   "metadata": {},
   "source": [
    "### 1.1 PSS signals"
   ]
  },
  {
   "cell_type": "markdown",
   "id": "d777aa6f-8a3a-4807-8814-589716814d72",
   "metadata": {},
   "source": [
    "\n",
    "We are concerned with complex baseband equivalent transmit signals of the form \n",
    "\n",
    "$$ \n",
    "\\begin{gather}\n",
    "\\tilde{s}_{PSS,i}(n) = \\sum_k x_i(n − kN), i = 0, 1, 2 \\qquad (1) \\qquad \\qquad\\qquad\\qquad\\qquad\\qquad\\qquad\\qquad \\qquad\\qquad\\qquad\\qquad\\qquad\\qquad\\qquad\n",
    "\\\\\n",
    "\\text { where N is the periodicity of the PSS signals which is } 10^2 \\mathit{f_s} \\text{ samples and } \\mathit{f_s} \\text{ is the sampling frequency. } \\qquad \\qquad\\qquad\\qquad\\qquad\\qquad\\qquad\\qquad \\qquad\\qquad\\qquad\\qquad\\qquad\\qquad\\qquad\n",
    "\\\\\n",
    "\\end{gather} \n",
    "$$\n",
    "\n",
    "The PSS is part of a more complex signal called the SSB (Synchronization Signal Block) and there can be more than one in a period of 5ms depending on the antenna configuration, but here we will assume a simple scenario with a single SSB and therefore a single PSS as described in (1). i is the index of the transmitted PSS signal and can have one of three values. \n",
    "\n",
    "$$\n",
    "\\begin{gather}\n",
    "\\text { In the context of this lab session, we will assume that }\n",
    "\\text { the receiver uses a sampling frequency of }  \\mathit{f_s} = 61.44 × 10^6 \\text{ samples/s. } \\qquad \\qquad\\qquad\\qquad\\qquad\\qquad\\qquad\\qquad \\qquad\\qquad\\qquad\\qquad\\qquad\\qquad\\qquad\n",
    "\\\\\n",
    "x_i(n) \\text { is the PSS signal itself which is }\n",
    "\\text { of duration } N_{PSS} = 2048 + 144 = 2192 \\text { samples. } \\qquad \\qquad\\qquad\\qquad\\qquad\\qquad\\qquad\\qquad \\qquad\\qquad\\qquad\\qquad\\qquad\\qquad\\qquad\n",
    "\\end{gather} \n",
    "$$\n",
    "\n",
    "We will see later (after completing this lab session) that 2048 is the OFDM symbol size in samples and 144 is the cyclic prefix length."
   ]
  },
  {
   "cell_type": "markdown",
   "id": "f5e4baa2-69a3-4f05-82af-85cdf7746572",
   "metadata": {},
   "source": [
    "### 1.1.1 Questions"
   ]
  },
  {
   "cell_type": "markdown",
   "id": "4a78b784-4fda-4b8b-a4ab-74343d881637",
   "metadata": {},
   "source": [
    "1. Using the supplied MATLAB file (pss.m) plot the real, imaginary components and magnitude of the one of the PSS signals. What do you see?"
   ]
  },
  {
   "cell_type": "code",
   "execution_count": 49,
   "id": "4e27e492-ebad-4db7-a008-61d953676f74",
   "metadata": {},
   "outputs": [],
   "source": [
    "using Plots, LaTeXStrings"
   ]
  },
  {
   "cell_type": "code",
   "execution_count": 50,
   "id": "0f4e40f4-188f-454e-a426-697d03b91e9c",
   "metadata": {},
   "outputs": [],
   "source": [
    "include(\"pss2.jl\");\n",
    "s ̃PSS₂ = pss_2;"
   ]
  },
  {
   "cell_type": "code",
   "execution_count": 52,
   "id": "20838fce-754d-4bee-927f-0f97d71a8d90",
   "metadata": {},
   "outputs": [],
   "source": [
    "# Plot the result\n",
    "date = \"24-11-2023\"\n",
    "titlestring = latexstring(\"PSS_2(t) = {Re}\\\\{PSS_2(t)\\\\} \\\\qquad date:\", date)\n",
    "\n",
    "pss2_real_plot = \n",
    "plot(real(PSS₂), xlabel=\"PSS₂ samples\", ylabel=\"Power (dB) - Magnitude\", title=titlestring, ylim=(-400, 400))\n",
    "savefig(pss2_real_plot,\"images/pss2_real_plot.png\");"
   ]
  },
  {
   "cell_type": "markdown",
   "id": "1cb297d4-3483-4c2d-95fc-842c2cbcc77b",
   "metadata": {},
   "source": [
    "<img src=\"images/pss2_real_plot.png\" weight='' height='' > </img>"
   ]
  },
  {
   "cell_type": "markdown",
   "id": "2b194432-ff77-4afe-9fca-958781dc5a2e",
   "metadata": {},
   "source": [
    "2. Plot the power spectrum of the PSS signal on a dB-scale (using the MATLAB FFT). Estimate the bandwidth as closely as possible (in terms of physical frequencies). What do you observe about the PSS signal?"
   ]
  },
  {
   "cell_type": "code",
   "execution_count": null,
   "id": "c58b44cc-230e-4672-9fb9-df73fac9f0d0",
   "metadata": {},
   "outputs": [],
   "source": []
  }
 ],
 "metadata": {
  "kernelspec": {
   "display_name": "Julia 1.9.3",
   "language": "julia",
   "name": "julia-1.9"
  },
  "language_info": {
   "file_extension": ".jl",
   "mimetype": "application/julia",
   "name": "julia",
   "version": "1.9.4"
  }
 },
 "nbformat": 4,
 "nbformat_minor": 5
}
