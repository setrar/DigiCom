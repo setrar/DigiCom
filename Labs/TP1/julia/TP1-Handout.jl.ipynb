{
 "cells": [
  {
   "cell_type": "markdown",
   "id": "cff7235a-23dd-4cb0-9553-a3762680f306",
   "metadata": {},
   "source": [
    "# Lab Session I"
   ]
  },
  {
   "cell_type": "markdown",
   "id": "5af1f780-f4dd-421c-b8ba-764eb93d7327",
   "metadata": {},
   "source": [
    "## 1. Receiver for NR Primary Synchronization Signals (PSS)"
   ]
  },
  {
   "cell_type": "markdown",
   "id": "47a3cbda-e974-4951-a157-7c5db2d939f0",
   "metadata": {},
   "source": [
    "The goal of this lab session is to investigate the receivers for the PSS signals used 3GPP-NR systems. These are the most basic signals that a terminal must detect prior to initiating a connection with the basestation. This detection is the first step in the so-called cell search procedure.\n",
    "You are to hand-in a report answering all the questions outlined here along with corresponding code and figure files. If you do not finish in the supervised period of the session, you can continue to work on your own time."
   ]
  },
  {
   "cell_type": "markdown",
   "id": "cec8723f-5fac-4a5b-95ba-621b4e931f0d",
   "metadata": {},
   "source": [
    "### 1.1 PSS signals"
   ]
  },
  {
   "cell_type": "markdown",
   "id": "d777aa6f-8a3a-4807-8814-589716814d72",
   "metadata": {},
   "source": [
    "$$ \n",
    "\\begin{gather}\n",
    "\\text { We are concerned with complex baseband equivalent transmit signals of the form }\n",
    "\\\\\n",
    "\\tilde{s}_{PSS,i}(n) = \\sum_k x_i(n − kN), i = 0, 1, 2 \\qquad (1)\n",
    "\\\\\n",
    "\\text { where N is the periodicity of the PSS signals which is } 10^2 \\mathit{f_s} \\text{ samples and } \\mathit{f_s} \\text{ is the sampling frequency. } \n",
    "\\\\\n",
    "\\text { The PSS is part of a more complex signal called the SSB (Synchronization Signal Block) and there can be } \n",
    "\\\\\n",
    "\\text { more than one in a period of 5ms depending on the antenna configuration, but here we will assume a simple} \n",
    "\\\\\n",
    "\\text { scenario with a single SSB and therefore a single PSS as described in (1). } i \\text{ is the index of the transmitted }\n",
    "\\\\\n",
    "\\text { PSS signal and can have one of three values. In the context of this lab session, we will assume that }\n",
    "\\\\\n",
    "\\text { the receiver uses a sampling frequency of }  \\mathit{f_s} = 61.44 × 10^6 \\text{ samples/s. } x_i(n) \\text { is the PSS signal itself which is }\n",
    "\\\\\n",
    "\\text { of duration } N_{PSS} = 2048 + 144 = 2192 \\text { samples. } \\text { We will see later (after completing this lab session) that } \n",
    "\\\\\n",
    "2048 \\text { is the OFDM symbol size in samples and 144 is the cyclic prefix length. }\n",
    "\\end{gather}\n",
    "$$"
   ]
  },
  {
   "cell_type": "markdown",
   "id": "f5e4baa2-69a3-4f05-82af-85cdf7746572",
   "metadata": {},
   "source": [
    "### 1.1.1 Questions"
   ]
  },
  {
   "cell_type": "markdown",
   "id": "4a78b784-4fda-4b8b-a4ab-74343d881637",
   "metadata": {},
   "source": [
    "1. Using the supplied Julia file (pss.jl) plot the real, imaginary components and magnitude of the one of the PSS signals. What do you see?"
   ]
  },
  {
   "cell_type": "code",
   "execution_count": 1,
   "id": "0f4e40f4-188f-454e-a426-697d03b91e9c",
   "metadata": {},
   "outputs": [
    {
     "data": {
      "text/plain": [
       "2048-element Vector{Complex{Int64}}:\n",
       " -363 + 0im\n",
       " -363 + 0im\n",
       "  362 + 0im\n",
       "  362 + 0im\n",
       "  362 + 0im\n",
       "  362 + 0im\n",
       "  362 + 0im\n",
       " -363 + 0im\n",
       " -363 + 0im\n",
       "  362 + 0im\n",
       " -363 + 0im\n",
       " -363 + 0im\n",
       "  362 + 0im\n",
       "      ⋮\n",
       " -363 + 0im\n",
       " -363 + 0im\n",
       "  362 + 0im\n",
       "  362 + 0im\n",
       " -363 + 0im\n",
       "  362 + 0im\n",
       " -363 + 0im\n",
       "  362 + 0im\n",
       " -363 + 0im\n",
       " -363 + 0im\n",
       "  362 + 0im\n",
       "  362 + 0im"
      ]
     },
     "execution_count": 1,
     "metadata": {},
     "output_type": "execute_result"
    }
   ],
   "source": [
    "include(\"pss0.jl\")\n",
    "include(\"pss1.jl\")\n",
    "include(\"pss2.jl\")"
   ]
  },
  {
   "cell_type": "code",
   "execution_count": 2,
   "id": "aeae923c-d649-4665-8836-c6d8ec1cafa9",
   "metadata": {},
   "outputs": [
    {
     "ename": "LoadError",
     "evalue": "UndefVarError: `pss0_t` not defined",
     "output_type": "error",
     "traceback": [
      "UndefVarError: `pss0_t` not defined",
      "",
      "Stacktrace:",
      " [1] top-level scope",
      "   @ In[2]:1"
     ]
    }
   ],
   "source": [
    "plot(real(pss0_t))"
   ]
  },
  {
   "cell_type": "code",
   "execution_count": null,
   "id": "f0d4b0fb-9dc2-45d4-994a-bdaee372a34e",
   "metadata": {},
   "outputs": [],
   "source": []
  }
 ],
 "metadata": {
  "kernelspec": {
   "display_name": "Julia 1.9.3",
   "language": "julia",
   "name": "julia-1.9"
  },
  "language_info": {
   "file_extension": ".jl",
   "mimetype": "application/julia",
   "name": "julia",
   "version": "1.9.4"
  }
 },
 "nbformat": 4,
 "nbformat_minor": 5
}
