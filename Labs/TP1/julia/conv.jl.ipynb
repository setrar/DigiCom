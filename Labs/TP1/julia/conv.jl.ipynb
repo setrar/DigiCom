{
 "cells": [
  {
   "cell_type": "code",
   "execution_count": 1,
   "id": "f38a64dc-425a-4dd3-8421-e08052a0a923",
   "metadata": {},
   "outputs": [],
   "source": [
    "using DSP"
   ]
  },
  {
   "cell_type": "code",
   "execution_count": 2,
   "id": "a93e12ff-69fd-4221-a153-c0b466ad15a7",
   "metadata": {},
   "outputs": [],
   "source": [
    "include(\"rxsignal_withchannelandfreqoff.jl\");"
   ]
  },
  {
   "cell_type": "code",
   "execution_count": 3,
   "id": "e200c7d4-a631-442b-85f4-f4401516e29f",
   "metadata": {},
   "outputs": [],
   "source": [
    "include(\"pss2.jl\");"
   ]
  },
  {
   "cell_type": "code",
   "execution_count": 4,
   "id": "c1ca6164-86de-410c-8f1f-bf4442ac2ac5",
   "metadata": {},
   "outputs": [
    {
     "data": {
      "text/plain": [
       "(616447, 1)"
      ]
     },
     "execution_count": 4,
     "metadata": {},
     "output_type": "execute_result"
    }
   ],
   "source": [
    "size(rxs3) # 616447×1 Matrix{ComplexF64}"
   ]
  },
  {
   "cell_type": "code",
   "execution_count": 5,
   "id": "1b7017a8-1191-4b2f-b36a-fecb909f384e",
   "metadata": {},
   "outputs": [
    {
     "data": {
      "text/plain": [
       "(2048,)"
      ]
     },
     "execution_count": 5,
     "metadata": {},
     "output_type": "execute_result"
    }
   ],
   "source": [
    "size(pss_2) # 2048-element Vector{Complex{Int64}}"
   ]
  },
  {
   "cell_type": "code",
   "execution_count": 6,
   "id": "f71bd3d4-db58-4a20-8c6c-2057e68a7c4f",
   "metadata": {},
   "outputs": [
    {
     "data": {
      "text/plain": [
       "(618494, 1)"
      ]
     },
     "execution_count": 6,
     "metadata": {},
     "output_type": "execute_result"
    }
   ],
   "source": [
    "c = conv(rxs3,pss_2); size( c ) # 618494×1 Matrix{ComplexF64} which is size(rxs3) + size(pss_2) - 1"
   ]
  },
  {
   "cell_type": "code",
   "execution_count": 7,
   "id": "32bafe19-2e11-438d-a02d-dd60aba0fd0c",
   "metadata": {},
   "outputs": [],
   "source": [
    "using FFTW"
   ]
  },
  {
   "cell_type": "code",
   "execution_count": 8,
   "id": "370f820a-2f18-44e8-a017-9489569c73cb",
   "metadata": {},
   "outputs": [
    {
     "data": {
      "text/plain": [
       "2048-element Vector{ComplexF64}:\n",
       "         -0.2080078125 + 0.0im\n",
       "  -0.19533502574731143 + 0.3230721102968076im\n",
       "  -0.15786652872486218 + 0.6389003004661549im\n",
       "  -0.09723172315746864 + 0.9404699801363454im\n",
       " -0.016079702245408667 + 1.2212170007831025im\n",
       "   0.08201813009450998 + 1.4752326358812593im\n",
       "    0.1926995157070901 + 1.6974451103935315im\n",
       "    0.3109722066325248 + 1.8837712265575226im\n",
       "    0.4313985259645665 + 2.031232736715916im\n",
       "    0.5482970728122275 + 2.138033414969899im\n",
       "    0.6559544109554989 + 2.2035942295621975im\n",
       "    0.7488392267749866 + 2.2285455634188436im\n",
       "    0.8218113543758939 + 2.214677013947908im\n",
       "                       ⋮\n",
       "    0.8218113543758936 - 2.2146770139479077im\n",
       "    0.7488392267749868 - 2.2285455634188445im\n",
       "    0.6559544109554993 - 2.203594229562198im\n",
       "     0.548297072812227 - 2.138033414969899im\n",
       "    0.4313985259645664 - 2.031232736715916im\n",
       "   0.31097220663252445 - 1.8837712265575226im\n",
       "   0.19269951570708987 - 1.6974451103935317im\n",
       "   0.08201813009450998 - 1.4752326358812593im\n",
       "    -0.016079702245409 - 1.2212170007831027im\n",
       "  -0.09723172315746909 - 0.940469980136345im\n",
       "  -0.15786652872486218 - 0.6389003004661549im\n",
       "  -0.19533502574731143 - 0.3230721102968075im"
      ]
     },
     "execution_count": 8,
     "metadata": {},
     "output_type": "execute_result"
    }
   ],
   "source": [
    "pss2_t = ifft(transpose.(pss_2))"
   ]
  },
  {
   "cell_type": "code",
   "execution_count": 9,
   "id": "662ddc7f-6e71-437a-872a-659c56d556db",
   "metadata": {},
   "outputs": [
    {
     "data": {
      "text/plain": [
       "(618494, 1)"
      ]
     },
     "execution_count": 9,
     "metadata": {},
     "output_type": "execute_result"
    }
   ],
   "source": [
    "c1 = conv(rxs3,pss2_t); size( c1 ) # 618494×1 Matrix{ComplexF64} which is size(rxs3) + size(pss_2) - 1"
   ]
  },
  {
   "cell_type": "code",
   "execution_count": 10,
   "id": "e413e4eb-41dc-4b52-a7ad-7d0f5eb8fa0d",
   "metadata": {},
   "outputs": [],
   "source": [
    "using LinearAlgebra"
   ]
  },
  {
   "cell_type": "code",
   "execution_count": 11,
   "id": "281e592e-edc9-4be4-b59b-b729defad99f",
   "metadata": {},
   "outputs": [
    {
     "data": {
      "text/plain": [
       "2048-element Vector{ComplexF64}:\n",
       "  -0.0023042501358027665 + 0.0im\n",
       "  -0.0021638646846751453 + 0.003578899009024025im\n",
       "  -0.0017487995565213445 + 0.007077551974705592im\n",
       "  -0.0010771047904267255 + 0.010418253302133057im\n",
       " -0.00017812627149593706 + 0.013528287260360044im\n",
       "    0.000908573024912531 + 0.016342198692994116im\n",
       "   0.0021346692698726863 + 0.018803803949152327im\n",
       "    0.003444859790369081 + 0.02086787054989348im\n",
       "    0.004778907580882163 + 0.022501406332633176im\n",
       "    0.006073875732373439 + 0.02368451322853675im\n",
       "    0.007266472457733442 + 0.024410776891963547im\n",
       "    0.008295423471129005 + 0.02468718052188796im\n",
       "    0.009103787507620219 + 0.024533548758649305im\n",
       "                         ⋮\n",
       "    0.009103787507620215 - 0.024533548758649302im\n",
       "    0.008295423471129009 - 0.02468718052188797im\n",
       "    0.007266472457733447 - 0.02441077689196355im\n",
       "    0.006073875732373433 - 0.02368451322853675im\n",
       "   0.0047789075808821625 - 0.022501406332633176im\n",
       "   0.0034448597903690777 - 0.02086787054989348im\n",
       "    0.002134669269872684 - 0.01880380394915233im\n",
       "    0.000908573024912531 - 0.016342198692994116im\n",
       " -0.00017812627149594074 - 0.013528287260360048im\n",
       "  -0.0010771047904267303 - 0.010418253302133054im\n",
       "  -0.0017487995565213445 - 0.007077551974705592im\n",
       "  -0.0021638646846751453 - 0.003578899009024024im"
      ]
     },
     "execution_count": 11,
     "metadata": {},
     "output_type": "execute_result"
    }
   ],
   "source": [
    "pss2_t ./= norm(pss2_t)"
   ]
  },
  {
   "cell_type": "code",
   "execution_count": 12,
   "id": "520e2310-1513-4cd6-8699-ffd1ca479c36",
   "metadata": {},
   "outputs": [
    {
     "data": {
      "text/plain": [
       "(618494, 1)"
      ]
     },
     "execution_count": 12,
     "metadata": {},
     "output_type": "execute_result"
    }
   ],
   "source": [
    "c3 = conv(rxs3,pss2_t); size( c3 ) # 618494×1 Matrix{ComplexF64} which is size(rxs3) + size(pss_2) - 1"
   ]
  },
  {
   "cell_type": "markdown",
   "id": "4fcc16b1-e6e8-452f-88ed-662fcf3f7dc6",
   "metadata": {},
   "source": [
    "##### The purpose of this concatenation might be related to handling circular convolution or other signal processing considerations."
   ]
  },
  {
   "cell_type": "code",
   "execution_count": 13,
   "id": "28ce1c3f-92b7-4d88-906d-a0e643a8d583",
   "metadata": {},
   "outputs": [
    {
     "data": {
      "text/plain": [
       "2192-element Vector{ComplexF64}:\n",
       "    0.012751519074768191 - 0.02284531087931751im\n",
       "     0.01415168963206857 - 0.025481177307650725im\n",
       "    0.015126719755167014 - 0.02771786183352531im\n",
       "    0.015659693565566454 - 0.02951745263621931im\n",
       "     0.01574658305351632 - 0.030856557444884004im\n",
       "    0.015395875792431566 - 0.03172673432565878im\n",
       "    0.014627819255250715 - 0.032134397660197336im\n",
       "    0.013473321256115745 - 0.032100206087740196im\n",
       "    0.011972556668638674 - 0.03165795747040671im\n",
       "    0.010173339106178755 - 0.030853033351937564im\n",
       "     0.00812932243229512 - 0.0297404512965499im\n",
       "   0.0058981006347090005 - 0.028382597350505773im\n",
       "   0.0035392756736263497 - 0.02684672216908631im\n",
       "                         ⋮\n",
       "    0.009103787507620215 - 0.024533548758649302im\n",
       "    0.008295423471129009 - 0.02468718052188797im\n",
       "    0.007266472457733447 - 0.02441077689196355im\n",
       "    0.006073875732373433 - 0.02368451322853675im\n",
       "   0.0047789075808821625 - 0.022501406332633176im\n",
       "   0.0034448597903690777 - 0.02086787054989348im\n",
       "    0.002134669269872684 - 0.01880380394915233im\n",
       "    0.000908573024912531 - 0.016342198692994116im\n",
       " -0.00017812627149594074 - 0.013528287260360048im\n",
       "  -0.0010771047904267303 - 0.010418253302133054im\n",
       "  -0.0017487995565213445 - 0.007077551974705592im\n",
       "  -0.0021638646846751453 - 0.003578899009024024im"
      ]
     },
     "execution_count": 13,
     "metadata": {},
     "output_type": "execute_result"
    }
   ],
   "source": [
    "pss2_t = vcat(pss2_t[(2048-143):2048], pss2_t) "
   ]
  },
  {
   "cell_type": "code",
   "execution_count": 14,
   "id": "1e4ab4a9-0ac7-486a-a9e3-dad1fdfe26d1",
   "metadata": {},
   "outputs": [
    {
     "data": {
      "text/plain": [
       "(618638, 1)"
      ]
     },
     "execution_count": 14,
     "metadata": {},
     "output_type": "execute_result"
    }
   ],
   "source": [
    "c4 = conv(rxs3,pss2_t); size( c4 ) # 618494×1 Matrix{ComplexF64} which is size(rxs3) + size(pss_2) - 1"
   ]
  },
  {
   "cell_type": "markdown",
   "id": "111975af-5e20-4e60-9f39-1e7a320279f5",
   "metadata": {},
   "source": [
    "# References\n",
    "\n",
    "- [ ] [Transpose vs. Adjoint?](https://discourse.julialang.org/t/transpose-vs-adjoint/69445)\n",
    "- [ ] [Convolution of Complex vectors](https://stackoverflow.com/questions/57169773/convolution-of-complex-vectors)\n",
    "- [ ] [Convolution (conv) with same size output](https://discourse.julialang.org/t/convolution-conv-with-same-size-output/38260/7)\n",
    "    - I usually expect the convolution of a length-N array and a length-M array to be length N+M-1, but that should be documented."
   ]
  },
  {
   "cell_type": "code",
   "execution_count": 16,
   "id": "181ffbe0-0616-4bd9-8ee3-93291a950670",
   "metadata": {},
   "outputs": [
    {
     "name": "stdout",
     "output_type": "stream",
     "text": [
      "a = [1, 2, 1, 2]\n",
      "b = [1, 2, 3]\n"
     ]
    }
   ],
   "source": [
    "a = [1, 2, 1, 2] \n",
    "b = [1, 2, 3]\n",
    "@show a; @show b;"
   ]
  },
  {
   "cell_type": "code",
   "execution_count": 23,
   "id": "35d9dad0-e164-47cb-904b-d0093ffd1723",
   "metadata": {},
   "outputs": [
    {
     "data": {
      "text/plain": [
       "4-element Vector{ComplexF64}:\n",
       " 1.0 + 2.9im\n",
       " 2.0 + 2.9im\n",
       " 1.0 + 2.9im\n",
       " 2.0 + 2.9im"
      ]
     },
     "execution_count": 23,
     "metadata": {},
     "output_type": "execute_result"
    }
   ],
   "source": [
    "aᵪ = @. a + 2.9im # 4-element column vector"
   ]
  },
  {
   "cell_type": "code",
   "execution_count": 24,
   "id": "d3480c9c-1284-4d5b-a472-97f908b9df4f",
   "metadata": {},
   "outputs": [
    {
     "data": {
      "text/plain": [
       "3-element Vector{ComplexF64}:\n",
       " 1.0 + 4.5im\n",
       " 2.0 + 4.5im\n",
       " 3.0 + 4.5im"
      ]
     },
     "execution_count": 24,
     "metadata": {},
     "output_type": "execute_result"
    }
   ],
   "source": [
    "bᵪ = @. b + 4.5im # 3-element column vector"
   ]
  },
  {
   "cell_type": "code",
   "execution_count": 25,
   "id": "1dfd1f2d-6486-4c8a-a82d-ea6d1271b289",
   "metadata": {},
   "outputs": [
    {
     "data": {
      "text/plain": [
       "6-element Vector{ComplexF64}:\n",
       "              -12.05 + 7.4im\n",
       " -22.099999999999998 + 22.199999999999996im\n",
       " -31.149999999999995 + 35.39999999999999im\n",
       " -29.149999999999995 + 39.89999999999999im\n",
       "               -19.1 + 28.0im\n",
       "  -7.050000000000001 + 17.699999999999996im"
      ]
     },
     "execution_count": 25,
     "metadata": {},
     "output_type": "execute_result"
    }
   ],
   "source": [
    "conv(bᵪ,aᵪ) # 6-element column vector"
   ]
  },
  {
   "cell_type": "code",
   "execution_count": 27,
   "id": "0d07eb68-bd14-4158-98bb-9b659feff39f",
   "metadata": {},
   "outputs": [
    {
     "data": {
      "text/plain": [
       "4×3 Matrix{ComplexF64}:\n",
       " -12.05+7.4im   -11.05+10.3im  -10.05+13.2im\n",
       " -11.05+11.9im   -9.05+14.8im   -7.05+17.7im\n",
       " -12.05+7.4im   -11.05+10.3im  -10.05+13.2im\n",
       " -11.05+11.9im   -9.05+14.8im   -7.05+17.7im"
      ]
     },
     "execution_count": 27,
     "metadata": {},
     "output_type": "execute_result"
    }
   ],
   "source": [
    "conv(transpose(bᵪ),aᵪ) # 4x3 Matrix"
   ]
  },
  {
   "cell_type": "code",
   "execution_count": null,
   "id": "b0e40efa-b8a1-4647-8944-a4dfa1ed6b21",
   "metadata": {},
   "outputs": [],
   "source": []
  }
 ],
 "metadata": {
  "kernelspec": {
   "display_name": "Julia 1.9.3",
   "language": "julia",
   "name": "julia-1.9"
  },
  "language_info": {
   "file_extension": ".jl",
   "mimetype": "application/julia",
   "name": "julia",
   "version": "1.9.4"
  }
 },
 "nbformat": 4,
 "nbformat_minor": 5
}
