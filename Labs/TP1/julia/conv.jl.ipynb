{
 "cells": [
  {
   "cell_type": "code",
   "execution_count": 3,
   "id": "f38a64dc-425a-4dd3-8421-e08052a0a923",
   "metadata": {},
   "outputs": [],
   "source": [
    "using DSP"
   ]
  },
  {
   "cell_type": "code",
   "execution_count": 4,
   "id": "a93e12ff-69fd-4221-a153-c0b466ad15a7",
   "metadata": {},
   "outputs": [],
   "source": [
    "include(\"rxsignal_withchannelandfreqoff.jl\");"
   ]
  },
  {
   "cell_type": "code",
   "execution_count": 5,
   "id": "e200c7d4-a631-442b-85f4-f4401516e29f",
   "metadata": {},
   "outputs": [],
   "source": [
    "include(\"pss2.jl\");"
   ]
  },
  {
   "cell_type": "code",
   "execution_count": 6,
   "id": "c1ca6164-86de-410c-8f1f-bf4442ac2ac5",
   "metadata": {},
   "outputs": [
    {
     "data": {
      "text/plain": [
       "(616447, 1)"
      ]
     },
     "execution_count": 6,
     "metadata": {},
     "output_type": "execute_result"
    }
   ],
   "source": [
    "size(rxs3) # 616447×1 Matrix{ComplexF64}"
   ]
  },
  {
   "cell_type": "markdown",
   "id": "021c8b37-a9fe-4a42-859c-63c0c13f2bee",
   "metadata": {},
   "source": [
    "$$S \\qquad \\mathbb{S}$$"
   ]
  },
  {
   "cell_type": "code",
   "execution_count": 34,
   "id": "6ed642fd-a940-4111-a28a-000fcdb2e6b7",
   "metadata": {},
   "outputs": [
    {
     "data": {
      "text/plain": [
       "ifft (generic function with 4 methods)"
      ]
     },
     "execution_count": 34,
     "metadata": {},
     "output_type": "execute_result"
    }
   ],
   "source": [
    "Ŝᵣₓ³ = rxs3 # RX Received Signal 3\n",
    "PSS₂ = pss_2;\n",
    "PSS₂ᴴ = transpose.(PSS₂); # Hessian Transpose ?\n",
    "Fᴵ = ifft # Inverse Fourier Transform"
   ]
  },
  {
   "cell_type": "code",
   "execution_count": 32,
   "id": "1b7017a8-1191-4b2f-b36a-fecb909f384e",
   "metadata": {},
   "outputs": [
    {
     "data": {
      "text/plain": [
       "(2048,)"
      ]
     },
     "execution_count": 32,
     "metadata": {},
     "output_type": "execute_result"
    }
   ],
   "source": [
    "size(PSS₂) # 2048-element Vector{Complex{Int64}}"
   ]
  },
  {
   "cell_type": "code",
   "execution_count": 35,
   "id": "f71bd3d4-db58-4a20-8c6c-2057e68a7c4f",
   "metadata": {},
   "outputs": [
    {
     "data": {
      "text/plain": [
       "(618494, 1)"
      ]
     },
     "execution_count": 35,
     "metadata": {},
     "output_type": "execute_result"
    }
   ],
   "source": [
    "c = conv(Ŝᵣₓ³,PSS₂); size( c ) # 618494×1 Matrix{ComplexF64} which is size(rxs3) + size(pss_2) - 1"
   ]
  },
  {
   "cell_type": "code",
   "execution_count": 21,
   "id": "32bafe19-2e11-438d-a02d-dd60aba0fd0c",
   "metadata": {},
   "outputs": [],
   "source": [
    "using FFTW"
   ]
  },
  {
   "cell_type": "code",
   "execution_count": 38,
   "id": "370f820a-2f18-44e8-a017-9489569c73cb",
   "metadata": {},
   "outputs": [],
   "source": [
    "𝑆ₚₛₛ² = Fᴵ(PSS₂ᴴ); # S Slanted (fourier transform) in time domain . see SSP - Spectral Descriptions"
   ]
  },
  {
   "cell_type": "code",
   "execution_count": 39,
   "id": "662ddc7f-6e71-437a-872a-659c56d556db",
   "metadata": {},
   "outputs": [
    {
     "data": {
      "text/plain": [
       "(618494, 1)"
      ]
     },
     "execution_count": 39,
     "metadata": {},
     "output_type": "execute_result"
    }
   ],
   "source": [
    "c1 = conv(Ŝᵣₓ³,𝑆ₚₛₛ²); size( c1 ) # 618494×1 Matrix{ComplexF64} which is size(rxs3) + size(pss_2) - 1"
   ]
  },
  {
   "cell_type": "code",
   "execution_count": 41,
   "id": "e413e4eb-41dc-4b52-a7ad-7d0f5eb8fa0d",
   "metadata": {},
   "outputs": [],
   "source": [
    "using LinearAlgebra"
   ]
  },
  {
   "cell_type": "code",
   "execution_count": 42,
   "id": "281e592e-edc9-4be4-b59b-b729defad99f",
   "metadata": {},
   "outputs": [
    {
     "data": {
      "text/plain": [
       "2048-element Vector{ComplexF64}:\n",
       "  -0.0023042501358027665 + 0.0im\n",
       "  -0.0021638646846751453 + 0.003578899009024025im\n",
       "  -0.0017487995565213445 + 0.007077551974705592im\n",
       "  -0.0010771047904267255 + 0.010418253302133057im\n",
       " -0.00017812627149593706 + 0.013528287260360044im\n",
       "    0.000908573024912531 + 0.016342198692994116im\n",
       "   0.0021346692698726863 + 0.018803803949152327im\n",
       "    0.003444859790369081 + 0.02086787054989348im\n",
       "    0.004778907580882163 + 0.022501406332633176im\n",
       "    0.006073875732373439 + 0.02368451322853675im\n",
       "    0.007266472457733442 + 0.024410776891963547im\n",
       "    0.008295423471129005 + 0.02468718052188796im\n",
       "    0.009103787507620219 + 0.024533548758649305im\n",
       "                         ⋮\n",
       "    0.009103787507620215 - 0.024533548758649302im\n",
       "    0.008295423471129009 - 0.02468718052188797im\n",
       "    0.007266472457733447 - 0.02441077689196355im\n",
       "    0.006073875732373433 - 0.02368451322853675im\n",
       "   0.0047789075808821625 - 0.022501406332633176im\n",
       "   0.0034448597903690777 - 0.02086787054989348im\n",
       "    0.002134669269872684 - 0.01880380394915233im\n",
       "    0.000908573024912531 - 0.016342198692994116im\n",
       " -0.00017812627149594074 - 0.013528287260360048im\n",
       "  -0.0010771047904267303 - 0.010418253302133054im\n",
       "  -0.0017487995565213445 - 0.007077551974705592im\n",
       "  -0.0021638646846751453 - 0.003578899009024024im"
      ]
     },
     "execution_count": 42,
     "metadata": {},
     "output_type": "execute_result"
    }
   ],
   "source": [
    "𝑆ₚₛₛ² ./= norm(𝑆ₚₛₛ²) "
   ]
  },
  {
   "cell_type": "code",
   "execution_count": 43,
   "id": "520e2310-1513-4cd6-8699-ffd1ca479c36",
   "metadata": {},
   "outputs": [
    {
     "data": {
      "text/plain": [
       "(618494, 1)"
      ]
     },
     "execution_count": 43,
     "metadata": {},
     "output_type": "execute_result"
    }
   ],
   "source": [
    "c3 = conv(Ŝᵣₓ³,𝑆ₚₛₛ²); size( c3 ) # 618494×1 Matrix{ComplexF64} which is size(rxs3) + size(pss_2) - 1"
   ]
  },
  {
   "cell_type": "markdown",
   "id": "4fcc16b1-e6e8-452f-88ed-662fcf3f7dc6",
   "metadata": {},
   "source": [
    "##### The purpose of this concatenation might be related to handling circular convolution or other signal processing considerations.\n",
    "end is 2048 in this case, concat math representation would be [ A B }"
   ]
  },
  {
   "cell_type": "code",
   "execution_count": 44,
   "id": "28ce1c3f-92b7-4d88-906d-a0e643a8d583",
   "metadata": {},
   "outputs": [
    {
     "data": {
      "text/plain": [
       "2192-element Vector{ComplexF64}:\n",
       "    0.012751519074768191 - 0.02284531087931751im\n",
       "     0.01415168963206857 - 0.025481177307650725im\n",
       "    0.015126719755167014 - 0.02771786183352531im\n",
       "    0.015659693565566454 - 0.02951745263621931im\n",
       "     0.01574658305351632 - 0.030856557444884004im\n",
       "    0.015395875792431566 - 0.03172673432565878im\n",
       "    0.014627819255250715 - 0.032134397660197336im\n",
       "    0.013473321256115745 - 0.032100206087740196im\n",
       "    0.011972556668638674 - 0.03165795747040671im\n",
       "    0.010173339106178755 - 0.030853033351937564im\n",
       "     0.00812932243229512 - 0.0297404512965499im\n",
       "   0.0058981006347090005 - 0.028382597350505773im\n",
       "   0.0035392756736263497 - 0.02684672216908631im\n",
       "                         ⋮\n",
       "    0.009103787507620215 - 0.024533548758649302im\n",
       "    0.008295423471129009 - 0.02468718052188797im\n",
       "    0.007266472457733447 - 0.02441077689196355im\n",
       "    0.006073875732373433 - 0.02368451322853675im\n",
       "   0.0047789075808821625 - 0.022501406332633176im\n",
       "   0.0034448597903690777 - 0.02086787054989348im\n",
       "    0.002134669269872684 - 0.01880380394915233im\n",
       "    0.000908573024912531 - 0.016342198692994116im\n",
       " -0.00017812627149594074 - 0.013528287260360048im\n",
       "  -0.0010771047904267303 - 0.010418253302133054im\n",
       "  -0.0017487995565213445 - 0.007077551974705592im\n",
       "  -0.0021638646846751453 - 0.003578899009024024im"
      ]
     },
     "execution_count": 44,
     "metadata": {},
     "output_type": "execute_result"
    }
   ],
   "source": [
    "𝑆ₚₛₛ² = vcat(𝑆ₚₛₛ²[(end-143):end], 𝑆ₚₛₛ²)  # end is 2048 in this case, concat math "
   ]
  },
  {
   "cell_type": "code",
   "execution_count": 45,
   "id": "1e4ab4a9-0ac7-486a-a9e3-dad1fdfe26d1",
   "metadata": {},
   "outputs": [
    {
     "data": {
      "text/plain": [
       "(618638, 1)"
      ]
     },
     "execution_count": 45,
     "metadata": {},
     "output_type": "execute_result"
    }
   ],
   "source": [
    "c4 = conv(Ŝᵣₓ³,𝑆ₚₛₛ²); size( c4 ) # 618494×1 Matrix{ComplexF64} which is size(rxs3) + size(pss_2) - 1"
   ]
  },
  {
   "cell_type": "markdown",
   "id": "d2be741a-4ac6-4f13-a74e-9761e9a66131",
   "metadata": {},
   "source": [
    "The equivalent Julia code for `m2_chan = 10*log(abs(conv(rxs3,conj(fliplr(pss2_t)))));` would be as follows:\n",
    "\n",
    "```julia\n",
    "m2_chan = 10 * log10(abs(conv(rxs3, conj(reverse(pss2_t)))));\n",
    "```\n",
    "\n",
    "Here's a breakdown of the Julia code:\n",
    "\n",
    "1. `reverse(pss2_t)`: This function reverses the order of elements in the vector `pss2_t`.\n",
    "\n",
    "2. `conj(reverse(pss2_t))`: This computes the complex conjugate of each element in the reversed vector.\n",
    "\n",
    "3. `conv(rxs3, conj(reverse(pss2_t)))`: This computes the convolution of the vectors `rxs3` and `conj(reverse(pss2_t))`.\n",
    "\n",
    "4. `abs(conv(rxs3, conj(reverse(pss2_t))))`: This takes the absolute values of the elements in the result of the convolution.\n",
    "\n",
    "5. `10 * log10(...)`: This scales the result by a factor of 10 and computes the logarithm base 10 of each element.\n",
    "\n",
    "The final result is stored in the variable `m2_chan`, representing the logarithmic power envelope of the convolution between the received signal `rxs3` and the complex conjugate of the time-reversed PSS signal in decibels (dB)."
   ]
  },
  {
   "cell_type": "markdown",
   "id": "24b56ded-1b0f-4110-bebb-f614067e55e3",
   "metadata": {},
   "source": [
    "The mathematical symbols for reverse and conjugate operations are not standardized across all branches of mathematics, and different notations may be used in different contexts. However, some commonly used notations are:\n",
    "\n",
    "1. **Reverse Operation:**\n",
    "$$\n",
    "\\begin{cases*}\n",
    "   - \\text { In some contexts, the reverse (or reverse order) operation is denoted by a bar or overline.}\n",
    "     \\\\\n",
    "     \\qquad \\text { For example, if } A \\text{ is a sequence or vector, the reverse of } A \\text{ might be denoted as } \\overline{A} \\text{  or } A^*.\n",
    "     \\\\\n",
    "   - \\text { In signal processing, you might also see the notation }\n",
    "     \\\\\n",
    "     \\qquad A[n] \\text { for the reverse of } A \\text {, where n is the reversal operator. }\n",
    "\\end{cases*}\n",
    "$$\n",
    "\n",
    "3. **Conjugate Operation:**\n",
    "$$\n",
    "\\begin{cases*}\n",
    "   - \\text { The conjugate of a complex number } z \\text {  is often denoted by a bar or overline. }\n",
    "     \\\\\n",
    "     \\qquad \\text { For example, if } z = a + bi \\text{ , then } \\bar{z} = a - bi.\n",
    "     \\\\\n",
    "   - \\text { In linear algebra, the conjugate transpose of a matrix }\n",
    "        A \\text { is often denoted by } A^* \\text {  or } A^H.\n",
    "\\end{cases*}\n",
    "$$\n",
    "\n",
    "If you are working within a specific mathematical context or field, it's always a good practice to refer to the conventions and notations used within that field."
   ]
  },
  {
   "cell_type": "code",
   "execution_count": 47,
   "id": "c8fe33fe-7bbd-43c2-b715-30ee39ff89cf",
   "metadata": {},
   "outputs": [
    {
     "data": {
      "text/plain": [
       "(618638, 1)"
      ]
     },
     "execution_count": 47,
     "metadata": {},
     "output_type": "execute_result"
    }
   ],
   "source": [
    "# Perform convolution\n",
    "# m2_chan = 10 * log10.(abs2.(conv(rxs3, conj(reverse(pss2_t))))); ; size( m2_chan )\n",
    "m̂₂ = 10 * log.(abs.(conv(Ŝᵣₓ³, conj(reverse(𝑆ₚₛₛ²))))); ; size( m̂₂ )"
   ]
  },
  {
   "cell_type": "code",
   "execution_count": 48,
   "id": "13baa3a6-6d78-4e3c-a49e-e1ee39b05438",
   "metadata": {},
   "outputs": [
    {
     "data": {
      "text/plain": [
       "(116.62373017984727, CartesianIndex(6628, 1))"
      ]
     },
     "execution_count": 48,
     "metadata": {},
     "output_type": "execute_result"
    }
   ],
   "source": [
    "# Find maximum value and its index\n",
    "Ĉᵩ², N̂ᵩ² = findmax(m̂₂) #; m2_chan[NF2_chan] or direct m2_chan[(6628)...] "
   ]
  },
  {
   "cell_type": "code",
   "execution_count": 49,
   "id": "882c511b-80cc-4fcc-bcb9-61d9a759734a",
   "metadata": {},
   "outputs": [],
   "source": [
    "using Plots\n",
    "\n",
    "# Plot the result\n",
    "m2_chan_plot = plot(m̂₂, xlabel=\"Sample\", ylabel=\"Power (dB)\", title=\"Convolution Result\", ylim=(-10, 120))\n",
    "savefig(m2_chan_plot,\"images/m2_chan_plot.png\");"
   ]
  },
  {
   "cell_type": "markdown",
   "id": "d96099fa-4fe6-4f2e-a1cf-7ce258390d70",
   "metadata": {},
   "source": [
    "<img src=\"images/m2_chan_plot.png\" weight='' height='' > </img>"
   ]
  },
  {
   "cell_type": "code",
   "execution_count": 51,
   "id": "a319efc5-09c9-4c70-b68c-4e62cdf674ba",
   "metadata": {},
   "outputs": [
    {
     "data": {
      "text/plain": [
       "6628"
      ]
     },
     "execution_count": 51,
     "metadata": {},
     "output_type": "execute_result"
    }
   ],
   "source": [
    "y_1 = m̂₂[CartesianIndex(6628, 1)] \n",
    "x_1 = getindex(N̂ᵩ², 1)"
   ]
  },
  {
   "cell_type": "code",
   "execution_count": 52,
   "id": "b8161d78-9e97-4edc-b52a-51c29bd5b5b0",
   "metadata": {},
   "outputs": [],
   "source": [
    "m2_chan_zoom_plot = xlims!(x_1 - 1000, x_1 + 1000)\n",
    "m2_chan_zoom_plot = ylims!(y_1 - 60, y_1 + 20)\n",
    "#scatter!(x_1, y_1, color = \"green\", label = \"\", markersize = 10)\n",
    "savefig(m2_chan_zoom_plot,\"images/m2_chan_zoom_plot.png\");"
   ]
  },
  {
   "cell_type": "markdown",
   "id": "74e637d2-b788-45f2-9ed2-f75695558678",
   "metadata": {},
   "source": [
    "<img src=\"images/m2_chan_zoom_plot.png\" weight='' height='' > </img>"
   ]
  },
  {
   "cell_type": "markdown",
   "id": "111975af-5e20-4e60-9f39-1e7a320279f5",
   "metadata": {},
   "source": [
    "# References\n",
    "\n",
    "- [ ] [Transpose vs. Adjoint?](https://discourse.julialang.org/t/transpose-vs-adjoint/69445)\n",
    "- [ ] [Convolution of Complex vectors](https://stackoverflow.com/questions/57169773/convolution-of-complex-vectors)\n",
    "- [ ] [Convolution (conv) with same size output](https://discourse.julialang.org/t/convolution-conv-with-same-size-output/38260/7)\n",
    "    - I usually expect the convolution of a length-N array and a length-M array to be length N+M-1, but that should be documented."
   ]
  },
  {
   "cell_type": "code",
   "execution_count": 21,
   "id": "181ffbe0-0616-4bd9-8ee3-93291a950670",
   "metadata": {},
   "outputs": [
    {
     "name": "stdout",
     "output_type": "stream",
     "text": [
      "a = [1, 2, 1, 2]\n",
      "b = [1, 2, 3]\n"
     ]
    }
   ],
   "source": [
    "a = [1, 2, 1, 2] \n",
    "b = [1, 2, 3]\n",
    "@show a; @show b;"
   ]
  },
  {
   "cell_type": "code",
   "execution_count": 22,
   "id": "35d9dad0-e164-47cb-904b-d0093ffd1723",
   "metadata": {},
   "outputs": [
    {
     "data": {
      "text/plain": [
       "4-element Vector{ComplexF64}:\n",
       " 1.0 + 2.9im\n",
       " 2.0 + 2.9im\n",
       " 1.0 + 2.9im\n",
       " 2.0 + 2.9im"
      ]
     },
     "execution_count": 22,
     "metadata": {},
     "output_type": "execute_result"
    }
   ],
   "source": [
    "aᵪ = @. a + 2.9im # 4-element column vector"
   ]
  },
  {
   "cell_type": "code",
   "execution_count": 23,
   "id": "d3480c9c-1284-4d5b-a472-97f908b9df4f",
   "metadata": {},
   "outputs": [
    {
     "data": {
      "text/plain": [
       "3-element Vector{ComplexF64}:\n",
       " 1.0 + 4.5im\n",
       " 2.0 + 4.5im\n",
       " 3.0 + 4.5im"
      ]
     },
     "execution_count": 23,
     "metadata": {},
     "output_type": "execute_result"
    }
   ],
   "source": [
    "bᵪ = @. b + 4.5im # 3-element column vector"
   ]
  },
  {
   "cell_type": "code",
   "execution_count": 24,
   "id": "1dfd1f2d-6486-4c8a-a82d-ea6d1271b289",
   "metadata": {},
   "outputs": [
    {
     "data": {
      "text/plain": [
       "6-element Vector{ComplexF64}:\n",
       "              -12.05 + 7.4im\n",
       " -22.099999999999998 + 22.199999999999996im\n",
       " -31.149999999999995 + 35.39999999999999im\n",
       " -29.149999999999995 + 39.89999999999999im\n",
       "               -19.1 + 28.0im\n",
       "  -7.050000000000001 + 17.699999999999996im"
      ]
     },
     "execution_count": 24,
     "metadata": {},
     "output_type": "execute_result"
    }
   ],
   "source": [
    "conv(bᵪ,aᵪ) # 6-element column vector"
   ]
  },
  {
   "cell_type": "code",
   "execution_count": 25,
   "id": "0d07eb68-bd14-4158-98bb-9b659feff39f",
   "metadata": {},
   "outputs": [
    {
     "data": {
      "text/plain": [
       "4×3 Matrix{ComplexF64}:\n",
       " -12.05+7.4im   -11.05+10.3im  -10.05+13.2im\n",
       " -11.05+11.9im   -9.05+14.8im   -7.05+17.7im\n",
       " -12.05+7.4im   -11.05+10.3im  -10.05+13.2im\n",
       " -11.05+11.9im   -9.05+14.8im   -7.05+17.7im"
      ]
     },
     "execution_count": 25,
     "metadata": {},
     "output_type": "execute_result"
    }
   ],
   "source": [
    "conv(transpose(bᵪ),aᵪ) # 4x3 Matrix"
   ]
  },
  {
   "cell_type": "code",
   "execution_count": null,
   "id": "b0e40efa-b8a1-4647-8944-a4dfa1ed6b21",
   "metadata": {},
   "outputs": [],
   "source": []
  }
 ],
 "metadata": {
  "kernelspec": {
   "display_name": "Julia 1.9.3",
   "language": "julia",
   "name": "julia-1.9"
  },
  "language_info": {
   "file_extension": ".jl",
   "mimetype": "application/julia",
   "name": "julia",
   "version": "1.9.4"
  }
 },
 "nbformat": 4,
 "nbformat_minor": 5
}
