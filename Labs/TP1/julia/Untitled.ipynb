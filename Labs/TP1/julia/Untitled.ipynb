{
 "cells": [
  {
   "cell_type": "markdown",
   "id": "4f8f9f75-543c-4494-8a8e-1da6add53103",
   "metadata": {},
   "source": [
    "# Channel Estimation"
   ]
  },
  {
   "cell_type": "code",
   "execution_count": null,
   "id": "35a52868-4ec2-4eec-a553-07de90e9502f",
   "metadata": {},
   "outputs": [],
   "source": []
  }
 ],
 "metadata": {
  "kernelspec": {
   "display_name": "Julia 1.9.3",
   "language": "julia",
   "name": "julia-1.9"
  },
  "language_info": {
   "file_extension": ".jl",
   "mimetype": "application/julia",
   "name": "julia",
   "version": "1.9.4"
  }
 },
 "nbformat": 4,
 "nbformat_minor": 5
}
