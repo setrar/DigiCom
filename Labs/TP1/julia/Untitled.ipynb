{
 "cells": [
  {
   "cell_type": "markdown",
   "id": "6b60ee30-f40a-48cd-b02d-6aa50ba5852a",
   "metadata": {},
   "source": [
    "# Periodogram"
   ]
  },
  {
   "cell_type": "code",
   "execution_count": 1,
   "id": "f6f7930a-5419-46c5-9374-1084f5b5fa5f",
   "metadata": {},
   "outputs": [],
   "source": [
    "include(\"rxsignal_justnoise.jl\");"
   ]
  },
  {
   "cell_type": "code",
   "execution_count": 5,
   "id": "b151b77c-e9a0-40a9-9850-acd5c6e1e928",
   "metadata": {},
   "outputs": [],
   "source": [
    "# RX Received Signal 3\n",
    " Ŝᵣₓ⁰ = rxs0;"
   ]
  },
  {
   "cell_type": "markdown",
   "id": "5166cf3a-a26f-4be4-989a-b3141f9149b0",
   "metadata": {},
   "source": [
    "```matlab\n",
    "plot (10*log10(abs(fftshift(fft(rxs0)))))\n",
    "```"
   ]
  },
  {
   "cell_type": "code",
   "execution_count": 7,
   "id": "0e3348b5-6548-4933-9ea8-b86de99b8b59",
   "metadata": {},
   "outputs": [
    {
     "data": {
      "text/plain": [
       "ifft (generic function with 4 methods)"
      ]
     },
     "execution_count": 7,
     "metadata": {},
     "output_type": "execute_result"
    }
   ],
   "source": [
    "using FFTW\n",
    "\n",
    "# Some Math tools\n",
    "# Inverse Fourier Transform function\n",
    "Fᴵ = ifft \n"
   ]
  },
  {
   "cell_type": "code",
   "execution_count": null,
   "id": "f5652f66-c75f-4f24-a13a-e22207659be3",
   "metadata": {},
   "outputs": [],
   "source": []
  }
 ],
 "metadata": {
  "kernelspec": {
   "display_name": "Julia 1.9.3",
   "language": "julia",
   "name": "julia-1.9"
  },
  "language_info": {
   "file_extension": ".jl",
   "mimetype": "application/julia",
   "name": "julia",
   "version": "1.9.4"
  }
 },
 "nbformat": 4,
 "nbformat_minor": 5
}
